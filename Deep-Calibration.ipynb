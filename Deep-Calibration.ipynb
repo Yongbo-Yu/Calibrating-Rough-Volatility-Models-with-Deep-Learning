{
 "cells": [
  {
   "cell_type": "markdown",
   "metadata": {},
   "source": [
    "# Load synthetic data"
   ]
  },
  {
   "cell_type": "code",
   "execution_count": 60,
   "metadata": {},
   "outputs": [],
   "source": [
    "import numpy as np\n",
    "import pandas as pd\n",
    "import matplotlib.pyplot as plt"
   ]
  },
  {
   "cell_type": "code",
   "execution_count": 52,
   "metadata": {},
   "outputs": [],
   "source": [
    "class FeatureScaler(object):\n",
    "    def __init__(self, train):\n",
    "        self.mean = train.mean(axis=0)\n",
    "        self.std = train.std(axis=0)\n",
    "    \n",
    "    def transform(self, df):\n",
    "        return (df - self.mean) / self.std\n",
    "    \n",
    "    def inverse_transform(self, df):\n",
    "        return df * self.std + self.mean\n",
    "    \n",
    "    def get_params(self):\n",
    "        return self.mean, self.std"
   ]
  },
  {
   "cell_type": "code",
   "execution_count": 61,
   "metadata": {},
   "outputs": [],
   "source": [
    "train = pd.read_csv(\"./data/heston/train.csv\")\n",
    "val = pd.read_csv(\"./data/heston/val.csv\")\n",
    "test = pd.read_csv(\"./data/heston/test.csv\")"
   ]
  },
  {
   "cell_type": "code",
   "execution_count": 62,
   "metadata": {},
   "outputs": [
    {
     "data": {
      "text/plain": [
       "((900000, 8), (45000, 8), (54411, 8))"
      ]
     },
     "execution_count": 62,
     "metadata": {},
     "output_type": "execute_result"
    }
   ],
   "source": [
    "train.shape, val.shape, test.shape"
   ]
  },
  {
   "cell_type": "code",
   "execution_count": 63,
   "metadata": {},
   "outputs": [
    {
     "data": {
      "text/html": [
       "<div>\n",
       "<style scoped>\n",
       "    .dataframe tbody tr th:only-of-type {\n",
       "        vertical-align: middle;\n",
       "    }\n",
       "\n",
       "    .dataframe tbody tr th {\n",
       "        vertical-align: top;\n",
       "    }\n",
       "\n",
       "    .dataframe thead th {\n",
       "        text-align: right;\n",
       "    }\n",
       "</style>\n",
       "<table border=\"1\" class=\"dataframe\">\n",
       "  <thead>\n",
       "    <tr style=\"text-align: right;\">\n",
       "      <th></th>\n",
       "      <th>Moneyness</th>\n",
       "      <th>Time to Maturity (years)</th>\n",
       "      <th>lambda</th>\n",
       "      <th>vbar</th>\n",
       "      <th>eta</th>\n",
       "      <th>rho</th>\n",
       "      <th>v0</th>\n",
       "      <th>iv</th>\n",
       "    </tr>\n",
       "  </thead>\n",
       "  <tbody>\n",
       "    <tr>\n",
       "      <th>0</th>\n",
       "      <td>0.820165</td>\n",
       "      <td>0.219184</td>\n",
       "      <td>5.488135</td>\n",
       "      <td>0.689556</td>\n",
       "      <td>3.947543</td>\n",
       "      <td>-0.586746</td>\n",
       "      <td>0.164776</td>\n",
       "      <td>0.637411</td>\n",
       "    </tr>\n",
       "    <tr>\n",
       "      <th>1</th>\n",
       "      <td>0.926490</td>\n",
       "      <td>0.212487</td>\n",
       "      <td>7.151894</td>\n",
       "      <td>0.974517</td>\n",
       "      <td>1.495094</td>\n",
       "      <td>-0.407660</td>\n",
       "      <td>0.337974</td>\n",
       "      <td>0.800476</td>\n",
       "    </tr>\n",
       "    <tr>\n",
       "      <th>2</th>\n",
       "      <td>0.834318</td>\n",
       "      <td>0.190719</td>\n",
       "      <td>6.027634</td>\n",
       "      <td>0.808059</td>\n",
       "      <td>4.635460</td>\n",
       "      <td>-0.903236</td>\n",
       "      <td>0.203675</td>\n",
       "      <td>0.693484</td>\n",
       "    </tr>\n",
       "    <tr>\n",
       "      <th>3</th>\n",
       "      <td>1.053977</td>\n",
       "      <td>0.226441</td>\n",
       "      <td>5.448832</td>\n",
       "      <td>0.180819</td>\n",
       "      <td>4.405048</td>\n",
       "      <td>-0.373840</td>\n",
       "      <td>0.979871</td>\n",
       "      <td>0.662078</td>\n",
       "    </tr>\n",
       "    <tr>\n",
       "      <th>4</th>\n",
       "      <td>0.802749</td>\n",
       "      <td>0.208923</td>\n",
       "      <td>4.236548</td>\n",
       "      <td>0.855412</td>\n",
       "      <td>0.250227</td>\n",
       "      <td>-0.108893</td>\n",
       "      <td>0.200594</td>\n",
       "      <td>0.648292</td>\n",
       "    </tr>\n",
       "  </tbody>\n",
       "</table>\n",
       "</div>"
      ],
      "text/plain": [
       "   Moneyness  Time to Maturity (years)    lambda      vbar       eta  \\\n",
       "0   0.820165                  0.219184  5.488135  0.689556  3.947543   \n",
       "1   0.926490                  0.212487  7.151894  0.974517  1.495094   \n",
       "2   0.834318                  0.190719  6.027634  0.808059  4.635460   \n",
       "3   1.053977                  0.226441  5.448832  0.180819  4.405048   \n",
       "4   0.802749                  0.208923  4.236548  0.855412  0.250227   \n",
       "\n",
       "        rho        v0        iv  \n",
       "0 -0.586746  0.164776  0.637411  \n",
       "1 -0.407660  0.337974  0.800476  \n",
       "2 -0.903236  0.203675  0.693484  \n",
       "3 -0.373840  0.979871  0.662078  \n",
       "4 -0.108893  0.200594  0.648292  "
      ]
     },
     "execution_count": 63,
     "metadata": {},
     "output_type": "execute_result"
    }
   ],
   "source": [
    "train.head()"
   ]
  },
  {
   "cell_type": "code",
   "execution_count": 72,
   "metadata": {},
   "outputs": [],
   "source": [
    "X_train_origin, Y_train = train.iloc[:, :-1], train.iloc[:, -1]\n",
    "X_val_origin, Y_val = val.iloc[:, :-1], val.iloc[:, -1]\n",
    "X_test_origin, Y_test = test.iloc[:, :-1], test.iloc[:, -1]"
   ]
  },
  {
   "cell_type": "code",
   "execution_count": 73,
   "metadata": {},
   "outputs": [
    {
     "data": {
      "text/html": [
       "<div>\n",
       "<style scoped>\n",
       "    .dataframe tbody tr th:only-of-type {\n",
       "        vertical-align: middle;\n",
       "    }\n",
       "\n",
       "    .dataframe tbody tr th {\n",
       "        vertical-align: top;\n",
       "    }\n",
       "\n",
       "    .dataframe thead th {\n",
       "        text-align: right;\n",
       "    }\n",
       "</style>\n",
       "<table border=\"1\" class=\"dataframe\">\n",
       "  <thead>\n",
       "    <tr style=\"text-align: right;\">\n",
       "      <th></th>\n",
       "      <th>Moneyness</th>\n",
       "      <th>Time to Maturity (years)</th>\n",
       "      <th>lambda</th>\n",
       "      <th>vbar</th>\n",
       "      <th>eta</th>\n",
       "      <th>rho</th>\n",
       "      <th>v0</th>\n",
       "    </tr>\n",
       "  </thead>\n",
       "  <tbody>\n",
       "    <tr>\n",
       "      <th>0</th>\n",
       "      <td>0.820165</td>\n",
       "      <td>0.219184</td>\n",
       "      <td>5.488135</td>\n",
       "      <td>0.689556</td>\n",
       "      <td>3.947543</td>\n",
       "      <td>-0.586746</td>\n",
       "      <td>0.164776</td>\n",
       "    </tr>\n",
       "    <tr>\n",
       "      <th>1</th>\n",
       "      <td>0.926490</td>\n",
       "      <td>0.212487</td>\n",
       "      <td>7.151894</td>\n",
       "      <td>0.974517</td>\n",
       "      <td>1.495094</td>\n",
       "      <td>-0.407660</td>\n",
       "      <td>0.337974</td>\n",
       "    </tr>\n",
       "    <tr>\n",
       "      <th>2</th>\n",
       "      <td>0.834318</td>\n",
       "      <td>0.190719</td>\n",
       "      <td>6.027634</td>\n",
       "      <td>0.808059</td>\n",
       "      <td>4.635460</td>\n",
       "      <td>-0.903236</td>\n",
       "      <td>0.203675</td>\n",
       "    </tr>\n",
       "    <tr>\n",
       "      <th>3</th>\n",
       "      <td>1.053977</td>\n",
       "      <td>0.226441</td>\n",
       "      <td>5.448832</td>\n",
       "      <td>0.180819</td>\n",
       "      <td>4.405048</td>\n",
       "      <td>-0.373840</td>\n",
       "      <td>0.979871</td>\n",
       "    </tr>\n",
       "    <tr>\n",
       "      <th>4</th>\n",
       "      <td>0.802749</td>\n",
       "      <td>0.208923</td>\n",
       "      <td>4.236548</td>\n",
       "      <td>0.855412</td>\n",
       "      <td>0.250227</td>\n",
       "      <td>-0.108893</td>\n",
       "      <td>0.200594</td>\n",
       "    </tr>\n",
       "  </tbody>\n",
       "</table>\n",
       "</div>"
      ],
      "text/plain": [
       "   Moneyness  Time to Maturity (years)    lambda      vbar       eta  \\\n",
       "0   0.820165                  0.219184  5.488135  0.689556  3.947543   \n",
       "1   0.926490                  0.212487  7.151894  0.974517  1.495094   \n",
       "2   0.834318                  0.190719  6.027634  0.808059  4.635460   \n",
       "3   1.053977                  0.226441  5.448832  0.180819  4.405048   \n",
       "4   0.802749                  0.208923  4.236548  0.855412  0.250227   \n",
       "\n",
       "        rho        v0  \n",
       "0 -0.586746  0.164776  \n",
       "1 -0.407660  0.337974  \n",
       "2 -0.903236  0.203675  \n",
       "3 -0.373840  0.979871  \n",
       "4 -0.108893  0.200594  "
      ]
     },
     "execution_count": 73,
     "metadata": {},
     "output_type": "execute_result"
    }
   ],
   "source": [
    "X_train_origin.head()"
   ]
  },
  {
   "cell_type": "code",
   "execution_count": 74,
   "metadata": {},
   "outputs": [
    {
     "data": {
      "text/plain": [
       "0    0.637411\n",
       "1    0.800476\n",
       "2    0.693484\n",
       "3    0.662078\n",
       "4    0.648292\n",
       "Name: iv, dtype: float64"
      ]
     },
     "execution_count": 74,
     "metadata": {},
     "output_type": "execute_result"
    }
   ],
   "source": [
    "Y_train.head()"
   ]
  },
  {
   "cell_type": "code",
   "execution_count": 75,
   "metadata": {},
   "outputs": [],
   "source": [
    "SCALER = FeatureScaler(X_train_origin)\n",
    "X_train = SCALER.transform(X_train_origin)\n",
    "X_val = SCALER.transform(X_val_origin)\n",
    "X_test = SCALER.transform(X_test_origin)"
   ]
  },
  {
   "cell_type": "code",
   "execution_count": 76,
   "metadata": {},
   "outputs": [
    {
     "data": {
      "text/plain": [
       "(900000, 7)"
      ]
     },
     "execution_count": 76,
     "metadata": {},
     "output_type": "execute_result"
    }
   ],
   "source": [
    "X_train.shape"
   ]
  },
  {
   "cell_type": "code",
   "execution_count": 77,
   "metadata": {},
   "outputs": [
    {
     "data": {
      "text/html": [
       "<div>\n",
       "<style scoped>\n",
       "    .dataframe tbody tr th:only-of-type {\n",
       "        vertical-align: middle;\n",
       "    }\n",
       "\n",
       "    .dataframe tbody tr th {\n",
       "        vertical-align: top;\n",
       "    }\n",
       "\n",
       "    .dataframe thead th {\n",
       "        text-align: right;\n",
       "    }\n",
       "</style>\n",
       "<table border=\"1\" class=\"dataframe\">\n",
       "  <thead>\n",
       "    <tr style=\"text-align: right;\">\n",
       "      <th></th>\n",
       "      <th>Moneyness</th>\n",
       "      <th>Time to Maturity (years)</th>\n",
       "      <th>lambda</th>\n",
       "      <th>vbar</th>\n",
       "      <th>eta</th>\n",
       "      <th>rho</th>\n",
       "      <th>v0</th>\n",
       "    </tr>\n",
       "  </thead>\n",
       "  <tbody>\n",
       "    <tr>\n",
       "      <th>0</th>\n",
       "      <td>-0.530693</td>\n",
       "      <td>0.286911</td>\n",
       "      <td>0.167947</td>\n",
       "      <td>0.656690</td>\n",
       "      <td>1.003634</td>\n",
       "      <td>-0.300329</td>\n",
       "      <td>-1.160759</td>\n",
       "    </tr>\n",
       "    <tr>\n",
       "      <th>1</th>\n",
       "      <td>0.514788</td>\n",
       "      <td>0.109327</td>\n",
       "      <td>0.744250</td>\n",
       "      <td>1.643183</td>\n",
       "      <td>-0.697421</td>\n",
       "      <td>0.320141</td>\n",
       "      <td>-0.560954</td>\n",
       "    </tr>\n",
       "    <tr>\n",
       "      <th>2</th>\n",
       "      <td>-0.391527</td>\n",
       "      <td>-0.467833</td>\n",
       "      <td>0.354822</td>\n",
       "      <td>1.066931</td>\n",
       "      <td>1.480784</td>\n",
       "      <td>-1.396858</td>\n",
       "      <td>-1.026048</td>\n",
       "    </tr>\n",
       "    <tr>\n",
       "      <th>3</th>\n",
       "      <td>1.768363</td>\n",
       "      <td>0.479322</td>\n",
       "      <td>0.154333</td>\n",
       "      <td>-1.104483</td>\n",
       "      <td>1.320966</td>\n",
       "      <td>0.437315</td>\n",
       "      <td>1.662005</td>\n",
       "    </tr>\n",
       "    <tr>\n",
       "      <th>4</th>\n",
       "      <td>-0.701950</td>\n",
       "      <td>0.014838</td>\n",
       "      <td>-0.265584</td>\n",
       "      <td>1.230858</td>\n",
       "      <td>-1.560880</td>\n",
       "      <td>1.355263</td>\n",
       "      <td>-1.036718</td>\n",
       "    </tr>\n",
       "  </tbody>\n",
       "</table>\n",
       "</div>"
      ],
      "text/plain": [
       "   Moneyness  Time to Maturity (years)    lambda      vbar       eta  \\\n",
       "0  -0.530693                  0.286911  0.167947  0.656690  1.003634   \n",
       "1   0.514788                  0.109327  0.744250  1.643183 -0.697421   \n",
       "2  -0.391527                 -0.467833  0.354822  1.066931  1.480784   \n",
       "3   1.768363                  0.479322  0.154333 -1.104483  1.320966   \n",
       "4  -0.701950                  0.014838 -0.265584  1.230858 -1.560880   \n",
       "\n",
       "        rho        v0  \n",
       "0 -0.300329 -1.160759  \n",
       "1  0.320141 -0.560954  \n",
       "2 -1.396858 -1.026048  \n",
       "3  0.437315  1.662005  \n",
       "4  1.355263 -1.036718  "
      ]
     },
     "execution_count": 77,
     "metadata": {},
     "output_type": "execute_result"
    }
   ],
   "source": [
    "X_train.head()"
   ]
  },
  {
   "cell_type": "markdown",
   "metadata": {},
   "source": [
    "# Neural Network"
   ]
  },
  {
   "cell_type": "code",
   "execution_count": null,
   "metadata": {},
   "outputs": [],
   "source": []
  },
  {
   "cell_type": "code",
   "execution_count": null,
   "metadata": {},
   "outputs": [],
   "source": []
  },
  {
   "cell_type": "code",
   "execution_count": null,
   "metadata": {},
   "outputs": [],
   "source": []
  },
  {
   "cell_type": "markdown",
   "metadata": {},
   "source": [
    "A neural network returns both the predicted IV value, and corresponding Jacobian matrix"
   ]
  },
  {
   "cell_type": "code",
   "execution_count": null,
   "metadata": {},
   "outputs": [],
   "source": []
  },
  {
   "cell_type": "markdown",
   "metadata": {},
   "source": [
    "# Deep Calibration"
   ]
  },
  {
   "cell_type": "code",
   "execution_count": 80,
   "metadata": {},
   "outputs": [],
   "source": [
    "from scipy.stats import truncnorm\n",
    "\n",
    "def model_parameters_initializer(model='heston', random_seed=None):\n",
    "    if model == 'heston':\n",
    "        params = [\n",
    "            5 * np.random.rand(), # eta\n",
    "            -1 * np.random.rand(), # rho\n",
    "            10 * np.random.rand(), # lambda\n",
    "            np.random.rand(), # vbar\n",
    "            np.random.rand() #v0\n",
    "        ]\n",
    "        names = ['eta', 'rho', 'lambda', 'vbar', 'v0']\n",
    "    elif model == 'rbergomi' or model == 'rBergomi':\n",
    "        params = [\n",
    "            truncnorm(-3, 3, 2.5, 0.5), # eta\n",
    "            truncnorm(-0.25, 2.25, -0.95, 0.2), # rho\n",
    "            truncnorm(-1.2, 8.6, 0.07, 0.05), # H\n",
    "            truncnorm(-2.5, 7, 0.3, 0.1) # v0\n",
    "        ]\n",
    "        names = ['eta', 'rho', 'H', 'v0']\n",
    "    return params, names"
   ]
  },
  {
   "cell_type": "code",
   "execution_count": 8,
   "metadata": {},
   "outputs": [],
   "source": [
    "def deep_calibration(nn, weights, market_quotes, model='heston', lambd_init=1.0, beta0=0.1, beta1=0.5, max_iter=1000, tol=1e-3):\n",
    "    # initialize\n",
    "    params, param_names = model_parameters_initializer(model)\n",
    "    lambd = lambd_init\n",
    "    n_params = len(params)\n",
    "    W = np.diag(weights)\n",
    "    I = np.eye(n_params)\n",
    "    n = 0\n",
    "    # predict\n",
    "    R = nn.predict(...) - Q # TODO\n",
    "    J = None # TODO\n",
    "    J_W = J.T.dot(W)\n",
    "    delta_mu = np.linalg.pinv(J_W.dot(J) + lambd * I).dot(J_W.dot(R)) # vector size: [m, ]\n",
    "    while n < max_iter and np.linalg.norm(delta_mu) > tol:\n",
    "        mu_new = mu + delta_mu\n",
    "        R_new = nn.predict(...) - Q # TODO\n",
    "        R_norm = np.linalg.norm(R)\n",
    "        c_mu = (R_norm - np.linalg.norm(R_new)) / (R_norm - np.linalg.norm(R + J.dot(delta_mu)))\n",
    "        if c_mu <= beta0:\n",
    "            # reject delta_mu\n",
    "            lambd *= 2 # too slow, use greater lambd\n",
    "        else:\n",
    "            # accept delta_mu\n",
    "            mu += delta_mu\n",
    "            R = R_new\n",
    "            J = None # TODO\n",
    "            J_W = J.T.dot(W)\n",
    "        if c_mu >= beta1:\n",
    "            lambd /= 2 # too quick, use smaller lambd\n",
    "        delta_mu = np.linalg.pinv(J_W.dot(J) + lambd * I).dot(J_W.dot(R)) # vector size: [m, ]\n",
    "        n += 1\n",
    "    return dict(zip(param_names, mu))"
   ]
  },
  {
   "cell_type": "code",
   "execution_count": null,
   "metadata": {},
   "outputs": [],
   "source": []
  },
  {
   "cell_type": "code",
   "execution_count": null,
   "metadata": {},
   "outputs": [],
   "source": []
  }
 ],
 "metadata": {
  "kernelspec": {
   "display_name": "Python 3",
   "language": "python",
   "name": "python3"
  },
  "language_info": {
   "codemirror_mode": {
    "name": "ipython",
    "version": 3
   },
   "file_extension": ".py",
   "mimetype": "text/x-python",
   "name": "python",
   "nbconvert_exporter": "python",
   "pygments_lexer": "ipython3",
   "version": "3.6.8"
  }
 },
 "nbformat": 4,
 "nbformat_minor": 2
}
