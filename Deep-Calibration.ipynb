{
 "cells": [
  {
   "cell_type": "markdown",
   "metadata": {},
   "source": [
    "# Generating synthetic data"
   ]
  },
  {
   "cell_type": "code",
   "execution_count": 11,
   "metadata": {},
   "outputs": [],
   "source": [
    "import numpy as np\n",
    "import pandas as pd\n",
    "import matplotlib.pyplot as plt\n",
    "from sklearn.preprocessing import StandardScaler"
   ]
  },
  {
   "cell_type": "code",
   "execution_count": 4,
   "metadata": {},
   "outputs": [],
   "source": [
    "def feature_scaling(X_train, *X_others):\n",
    "    scaler = StandardScaler()\n",
    "    X_train_scaled = scaler.fit_transform(X_train)\n",
    "    scaled = [X_train_scaled]\n",
    "    for X in X_others:\n",
    "        scaled.append(scaler.transform(X))\n",
    "    return scaled"
   ]
  },
  {
   "cell_type": "code",
   "execution_count": 2,
   "metadata": {},
   "outputs": [],
   "source": [
    "data = pd.read_csv(\"./data/rBergomi/labled_data_all_0.csv\")"
   ]
  },
  {
   "cell_type": "code",
   "execution_count": 3,
   "metadata": {},
   "outputs": [
    {
     "data": {
      "text/html": [
       "<div>\n",
       "<style scoped>\n",
       "    .dataframe tbody tr th:only-of-type {\n",
       "        vertical-align: middle;\n",
       "    }\n",
       "\n",
       "    .dataframe tbody tr th {\n",
       "        vertical-align: top;\n",
       "    }\n",
       "\n",
       "    .dataframe thead th {\n",
       "        text-align: right;\n",
       "    }\n",
       "</style>\n",
       "<table border=\"1\" class=\"dataframe\">\n",
       "  <thead>\n",
       "    <tr style=\"text-align: right;\">\n",
       "      <th></th>\n",
       "      <th>Moneyness</th>\n",
       "      <th>Time to Maturity (years)</th>\n",
       "      <th>H</th>\n",
       "      <th>eta</th>\n",
       "      <th>rho</th>\n",
       "      <th>v0</th>\n",
       "      <th>iv</th>\n",
       "    </tr>\n",
       "  </thead>\n",
       "  <tbody>\n",
       "    <tr>\n",
       "      <th>0</th>\n",
       "      <td>0.820165</td>\n",
       "      <td>0.219184</td>\n",
       "      <td>0.081945</td>\n",
       "      <td>2.255543</td>\n",
       "      <td>-0.684322</td>\n",
       "      <td>0.241298</td>\n",
       "      <td>0.523130</td>\n",
       "    </tr>\n",
       "    <tr>\n",
       "      <th>1</th>\n",
       "      <td>0.926490</td>\n",
       "      <td>0.212487</td>\n",
       "      <td>0.024855</td>\n",
       "      <td>2.523325</td>\n",
       "      <td>-0.639780</td>\n",
       "      <td>0.368089</td>\n",
       "      <td>0.538562</td>\n",
       "    </tr>\n",
       "    <tr>\n",
       "      <th>2</th>\n",
       "      <td>0.834318</td>\n",
       "      <td>0.190719</td>\n",
       "      <td>0.080699</td>\n",
       "      <td>2.844218</td>\n",
       "      <td>-0.865874</td>\n",
       "      <td>0.495959</td>\n",
       "      <td>0.648789</td>\n",
       "    </tr>\n",
       "    <tr>\n",
       "      <th>3</th>\n",
       "      <td>1.053977</td>\n",
       "      <td>0.226441</td>\n",
       "      <td>0.145114</td>\n",
       "      <td>2.459598</td>\n",
       "      <td>-0.662612</td>\n",
       "      <td>0.303747</td>\n",
       "      <td>0.406144</td>\n",
       "    </tr>\n",
       "    <tr>\n",
       "      <th>4</th>\n",
       "      <td>0.802749</td>\n",
       "      <td>0.208923</td>\n",
       "      <td>0.106086</td>\n",
       "      <td>2.420046</td>\n",
       "      <td>-0.504125</td>\n",
       "      <td>0.201463</td>\n",
       "      <td>0.493122</td>\n",
       "    </tr>\n",
       "  </tbody>\n",
       "</table>\n",
       "</div>"
      ],
      "text/plain": [
       "   Moneyness  Time to Maturity (years)         H       eta       rho  \\\n",
       "0   0.820165                  0.219184  0.081945  2.255543 -0.684322   \n",
       "1   0.926490                  0.212487  0.024855  2.523325 -0.639780   \n",
       "2   0.834318                  0.190719  0.080699  2.844218 -0.865874   \n",
       "3   1.053977                  0.226441  0.145114  2.459598 -0.662612   \n",
       "4   0.802749                  0.208923  0.106086  2.420046 -0.504125   \n",
       "\n",
       "         v0        iv  \n",
       "0  0.241298  0.523130  \n",
       "1  0.368089  0.538562  \n",
       "2  0.495959  0.648789  \n",
       "3  0.303747  0.406144  \n",
       "4  0.201463  0.493122  "
      ]
     },
     "execution_count": 3,
     "metadata": {},
     "output_type": "execute_result"
    }
   ],
   "source": [
    "data.head()"
   ]
  },
  {
   "cell_type": "code",
   "execution_count": 4,
   "metadata": {},
   "outputs": [
    {
     "data": {
      "text/html": [
       "<div>\n",
       "<style scoped>\n",
       "    .dataframe tbody tr th:only-of-type {\n",
       "        vertical-align: middle;\n",
       "    }\n",
       "\n",
       "    .dataframe tbody tr th {\n",
       "        vertical-align: top;\n",
       "    }\n",
       "\n",
       "    .dataframe thead th {\n",
       "        text-align: right;\n",
       "    }\n",
       "</style>\n",
       "<table border=\"1\" class=\"dataframe\">\n",
       "  <thead>\n",
       "    <tr style=\"text-align: right;\">\n",
       "      <th></th>\n",
       "      <th>Moneyness</th>\n",
       "      <th>Time to Maturity (years)</th>\n",
       "      <th>H</th>\n",
       "      <th>eta</th>\n",
       "      <th>rho</th>\n",
       "      <th>v0</th>\n",
       "      <th>iv</th>\n",
       "    </tr>\n",
       "  </thead>\n",
       "  <tbody>\n",
       "    <tr>\n",
       "      <th>0</th>\n",
       "      <td>0.833889</td>\n",
       "      <td>0.167013</td>\n",
       "      <td>0.020072</td>\n",
       "      <td>2.964742</td>\n",
       "      <td>-0.795204</td>\n",
       "      <td>0.404048</td>\n",
       "      <td>0.577495</td>\n",
       "    </tr>\n",
       "    <tr>\n",
       "      <th>1</th>\n",
       "      <td>0.962248</td>\n",
       "      <td>0.180247</td>\n",
       "      <td>0.047618</td>\n",
       "      <td>2.818493</td>\n",
       "      <td>-0.753436</td>\n",
       "      <td>0.314545</td>\n",
       "      <td>0.459118</td>\n",
       "    </tr>\n",
       "    <tr>\n",
       "      <th>2</th>\n",
       "      <td>0.903272</td>\n",
       "      <td>0.228407</td>\n",
       "      <td>0.076439</td>\n",
       "      <td>2.684975</td>\n",
       "      <td>-0.902011</td>\n",
       "      <td>0.230565</td>\n",
       "      <td>0.442509</td>\n",
       "    </tr>\n",
       "    <tr>\n",
       "      <th>3</th>\n",
       "      <td>0.794328</td>\n",
       "      <td>0.219123</td>\n",
       "      <td>0.107098</td>\n",
       "      <td>2.667112</td>\n",
       "      <td>-0.926303</td>\n",
       "      <td>0.283869</td>\n",
       "      <td>0.565221</td>\n",
       "    </tr>\n",
       "    <tr>\n",
       "      <th>4</th>\n",
       "      <td>0.934002</td>\n",
       "      <td>0.246055</td>\n",
       "      <td>0.051442</td>\n",
       "      <td>2.094987</td>\n",
       "      <td>-0.997330</td>\n",
       "      <td>0.298036</td>\n",
       "      <td>0.494854</td>\n",
       "    </tr>\n",
       "  </tbody>\n",
       "</table>\n",
       "</div>"
      ],
      "text/plain": [
       "   Moneyness  Time to Maturity (years)         H       eta       rho  \\\n",
       "0   0.833889                  0.167013  0.020072  2.964742 -0.795204   \n",
       "1   0.962248                  0.180247  0.047618  2.818493 -0.753436   \n",
       "2   0.903272                  0.228407  0.076439  2.684975 -0.902011   \n",
       "3   0.794328                  0.219123  0.107098  2.667112 -0.926303   \n",
       "4   0.934002                  0.246055  0.051442  2.094987 -0.997330   \n",
       "\n",
       "         v0        iv  \n",
       "0  0.404048  0.577495  \n",
       "1  0.314545  0.459118  \n",
       "2  0.230565  0.442509  \n",
       "3  0.283869  0.565221  \n",
       "4  0.298036  0.494854  "
      ]
     },
     "execution_count": 4,
     "metadata": {},
     "output_type": "execute_result"
    }
   ],
   "source": [
    "data1 = pd.read_csv(\"./data/rBergomi/labled_data_all_1.csv\")\n",
    "data1.head()"
   ]
  },
  {
   "cell_type": "code",
   "execution_count": 13,
   "metadata": {},
   "outputs": [],
   "source": [
    "import scipy"
   ]
  },
  {
   "cell_type": "code",
   "execution_count": 23,
   "metadata": {},
   "outputs": [
    {
     "data": {
      "text/plain": [
       "[<matplotlib.lines.Line2D at 0x2656dbcbd30>]"
      ]
     },
     "execution_count": 23,
     "metadata": {},
     "output_type": "execute_result"
    },
    {
     "data": {
      "image/png": "[encoded data removed]",
      "text/plain": [
       "<Figure size 432x288 with 1 Axes>"
      ]
     },
     "metadata": {
      "needs_background": "light"
     },
     "output_type": "display_data"
    }
   ],
   "source": [
    "plt.hist(data1['H'])\n",
    "x_bin = np.linspace(0.01, 0.5, 100)\n",
    "y_bin = scipy.stats.norm.pdf(x_bin, loc=0.07, scale=0.05) * 300\n",
    "plt.plot(x_bin,y_bin)"
   ]
  },
  {
   "cell_type": "markdown",
   "metadata": {},
   "source": [
    "# Neural Network"
   ]
  },
  {
   "cell_type": "markdown",
   "metadata": {},
   "source": [
    "A neural network returns both the predicted IV value, and corresponding Jacobian matrix"
   ]
  },
  {
   "cell_type": "code",
   "execution_count": null,
   "metadata": {},
   "outputs": [],
   "source": []
  },
  {
   "cell_type": "markdown",
   "metadata": {},
   "source": [
    "# Deep Calibration"
   ]
  },
  {
   "cell_type": "code",
   "execution_count": 8,
   "metadata": {},
   "outputs": [],
   "source": [
    "def deep_calibration(nn, jacobian, weights, market_quotes, market_info, model_name, lambd_init, max_iter, tol, beta0, beta1):\n",
    "    # initialize\n",
    "    mu = param_initializer(model_name)\n",
    "    lambd = lambd_init\n",
    "    param_names = mu.keys()\n",
    "    mu = mu.values()\n",
    "    m = len(mu)\n",
    "    W = np.diag(weights)\n",
    "    I = np.eye(m)\n",
    "    n = 0\n",
    "    # predict\n",
    "    R = nn.predict(...) - Q # TODO\n",
    "    J = None # TODO\n",
    "    J_W = J.T.dot(W)\n",
    "    delta_mu = np.linalg.pinv(J_W.dot(J) + lambd * I).dot(J_W.dot(R)) # vector size: [m, ]\n",
    "    while n < max_iter and np.linalg.norm(delta_mu) > tol:\n",
    "        mu_new = mu + delta_mu\n",
    "        R_new = nn.predict(...) - Q # TODO\n",
    "        R_norm = np.linalg.norm(R)\n",
    "        c_mu = (R_norm - np.linalg.norm(R_new)) / (R_norm - np.linalg.norm(R + J.dot(delta_mu)))\n",
    "        if c_mu <= beta0:\n",
    "            # reject delta_mu\n",
    "            lambd *= 2 # too slow, use greater lambd\n",
    "        else:\n",
    "            # accept delta_mu\n",
    "            mu += delta_mu\n",
    "            R = R_new\n",
    "            J = None # TODO\n",
    "            J_W = J.T.dot(W)\n",
    "        if c_mu >= beta1:\n",
    "            lambd /= 2 # too quick, use smaller lambd\n",
    "        delta_mu = np.linalg.pinv(J_W.dot(J) + lambd * I).dot(J_W.dot(R)) # vector size: [m, ]\n",
    "        n += 1\n",
    "    return dict(zip(param_names, mu))"
   ]
  },
  {
   "cell_type": "code",
   "execution_count": null,
   "metadata": {},
   "outputs": [],
   "source": []
  },
  {
   "cell_type": "code",
   "execution_count": null,
   "metadata": {},
   "outputs": [],
   "source": []
  }
 ],
 "metadata": {
  "kernelspec": {
   "display_name": "Python 3",
   "language": "python",
   "name": "python3"
  },
  "language_info": {
   "codemirror_mode": {
    "name": "ipython",
    "version": 3
   },
   "file_extension": ".py",
   "mimetype": "text/x-python",
   "name": "python",
   "nbconvert_exporter": "python",
   "pygments_lexer": "ipython3",
   "version": "3.6.8"
  }
 },
 "nbformat": 4,
 "nbformat_minor": 2
}
