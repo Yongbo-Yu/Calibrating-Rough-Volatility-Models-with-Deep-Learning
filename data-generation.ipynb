{
 "cells": [
  {
   "cell_type": "markdown",
   "metadata": {},
   "source": [
    "# Generate Heston data"
   ]
  },
  {
   "cell_type": "code",
   "execution_count": 1,
   "metadata": {},
   "outputs": [],
   "source": [
    "import os\n",
    "import datetime\n",
    "import numpy as np\n",
    "import pandas as pd\n",
    "import QuantLib as ql"
   ]
  },
  {
   "cell_type": "code",
   "execution_count": 2,
   "metadata": {},
   "outputs": [],
   "source": [
    "from py_vollib.black_scholes.implied_volatility import implied_volatility\n",
    "from py_lets_be_rational.exceptions import BelowIntrinsicException\n",
    "import sklearn.utils\n",
    "import logging\n",
    "\n",
    "logging.basicConfig(format=\"%(asctime)s - %(levelname)s - %(message)s\", level=logging.INFO)"
   ]
  },
  {
   "cell_type": "code",
   "execution_count": 56,
   "metadata": {},
   "outputs": [],
   "source": [
    "def heston_pricer(lambd, vbar, eta, rho, v0, r, q, tau, S0, K):\n",
    "    \"\"\"Computes European Call price under Heston dynamics with closedform solution.\n",
    "    \n",
    "    Parameters:\n",
    "    -----------\n",
    "        lambd: mean-reversion speed\n",
    "        vbar: long-term average variance\n",
    "        eta: volatility of variance\n",
    "        rho: correlation between stock and vol\n",
    "        v0: spot variance\n",
    "        r: risk-free interest rate\n",
    "        q: dividend rate\n",
    "        tau: time to maturity in years (365 trading days per year)\n",
    "        S0: initial spot price\n",
    "        K: strike price\n",
    "    \"\"\"\n",
    "    today = datetime.date.today()\n",
    "    ql_date = ql.Date(today.day, today.month, today.year)\n",
    "    day_count = ql.Actual365Fixed()\n",
    "    ql.Settings.instance().evaluationDate = ql_date\n",
    "    \n",
    "    # option data\n",
    "    option_type = ql.Option.Call\n",
    "    payoff = ql.PlainVanillaPayoff(option_type, K)\n",
    "    maturity_date = ql_date + round(tau * 365)\n",
    "    exercise = ql.EuropeanExercise(maturity_date)\n",
    "    european_option = ql.VanillaOption(payoff, exercise)\n",
    "    \n",
    "    # Heston process\n",
    "    spot_handle = ql.QuoteHandle(ql.SimpleQuote(S0))\n",
    "    flat_ts = ql.YieldTermStructureHandle(ql.FlatForward(ql_date, r, day_count))\n",
    "    dividend_yield = ql.YieldTermStructureHandle(ql.FlatForward(ql_date, q, day_count))\n",
    "    heston_process = ql.HestonProcess(flat_ts, dividend_yield, spot_handle, v0, lambd, vbar, eta, rho)\n",
    "    \n",
    "    engine = ql.AnalyticHestonEngine(ql.HestonModel(heston_process), 1e-15, int(1e6))\n",
    "    european_option.setPricingEngine(engine)\n",
    "    \n",
    "    # check numerical stability\n",
    "    try:\n",
    "        price = european_option.NPV()\n",
    "        if price <= 0 or price + K < S0:\n",
    "            iv = np.nan\n",
    "            logging.debug(\"NumStabProblem: Price {}. Intrinsic {}. Time {}. Strike {}.\".format(price, S0-K, tau, K))\n",
    "        else:\n",
    "            logging.debug(\"Success: Price {} > intrinsic {}\".format(price, S0-K))\n",
    "            iv = implied_volatility(price, S0, K, tau, r, 'c')\n",
    "    except RuntimeError:\n",
    "        logging.info(\"RuntimeError: Intrinsic {}. Time {}. Strike {}.\".format(S0-K, tau, K))\n",
    "        price = np.nan\n",
    "        iv = np.nan\n",
    "    return price, iv"
   ]
  },
  {
   "cell_type": "code",
   "execution_count": 4,
   "metadata": {},
   "outputs": [
    {
     "data": {
      "text/plain": [
       "(0.10608722846987528, 0.1736003628582047)"
      ]
     },
     "execution_count": 4,
     "metadata": {},
     "output_type": "execute_result"
    }
   ],
   "source": [
    "# Market parameters\n",
    "S0 = 1\n",
    "r = 0 \n",
    "\n",
    "# Heston parameters \n",
    "lambd = 1.3253 \n",
    "vbar = 0.0354 \n",
    "eta = 0.3877 \n",
    "rho = -0.7165 \n",
    "v0 = 0.0174 \n",
    "tau = 0.3 \n",
    "K = 0.9\n",
    "q = 0\n",
    "\n",
    "heston_pricer(lambd, vbar, eta, rho, v0, r, q, tau, S0, K)"
   ]
  },
  {
   "cell_type": "markdown",
   "metadata": {},
   "source": [
    "## Smile data generation"
   ]
  },
  {
   "cell_type": "code",
   "execution_count": 22,
   "metadata": {},
   "outputs": [],
   "source": [
    "n_samples = 1000\n",
    "\n",
    "# Market parameters\n",
    "S0 = 1\n",
    "r = 0\n",
    "q = 0\n",
    "\n",
    "# Heston parameters\n",
    "lambd = 1.3253\n",
    "vbar = 0.0354\n",
    "eta = 0.3877\n",
    "rho = -0.7165\n",
    "v0 = 0.0174\n",
    "T = 0.05\n",
    "\n",
    "log_moneyness = np.linspace(-0.1, 0.28, n_samples)\n",
    "strikes = np.exp(log_moneyness) * S0\n",
    "\n",
    "# Initialisation of df for labeled data\n",
    "columns = ['Strike','Log Moneyness']\n",
    "df = pd.DataFrame(np.zeros((n_samples, 2)), columns=columns)\n",
    "\n",
    "# Filling in parameter data\n",
    "df['Strike'] = strikes\n",
    "df['Log Moneyness'] = log_moneyness"
   ]
  },
  {
   "cell_type": "code",
   "execution_count": 23,
   "metadata": {},
   "outputs": [],
   "source": [
    "df['Price_IV'] = df['Strike'].apply(lambda K: heston_pricer(lambd, vbar, eta, rho, v0, r, q, T, S0, K))"
   ]
  },
  {
   "cell_type": "code",
   "execution_count": 24,
   "metadata": {},
   "outputs": [
    {
     "data": {
      "text/html": [
       "<div>\n",
       "<style scoped>\n",
       "    .dataframe tbody tr th:only-of-type {\n",
       "        vertical-align: middle;\n",
       "    }\n",
       "\n",
       "    .dataframe tbody tr th {\n",
       "        vertical-align: top;\n",
       "    }\n",
       "\n",
       "    .dataframe thead th {\n",
       "        text-align: right;\n",
       "    }\n",
       "</style>\n",
       "<table border=\"1\" class=\"dataframe\">\n",
       "  <thead>\n",
       "    <tr style=\"text-align: right;\">\n",
       "      <th></th>\n",
       "      <th>Strike</th>\n",
       "      <th>Log Moneyness</th>\n",
       "      <th>Price</th>\n",
       "      <th>IV</th>\n",
       "    </tr>\n",
       "  </thead>\n",
       "  <tbody>\n",
       "    <tr>\n",
       "      <th>0</th>\n",
       "      <td>0.904837</td>\n",
       "      <td>-0.100000</td>\n",
       "      <td>0.095222</td>\n",
       "      <td>0.173895</td>\n",
       "    </tr>\n",
       "    <tr>\n",
       "      <th>1</th>\n",
       "      <td>0.905182</td>\n",
       "      <td>-0.099620</td>\n",
       "      <td>0.094879</td>\n",
       "      <td>0.173758</td>\n",
       "    </tr>\n",
       "    <tr>\n",
       "      <th>2</th>\n",
       "      <td>0.905526</td>\n",
       "      <td>-0.099239</td>\n",
       "      <td>0.094536</td>\n",
       "      <td>0.173621</td>\n",
       "    </tr>\n",
       "    <tr>\n",
       "      <th>3</th>\n",
       "      <td>0.905871</td>\n",
       "      <td>-0.098859</td>\n",
       "      <td>0.094193</td>\n",
       "      <td>0.173483</td>\n",
       "    </tr>\n",
       "    <tr>\n",
       "      <th>4</th>\n",
       "      <td>0.906215</td>\n",
       "      <td>-0.098478</td>\n",
       "      <td>0.093850</td>\n",
       "      <td>0.173346</td>\n",
       "    </tr>\n",
       "  </tbody>\n",
       "</table>\n",
       "</div>"
      ],
      "text/plain": [
       "     Strike  Log Moneyness     Price        IV\n",
       "0  0.904837      -0.100000  0.095222  0.173895\n",
       "1  0.905182      -0.099620  0.094879  0.173758\n",
       "2  0.905526      -0.099239  0.094536  0.173621\n",
       "3  0.905871      -0.098859  0.094193  0.173483\n",
       "4  0.906215      -0.098478  0.093850  0.173346"
      ]
     },
     "execution_count": 24,
     "metadata": {},
     "output_type": "execute_result"
    }
   ],
   "source": [
    "df = df.merge(df['Price_IV'].apply(lambda p_iv: pd.Series({'Price': p_iv[0], 'IV': p_iv[1]})), left_index=True, right_index=True)\n",
    "df.drop(['Price_IV'], axis=1, inplace=True)\n",
    "df.dropna(inplace=True)\n",
    "df.head()"
   ]
  },
  {
   "cell_type": "code",
   "execution_count": 25,
   "metadata": {},
   "outputs": [],
   "source": [
    "import matplotlib.pyplot as plt\n",
    "%matplotlib inline"
   ]
  },
  {
   "cell_type": "code",
   "execution_count": 26,
   "metadata": {},
   "outputs": [
    {
     "data": {
      "image/png": "[encoded data removed]",
      "text/plain": [
       "<Figure size 432x288 with 1 Axes>"
      ]
     },
     "metadata": {
      "needs_background": "light"
     },
     "output_type": "display_data"
    }
   ],
   "source": [
    "ax = df.plot(x='Log Moneyness', y='IV')\n",
    "plt.show()"
   ]
  },
  {
   "cell_type": "code",
   "execution_count": 27,
   "metadata": {},
   "outputs": [],
   "source": [
    "df.to_csv(\"./data/heston/vol_smile.csv\", index=False)"
   ]
  },
  {
   "cell_type": "markdown",
   "metadata": {},
   "source": [
    "# Labled data for Neural Network"
   ]
  },
  {
   "cell_type": "code",
   "execution_count": 30,
   "metadata": {},
   "outputs": [],
   "source": [
    "K_T = pd.read_csv(\"./data/strike_maturity.csv\", index_col=0)"
   ]
  },
  {
   "cell_type": "code",
   "execution_count": 32,
   "metadata": {},
   "outputs": [
    {
     "data": {
      "text/plain": [
       "(1000000, 2)"
      ]
     },
     "execution_count": 32,
     "metadata": {},
     "output_type": "execute_result"
    }
   ],
   "source": [
    "K_T.shape"
   ]
  },
  {
   "cell_type": "code",
   "execution_count": 31,
   "metadata": {},
   "outputs": [
    {
     "data": {
      "text/html": [
       "<div>\n",
       "<style scoped>\n",
       "    .dataframe tbody tr th:only-of-type {\n",
       "        vertical-align: middle;\n",
       "    }\n",
       "\n",
       "    .dataframe tbody tr th {\n",
       "        vertical-align: top;\n",
       "    }\n",
       "\n",
       "    .dataframe thead th {\n",
       "        text-align: right;\n",
       "    }\n",
       "</style>\n",
       "<table border=\"1\" class=\"dataframe\">\n",
       "  <thead>\n",
       "    <tr style=\"text-align: right;\">\n",
       "      <th></th>\n",
       "      <th>Moneyness</th>\n",
       "      <th>Time to Maturity (years)</th>\n",
       "    </tr>\n",
       "  </thead>\n",
       "  <tbody>\n",
       "    <tr>\n",
       "      <th>0</th>\n",
       "      <td>0.820165</td>\n",
       "      <td>0.219184</td>\n",
       "    </tr>\n",
       "    <tr>\n",
       "      <th>1</th>\n",
       "      <td>0.926490</td>\n",
       "      <td>0.212487</td>\n",
       "    </tr>\n",
       "    <tr>\n",
       "      <th>2</th>\n",
       "      <td>0.834318</td>\n",
       "      <td>0.190719</td>\n",
       "    </tr>\n",
       "    <tr>\n",
       "      <th>3</th>\n",
       "      <td>1.053977</td>\n",
       "      <td>0.226441</td>\n",
       "    </tr>\n",
       "    <tr>\n",
       "      <th>4</th>\n",
       "      <td>0.802749</td>\n",
       "      <td>0.208923</td>\n",
       "    </tr>\n",
       "  </tbody>\n",
       "</table>\n",
       "</div>"
      ],
      "text/plain": [
       "   Moneyness  Time to Maturity (years)\n",
       "0   0.820165                  0.219184\n",
       "1   0.926490                  0.212487\n",
       "2   0.834318                  0.190719\n",
       "3   1.053977                  0.226441\n",
       "4   0.802749                  0.208923"
      ]
     },
     "execution_count": 31,
     "metadata": {},
     "output_type": "execute_result"
    }
   ],
   "source": [
    "K_T.head()"
   ]
  },
  {
   "cell_type": "code",
   "execution_count": 41,
   "metadata": {},
   "outputs": [],
   "source": [
    "# Initialisation of df for labeled data\n",
    "columns = ['lambda', 'vbar', 'eta', 'rho', 'v0', 'iv']\n",
    "data_nn = pd.DataFrame(index=K_T.index, columns=columns)\n",
    "\n",
    "# Merge df0 and df\n",
    "data_nn = pd.concat([K_T, data_nn], axis=1)"
   ]
  },
  {
   "cell_type": "code",
   "execution_count": 42,
   "metadata": {},
   "outputs": [
    {
     "data": {
      "text/plain": [
       "(1000000, 8)"
      ]
     },
     "execution_count": 42,
     "metadata": {},
     "output_type": "execute_result"
    }
   ],
   "source": [
    "data_nn.shape"
   ]
  },
  {
   "cell_type": "code",
   "execution_count": 43,
   "metadata": {},
   "outputs": [
    {
     "data": {
      "text/html": [
       "<div>\n",
       "<style scoped>\n",
       "    .dataframe tbody tr th:only-of-type {\n",
       "        vertical-align: middle;\n",
       "    }\n",
       "\n",
       "    .dataframe tbody tr th {\n",
       "        vertical-align: top;\n",
       "    }\n",
       "\n",
       "    .dataframe thead th {\n",
       "        text-align: right;\n",
       "    }\n",
       "</style>\n",
       "<table border=\"1\" class=\"dataframe\">\n",
       "  <thead>\n",
       "    <tr style=\"text-align: right;\">\n",
       "      <th></th>\n",
       "      <th>Moneyness</th>\n",
       "      <th>Time to Maturity (years)</th>\n",
       "      <th>lambda</th>\n",
       "      <th>vbar</th>\n",
       "      <th>eta</th>\n",
       "      <th>rho</th>\n",
       "      <th>v0</th>\n",
       "      <th>iv</th>\n",
       "    </tr>\n",
       "  </thead>\n",
       "  <tbody>\n",
       "    <tr>\n",
       "      <th>0</th>\n",
       "      <td>0.820165</td>\n",
       "      <td>0.219184</td>\n",
       "      <td>NaN</td>\n",
       "      <td>NaN</td>\n",
       "      <td>NaN</td>\n",
       "      <td>NaN</td>\n",
       "      <td>NaN</td>\n",
       "      <td>NaN</td>\n",
       "    </tr>\n",
       "    <tr>\n",
       "      <th>1</th>\n",
       "      <td>0.926490</td>\n",
       "      <td>0.212487</td>\n",
       "      <td>NaN</td>\n",
       "      <td>NaN</td>\n",
       "      <td>NaN</td>\n",
       "      <td>NaN</td>\n",
       "      <td>NaN</td>\n",
       "      <td>NaN</td>\n",
       "    </tr>\n",
       "    <tr>\n",
       "      <th>2</th>\n",
       "      <td>0.834318</td>\n",
       "      <td>0.190719</td>\n",
       "      <td>NaN</td>\n",
       "      <td>NaN</td>\n",
       "      <td>NaN</td>\n",
       "      <td>NaN</td>\n",
       "      <td>NaN</td>\n",
       "      <td>NaN</td>\n",
       "    </tr>\n",
       "    <tr>\n",
       "      <th>3</th>\n",
       "      <td>1.053977</td>\n",
       "      <td>0.226441</td>\n",
       "      <td>NaN</td>\n",
       "      <td>NaN</td>\n",
       "      <td>NaN</td>\n",
       "      <td>NaN</td>\n",
       "      <td>NaN</td>\n",
       "      <td>NaN</td>\n",
       "    </tr>\n",
       "    <tr>\n",
       "      <th>4</th>\n",
       "      <td>0.802749</td>\n",
       "      <td>0.208923</td>\n",
       "      <td>NaN</td>\n",
       "      <td>NaN</td>\n",
       "      <td>NaN</td>\n",
       "      <td>NaN</td>\n",
       "      <td>NaN</td>\n",
       "      <td>NaN</td>\n",
       "    </tr>\n",
       "  </tbody>\n",
       "</table>\n",
       "</div>"
      ],
      "text/plain": [
       "   Moneyness  Time to Maturity (years) lambda vbar  eta  rho   v0   iv\n",
       "0   0.820165                  0.219184    NaN  NaN  NaN  NaN  NaN  NaN\n",
       "1   0.926490                  0.212487    NaN  NaN  NaN  NaN  NaN  NaN\n",
       "2   0.834318                  0.190719    NaN  NaN  NaN  NaN  NaN  NaN\n",
       "3   1.053977                  0.226441    NaN  NaN  NaN  NaN  NaN  NaN\n",
       "4   0.802749                  0.208923    NaN  NaN  NaN  NaN  NaN  NaN"
      ]
     },
     "execution_count": 43,
     "metadata": {},
     "output_type": "execute_result"
    }
   ],
   "source": [
    "data_nn.head()"
   ]
  },
  {
   "cell_type": "code",
   "execution_count": 44,
   "metadata": {},
   "outputs": [],
   "source": [
    "np.random.seed(0)\n",
    "\n",
    "# PARAMETERS\n",
    "n_samples = K_T.shape[0]\n",
    "\n",
    "# Heston parameter, bounds by Moodley (2005)\n",
    "lambd_bounds = [0, 10]\n",
    "vbar_bounds = [0, 1]\n",
    "eta_bounds = [0, 5]\n",
    "rho_bounds = [-1, 0]\n",
    "v0_bounds = [0, 1]\n",
    "\n",
    "# Market params\n",
    "S0 = 1\n",
    "r = 0\n",
    "q = 0"
   ]
  },
  {
   "cell_type": "code",
   "execution_count": 45,
   "metadata": {},
   "outputs": [],
   "source": [
    "data_nn['lambda'] = np.random.uniform(lambd_bounds[0], lambd_bounds[1], n_samples)\n",
    "data_nn['vbar'] = np.random.uniform(vbar_bounds[0], vbar_bounds[1], n_samples)\n",
    "data_nn['eta'] = np.random.uniform(eta_bounds[0], eta_bounds[1], n_samples)\n",
    "data_nn['rho'] = np.random.uniform(rho_bounds[0], rho_bounds[1], n_samples)\n",
    "data_nn['v0'] = np.random.uniform(v0_bounds[0], v0_bounds[1], n_samples)"
   ]
  },
  {
   "cell_type": "code",
   "execution_count": 52,
   "metadata": {},
   "outputs": [
    {
     "data": {
      "text/plain": [
       "Moneyness                   float64\n",
       "Time to Maturity (years)    float64\n",
       "lambda                      float64\n",
       "vbar                        float64\n",
       "eta                         float64\n",
       "rho                         float64\n",
       "v0                          float64\n",
       "iv                           object\n",
       "dtype: object"
      ]
     },
     "execution_count": 52,
     "metadata": {},
     "output_type": "execute_result"
    }
   ],
   "source": [
    "data_nn.dtypes"
   ]
  },
  {
   "cell_type": "code",
   "execution_count": 49,
   "metadata": {},
   "outputs": [
    {
     "data": {
      "text/html": [
       "<div>\n",
       "<style scoped>\n",
       "    .dataframe tbody tr th:only-of-type {\n",
       "        vertical-align: middle;\n",
       "    }\n",
       "\n",
       "    .dataframe tbody tr th {\n",
       "        vertical-align: top;\n",
       "    }\n",
       "\n",
       "    .dataframe thead th {\n",
       "        text-align: right;\n",
       "    }\n",
       "</style>\n",
       "<table border=\"1\" class=\"dataframe\">\n",
       "  <thead>\n",
       "    <tr style=\"text-align: right;\">\n",
       "      <th></th>\n",
       "      <th>Moneyness</th>\n",
       "      <th>Time to Maturity (years)</th>\n",
       "      <th>lambda</th>\n",
       "      <th>vbar</th>\n",
       "      <th>eta</th>\n",
       "      <th>rho</th>\n",
       "      <th>v0</th>\n",
       "      <th>iv</th>\n",
       "    </tr>\n",
       "  </thead>\n",
       "  <tbody>\n",
       "    <tr>\n",
       "      <th>0</th>\n",
       "      <td>0.820165</td>\n",
       "      <td>0.219184</td>\n",
       "      <td>5.488135</td>\n",
       "      <td>0.689556</td>\n",
       "      <td>3.947543</td>\n",
       "      <td>-0.586746</td>\n",
       "      <td>0.164776</td>\n",
       "      <td>NaN</td>\n",
       "    </tr>\n",
       "    <tr>\n",
       "      <th>1</th>\n",
       "      <td>0.926490</td>\n",
       "      <td>0.212487</td>\n",
       "      <td>7.151894</td>\n",
       "      <td>0.974517</td>\n",
       "      <td>1.495094</td>\n",
       "      <td>-0.407660</td>\n",
       "      <td>0.337974</td>\n",
       "      <td>NaN</td>\n",
       "    </tr>\n",
       "    <tr>\n",
       "      <th>2</th>\n",
       "      <td>0.834318</td>\n",
       "      <td>0.190719</td>\n",
       "      <td>6.027634</td>\n",
       "      <td>0.808059</td>\n",
       "      <td>4.635460</td>\n",
       "      <td>-0.903236</td>\n",
       "      <td>0.203675</td>\n",
       "      <td>NaN</td>\n",
       "    </tr>\n",
       "    <tr>\n",
       "      <th>3</th>\n",
       "      <td>1.053977</td>\n",
       "      <td>0.226441</td>\n",
       "      <td>5.448832</td>\n",
       "      <td>0.180819</td>\n",
       "      <td>4.405048</td>\n",
       "      <td>-0.373840</td>\n",
       "      <td>0.979871</td>\n",
       "      <td>NaN</td>\n",
       "    </tr>\n",
       "    <tr>\n",
       "      <th>4</th>\n",
       "      <td>0.802749</td>\n",
       "      <td>0.208923</td>\n",
       "      <td>4.236548</td>\n",
       "      <td>0.855412</td>\n",
       "      <td>0.250227</td>\n",
       "      <td>-0.108893</td>\n",
       "      <td>0.200594</td>\n",
       "      <td>NaN</td>\n",
       "    </tr>\n",
       "  </tbody>\n",
       "</table>\n",
       "</div>"
      ],
      "text/plain": [
       "   Moneyness  Time to Maturity (years)    lambda      vbar       eta  \\\n",
       "0   0.820165                  0.219184  5.488135  0.689556  3.947543   \n",
       "1   0.926490                  0.212487  7.151894  0.974517  1.495094   \n",
       "2   0.834318                  0.190719  6.027634  0.808059  4.635460   \n",
       "3   1.053977                  0.226441  5.448832  0.180819  4.405048   \n",
       "4   0.802749                  0.208923  4.236548  0.855412  0.250227   \n",
       "\n",
       "        rho        v0   iv  \n",
       "0 -0.586746  0.164776  NaN  \n",
       "1 -0.407660  0.337974  NaN  \n",
       "2 -0.903236  0.203675  NaN  \n",
       "3 -0.373840  0.979871  NaN  \n",
       "4 -0.108893  0.200594  NaN  "
      ]
     },
     "execution_count": 49,
     "metadata": {},
     "output_type": "execute_result"
    }
   ],
   "source": [
    "data_nn.head()"
   ]
  },
  {
   "cell_type": "code",
   "execution_count": 57,
   "metadata": {
    "scrolled": true
   },
   "outputs": [
    {
     "name": "stderr",
     "output_type": "stream",
     "text": [
      "2019-04-11 14:43:54,967 - INFO - RuntimeError: Intrinsic 0.09439637468674922. Time 0.23806631920388915. Strike 0.9056036253132508.\n",
      "2019-04-11 14:44:00,535 - INFO - RuntimeError: Intrinsic 0.04481966661651238. Time 0.2461177972007968. Strike 0.9551803333834876.\n",
      "2019-04-11 14:44:04,660 - INFO - RuntimeError: Intrinsic 0.20778974527696137. Time 0.166464514553261. Strike 0.7922102547230386.\n",
      "2019-04-11 14:44:21,534 - INFO - RuntimeError: Intrinsic 0.14638758079872816. Time 0.15244552374332793. Strike 0.8536124192012718.\n",
      "2019-04-11 14:44:26,413 - INFO - RuntimeError: Intrinsic -0.021880649710339428. Time 0.22387312014401395. Strike 1.0218806497103394.\n",
      "2019-04-11 14:44:29,285 - INFO - RuntimeError: Intrinsic 0.16306117566175382. Time 0.23691811163629503. Strike 0.8369388243382462.\n",
      "2019-04-11 14:44:42,716 - INFO - RuntimeError: Intrinsic 0.2481093099139684. Time 0.15000851385302766. Strike 0.7518906900860316.\n",
      "2019-04-11 14:44:46,009 - INFO - RuntimeError: Intrinsic 0.020068202491489218. Time 0.16775454014807212. Strike 0.9799317975085108.\n",
      "2019-04-11 14:44:54,052 - INFO - RuntimeError: Intrinsic 0.22209028949333487. Time 0.1711482908744228. Strike 0.7779097105066651.\n",
      "2019-04-11 14:44:55,292 - INFO - RuntimeError: Intrinsic -0.06337116443442081. Time 0.2443570904130708. Strike 1.0633711644344208.\n",
      "2019-04-11 14:45:06,786 - INFO - RuntimeError: Intrinsic -0.03226656187316079. Time 0.2480657279645105. Strike 1.0322665618731608.\n",
      "2019-04-11 14:45:08,334 - INFO - RuntimeError: Intrinsic 0.10356971994738384. Time 0.15335779024794138. Strike 0.8964302800526162.\n",
      "2019-04-11 14:45:08,840 - INFO - RuntimeError: Intrinsic 0.15417074462923552. Time 0.2399502064928793. Strike 0.8458292553707645.\n",
      "2019-04-11 14:45:17,384 - INFO - RuntimeError: Intrinsic 0.08455826203405681. Time 0.24240950878701575. Strike 0.9154417379659432.\n",
      "2019-04-11 14:45:24,665 - INFO - RuntimeError: Intrinsic 0.214849646269059. Time 0.22900287127676186. Strike 0.785150353730941.\n",
      "2019-04-11 14:45:39,986 - INFO - RuntimeError: Intrinsic 0.16975649967600415. Time 0.18592150515067296. Strike 0.8302435003239959.\n",
      "2019-04-11 14:45:51,368 - INFO - RuntimeError: Intrinsic 0.00809470373167287. Time 0.18349083081615064. Strike 0.9919052962683271.\n",
      "2019-04-11 14:46:09,782 - INFO - RuntimeError: Intrinsic 0.21935557845261622. Time 0.24749216403433996. Strike 0.7806444215473838.\n",
      "2019-04-11 14:46:22,724 - INFO - RuntimeError: Intrinsic 0.11529468400140463. Time 0.20115929956944328. Strike 0.8847053159985954.\n",
      "2019-04-11 14:46:23,908 - INFO - RuntimeError: Intrinsic 0.11563215119335513. Time 0.1890693269319052. Strike 0.8843678488066449.\n",
      "2019-04-11 14:46:30,392 - INFO - RuntimeError: Intrinsic 0.2440068619252418. Time 0.2348556015070385. Strike 0.7559931380747582.\n",
      "2019-04-11 14:46:40,138 - INFO - RuntimeError: Intrinsic 0.07562786084618678. Time 0.2105038756229248. Strike 0.9243721391538132.\n",
      "2019-04-11 14:47:04,787 - INFO - RuntimeError: Intrinsic 0.19790416464647487. Time 0.2472417133917283. Strike 0.8020958353535251.\n",
      "2019-04-11 14:47:05,320 - INFO - RuntimeError: Intrinsic 0.23499306661371588. Time 0.2270691401603238. Strike 0.7650069333862841.\n",
      "2019-04-11 14:47:12,160 - INFO - RuntimeError: Intrinsic 0.14280921045928419. Time 0.21262431822351646. Strike 0.8571907895407158.\n",
      "2019-04-11 14:47:15,383 - INFO - RuntimeError: Intrinsic 0.08845946469517918. Time 0.2445713277734638. Strike 0.9115405353048208.\n",
      "2019-04-11 14:47:21,433 - INFO - RuntimeError: Intrinsic -0.05225716734828856. Time 0.2296734660630252. Strike 1.0522571673482886.\n",
      "2019-04-11 14:47:43,094 - INFO - RuntimeError: Intrinsic 0.20965174856246238. Time 0.21831652975431226. Strike 0.7903482514375376.\n",
      "2019-04-11 14:47:45,842 - INFO - RuntimeError: Intrinsic 0.22074476204104543. Time 0.2293311732935753. Strike 0.7792552379589546.\n",
      "2019-04-11 14:48:00,539 - INFO - RuntimeError: Intrinsic 0.18851428876925036. Time 0.23312383136389794. Strike 0.8114857112307496.\n",
      "2019-04-11 14:48:07,056 - INFO - RuntimeError: Intrinsic 0.23973187306153343. Time 0.21168768128910093. Strike 0.7602681269384666.\n",
      "2019-04-11 14:48:11,287 - INFO - RuntimeError: Intrinsic 0.1657800279992767. Time 0.20360327088818653. Strike 0.8342199720007233.\n",
      "2019-04-11 14:48:17,984 - INFO - RuntimeError: Intrinsic 0.09968096353231515. Time 0.1862413027337536. Strike 0.9003190364676849.\n",
      "2019-04-11 14:48:21,934 - INFO - RuntimeError: Intrinsic 0.23340502016445108. Time 0.24674055331339415. Strike 0.7665949798355489.\n",
      "2019-04-11 14:48:42,532 - INFO - RuntimeError: Intrinsic 0.17368073476599544. Time 0.23879587077559836. Strike 0.8263192652340046.\n",
      "2019-04-11 14:48:50,024 - INFO - RuntimeError: Intrinsic 0.11051567797428974. Time 0.2115231040428352. Strike 0.8894843220257103.\n",
      "2019-04-11 14:48:57,847 - INFO - RuntimeError: Intrinsic 0.2334918341419202. Time 0.2288186403562315. Strike 0.7665081658580798.\n",
      "2019-04-11 14:48:59,932 - INFO - RuntimeError: Intrinsic 0.16298195659370052. Time 0.19556290310075225. Strike 0.8370180434062995.\n",
      "2019-04-11 14:49:00,497 - INFO - RuntimeError: Intrinsic 0.18586442777610002. Time 0.13649120343407034. Strike 0.8141355722239.\n",
      "2019-04-11 14:49:15,003 - INFO - RuntimeError: Intrinsic 0.1549764096017251. Time 0.18531120185344246. Strike 0.8450235903982749.\n",
      "2019-04-11 14:49:45,405 - INFO - RuntimeError: Intrinsic 0.1450712090255062. Time 0.212479836263852. Strike 0.8549287909744938.\n",
      "2019-04-11 14:49:56,134 - INFO - RuntimeError: Intrinsic 0.15989897438973144. Time 0.16281278358833934. Strike 0.8401010256102686.\n",
      "2019-04-11 14:50:01,214 - INFO - RuntimeError: Intrinsic -0.07110339167392521. Time 0.2251682169437121. Strike 1.0711033916739252.\n",
      "2019-04-11 14:50:01,953 - INFO - RuntimeError: Intrinsic 0.14523623521745832. Time 0.21650452153464209. Strike 0.8547637647825417.\n",
      "2019-04-11 14:50:03,679 - INFO - RuntimeError: Intrinsic -0.049549981283902866. Time 0.2455901548706663. Strike 1.0495499812839029.\n",
      "2019-04-11 14:50:05,697 - INFO - RuntimeError: Intrinsic -0.0849118807289504. Time 0.24275267222451. Strike 1.0849118807289504.\n",
      "2019-04-11 14:50:06,716 - INFO - RuntimeError: Intrinsic 0.23329886543008627. Time 0.1481660816172557. Strike 0.7667011345699137.\n",
      "2019-04-11 14:50:10,535 - INFO - RuntimeError: Intrinsic 0.17794957834304426. Time 0.21410956858993316. Strike 0.8220504216569557.\n",
      "2019-04-11 14:50:14,772 - INFO - RuntimeError: Intrinsic 0.16943441763213352. Time 0.2476774186979604. Strike 0.8305655823678665.\n",
      "2019-04-11 14:50:24,101 - INFO - RuntimeError: Intrinsic 0.050255910893930444. Time 0.1953243377758648. Strike 0.9497440891060696.\n",
      "2019-04-11 14:50:26,933 - INFO - RuntimeError: Intrinsic 0.13879856503140542. Time 0.20873426434944592. Strike 0.8612014349685946.\n",
      "2019-04-11 14:50:27,975 - INFO - RuntimeError: Intrinsic -0.024944635752514488. Time 0.15550812709553435. Strike 1.0249446357525145.\n",
      "2019-04-11 14:50:29,403 - INFO - RuntimeError: Intrinsic 0.0421604568397852. Time 0.14737708047863962. Strike 0.9578395431602148.\n",
      "2019-04-11 14:50:32,326 - INFO - RuntimeError: Intrinsic 0.24570027040665177. Time 0.23141445274127145. Strike 0.7542997295933482.\n",
      "2019-04-11 14:50:41,630 - INFO - RuntimeError: Intrinsic 0.19083510907707035. Time 0.2293454719139209. Strike 0.8091648909229296.\n",
      "2019-04-11 14:50:50,079 - INFO - RuntimeError: Intrinsic -0.09569207754001074. Time 0.2342104680140556. Strike 1.0956920775400107.\n",
      "2019-04-11 14:51:23,228 - INFO - RuntimeError: Intrinsic 0.19086093768487455. Time 0.12098826498933828. Strike 0.8091390623151254.\n",
      "2019-04-11 14:51:36,598 - INFO - RuntimeError: Intrinsic 0.21038345341091313. Time 0.24785098052046176. Strike 0.7896165465890869.\n",
      "2019-04-11 14:51:42,931 - INFO - RuntimeError: Intrinsic -0.021224660036321286. Time 0.11189907935299387. Strike 1.0212246600363213.\n",
      "2019-04-11 14:51:52,674 - INFO - RuntimeError: Intrinsic 0.04640215051164398. Time 0.2211591269884624. Strike 0.953597849488356.\n",
      "2019-04-11 14:52:02,287 - INFO - RuntimeError: Intrinsic 0.21464973013100264. Time 0.16614844845871632. Strike 0.7853502698689974.\n",
      "2019-04-11 14:52:04,486 - INFO - RuntimeError: Intrinsic 0.15954335428613287. Time 0.12398555974414928. Strike 0.8404566457138671.\n",
      "2019-04-11 14:52:05,041 - INFO - RuntimeError: Intrinsic 0.035250371036790185. Time 0.246059357162802. Strike 0.9647496289632098.\n"
     ]
    },
    {
     "name": "stderr",
     "output_type": "stream",
     "text": [
      "2019-04-11 14:52:05,949 - INFO - RuntimeError: Intrinsic 0.1994289542221942. Time 0.1855480048660776. Strike 0.8005710457778058.\n",
      "2019-04-11 14:52:22,099 - INFO - RuntimeError: Intrinsic 0.14006484646302786. Time 0.2393967732749312. Strike 0.8599351535369721.\n",
      "2019-04-11 14:52:35,341 - INFO - RuntimeError: Intrinsic 0.1899603557606745. Time 0.19075143483191195. Strike 0.8100396442393255.\n",
      "2019-04-11 14:52:37,138 - INFO - RuntimeError: Intrinsic 0.16759444879987517. Time 0.0983709207479917. Strike 0.8324055512001248.\n",
      "2019-04-11 14:52:42,923 - INFO - RuntimeError: Intrinsic 0.20781000528542637. Time 0.2034624030372744. Strike 0.7921899947145736.\n",
      "2019-04-11 14:52:48,329 - INFO - RuntimeError: Intrinsic 0.1184183461405851. Time 0.18760464249247896. Strike 0.8815816538594149.\n",
      "2019-04-11 14:52:58,120 - INFO - RuntimeError: Intrinsic 0.13950571383163723. Time 0.15777711318012913. Strike 0.8604942861683628.\n",
      "2019-04-11 14:52:58,495 - INFO - RuntimeError: Intrinsic 0.10226477944806867. Time 0.24476036718566166. Strike 0.8977352205519313.\n",
      "2019-04-11 14:52:59,087 - INFO - RuntimeError: Intrinsic 0.13326911701378674. Time 0.19356949400982604. Strike 0.8667308829862133.\n",
      "2019-04-11 14:53:02,138 - INFO - RuntimeError: Intrinsic 0.1337331301421919. Time 0.16609600080243234. Strike 0.8662668698578081.\n",
      "2019-04-11 14:53:06,576 - INFO - RuntimeError: Intrinsic 0.17226051602425307. Time 0.24748563945756566. Strike 0.8277394839757469.\n",
      "2019-04-11 14:53:07,418 - INFO - RuntimeError: Intrinsic 0.2382301630164525. Time 0.1595253413043477. Strike 0.7617698369835475.\n",
      "2019-04-11 14:53:08,269 - INFO - RuntimeError: Intrinsic 0.0716838073849636. Time 0.15686247724847835. Strike 0.9283161926150364.\n",
      "2019-04-11 14:53:21,085 - INFO - RuntimeError: Intrinsic 0.10916301258401218. Time 0.2482097929959731. Strike 0.8908369874159878.\n",
      "2019-04-11 14:53:24,221 - INFO - RuntimeError: Intrinsic -0.1188302950004243. Time 0.23997527198469001. Strike 1.1188302950004243.\n",
      "2019-04-11 14:53:26,987 - INFO - RuntimeError: Intrinsic -0.049640723345175886. Time 0.2473894437087643. Strike 1.0496407233451759.\n",
      "2019-04-11 14:53:27,568 - INFO - RuntimeError: Intrinsic -0.042743654126755404. Time 0.1441748370705545. Strike 1.0427436541267554.\n",
      "2019-04-11 14:53:29,837 - INFO - RuntimeError: Intrinsic 0.17017157549238116. Time 0.23756561534401796. Strike 0.8298284245076188.\n",
      "2019-04-11 14:53:35,353 - INFO - RuntimeError: Intrinsic 0.10566058219532792. Time 0.191437899359174. Strike 0.8943394178046721.\n",
      "2019-04-11 14:53:41,450 - INFO - RuntimeError: Intrinsic 0.2244828480973966. Time 0.202460159697872. Strike 0.7755171519026034.\n",
      "2019-04-11 14:53:49,299 - INFO - RuntimeError: Intrinsic 0.058425452376412834. Time 0.2041043193797009. Strike 0.9415745476235872.\n",
      "2019-04-11 14:53:51,041 - INFO - RuntimeError: Intrinsic 0.08757763524716378. Time 0.2245217075672347. Strike 0.9124223647528362.\n",
      "2019-04-11 14:54:04,827 - INFO - RuntimeError: Intrinsic 0.14764057453631807. Time 0.2332902108264391. Strike 0.8523594254636819.\n",
      "2019-04-11 14:54:06,715 - INFO - RuntimeError: Intrinsic 0.20206367767113853. Time 0.2166965552981092. Strike 0.7979363223288615.\n",
      "2019-04-11 14:54:21,117 - INFO - RuntimeError: Intrinsic 0.08205301632854523. Time 0.20340673513852212. Strike 0.9179469836714548.\n",
      "2019-04-11 14:54:40,325 - INFO - RuntimeError: Intrinsic 0.08940049050507715. Time 0.2477380301543402. Strike 0.9105995094949229.\n",
      "2019-04-11 14:54:40,925 - INFO - RuntimeError: Intrinsic -0.08978025566734127. Time 0.248230592760101. Strike 1.0897802556673413.\n",
      "2019-04-11 14:55:02,647 - INFO - RuntimeError: Intrinsic 0.01661174316254621. Time 0.24864910986470384. Strike 0.9833882568374538.\n",
      "2019-04-11 14:55:05,492 - INFO - RuntimeError: Intrinsic 0.10662107511577879. Time 0.2241511621687704. Strike 0.8933789248842212.\n",
      "2019-04-11 14:55:14,655 - INFO - RuntimeError: Intrinsic -0.17455635533162495. Time 0.1821951773546378. Strike 1.174556355331625.\n",
      "2019-04-11 14:55:22,623 - INFO - RuntimeError: Intrinsic 0.08062949325385382. Time 0.16793885415856974. Strike 0.9193705067461462.\n",
      "2019-04-11 14:55:25,618 - INFO - RuntimeError: Intrinsic 0.16295126025351037. Time 0.2419405500997785. Strike 0.8370487397464896.\n",
      "2019-04-11 14:55:26,754 - INFO - RuntimeError: Intrinsic 0.1786806616790575. Time 0.20635849807781026. Strike 0.8213193383209425.\n",
      "2019-04-11 14:55:32,756 - INFO - RuntimeError: Intrinsic -0.06437553765477788. Time 0.2409767587460327. Strike 1.0643755376547779.\n",
      "2019-04-11 14:55:35,023 - INFO - RuntimeError: Intrinsic 0.1955687262979382. Time 0.17717085807445315. Strike 0.8044312737020618.\n",
      "2019-04-11 14:55:37,824 - INFO - RuntimeError: Intrinsic 0.01917345843712459. Time 0.17835962853234344. Strike 0.9808265415628754.\n",
      "2019-04-11 14:55:39,991 - INFO - RuntimeError: Intrinsic 0.15495899468247376. Time 0.22281780420840067. Strike 0.8450410053175262.\n",
      "2019-04-11 14:55:49,247 - INFO - RuntimeError: Intrinsic 0.056102379174741146. Time 0.2291923499389357. Strike 0.9438976208252589.\n",
      "2019-04-11 14:55:50,575 - INFO - RuntimeError: Intrinsic 0.2242555020066278. Time 0.21145770566372007. Strike 0.7757444979933722.\n",
      "2019-04-11 14:55:54,668 - INFO - RuntimeError: Intrinsic 0.1563958070026732. Time 0.233768791567977. Strike 0.8436041929973268.\n",
      "2019-04-11 14:55:58,266 - INFO - RuntimeError: Intrinsic -0.005045506264734323. Time 0.1935716893237044. Strike 1.0050455062647343.\n",
      "2019-04-11 14:56:10,865 - INFO - RuntimeError: Intrinsic -0.0211424615531961. Time 0.2469510538879096. Strike 1.021142461553196.\n",
      "2019-04-11 14:56:15,332 - INFO - RuntimeError: Intrinsic 0.14644010435294308. Time 0.24734000559706465. Strike 0.8535598956470569.\n",
      "2019-04-11 14:56:25,034 - INFO - RuntimeError: Intrinsic 0.14090541877214613. Time 0.16848366055226785. Strike 0.8590945812278539.\n",
      "2019-04-11 14:56:30,210 - INFO - RuntimeError: Intrinsic -0.035921794002567564. Time 0.2321392851460792. Strike 1.0359217940025676.\n",
      "2019-04-11 14:56:41,418 - INFO - RuntimeError: Intrinsic 0.06892696504251483. Time 0.18171456192064905. Strike 0.9310730349574852.\n",
      "2019-04-11 14:56:54,374 - INFO - RuntimeError: Intrinsic 0.007686743559853215. Time 0.1997511955693283. Strike 0.9923132564401468.\n",
      "2019-04-11 14:56:57,513 - INFO - RuntimeError: Intrinsic 0.015688844326629203. Time 0.21917045595434054. Strike 0.9843111556733708.\n",
      "2019-04-11 14:57:06,704 - INFO - RuntimeError: Intrinsic -0.0944475411550223. Time 0.2435822094254529. Strike 1.0944475411550223.\n",
      "2019-04-11 14:57:13,831 - INFO - RuntimeError: Intrinsic 0.22434925702384556. Time 0.2169515666070907. Strike 0.7756507429761544.\n",
      "2019-04-11 14:57:17,111 - INFO - RuntimeError: Intrinsic 0.19571634100984925. Time 0.23987593323201506. Strike 0.8042836589901508.\n",
      "2019-04-11 14:57:17,952 - INFO - RuntimeError: Intrinsic 0.20202765891064067. Time 0.16944910814560454. Strike 0.7979723410893593.\n",
      "2019-04-11 14:57:19,991 - INFO - RuntimeError: Intrinsic -0.15388519033016168. Time 0.2220259919885858. Strike 1.1538851903301617.\n",
      "2019-04-11 14:57:37,841 - INFO - RuntimeError: Intrinsic 0.13810507138681494. Time 0.2498870139314748. Strike 0.8618949286131851.\n",
      "2019-04-11 14:57:40,576 - INFO - RuntimeError: Intrinsic 0.0930996172402071. Time 0.21442042013359933. Strike 0.9069003827597929.\n",
      "2019-04-11 14:57:54,021 - INFO - RuntimeError: Intrinsic 0.017732437138230805. Time 0.202598405351599. Strike 0.9822675628617692.\n",
      "2019-04-11 14:58:10,057 - INFO - RuntimeError: Intrinsic 0.18701370442406562. Time 0.2121555955647872. Strike 0.8129862955759344.\n",
      "2019-04-11 14:58:12,386 - INFO - RuntimeError: Intrinsic 0.1448236451152074. Time 0.13732680635352293. Strike 0.8551763548847926.\n",
      "2019-04-11 14:58:20,475 - INFO - RuntimeError: Intrinsic 0.22502867041875108. Time 0.08529605636218868. Strike 0.7749713295812489.\n",
      "2019-04-11 14:58:38,764 - INFO - RuntimeError: Intrinsic 0.036139639868160045. Time 0.19454634074711874. Strike 0.96386036013184.\n",
      "2019-04-11 14:58:40,279 - INFO - RuntimeError: Intrinsic 0.11346711093362605. Time 0.1579009241404924. Strike 0.886532889066374.\n",
      "2019-04-11 14:58:52,952 - INFO - RuntimeError: Intrinsic -0.02841394055006985. Time 0.212097816315774. Strike 1.0284139405500698.\n",
      "2019-04-11 14:59:02,343 - INFO - RuntimeError: Intrinsic 0.06797902782263576. Time 0.2265944035319755. Strike 0.9320209721773642.\n"
     ]
    },
    {
     "name": "stderr",
     "output_type": "stream",
     "text": [
      "2019-04-11 14:59:12,467 - INFO - RuntimeError: Intrinsic 0.0906255711301156. Time 0.09789155865969912. Strike 0.9093744288698844.\n",
      "2019-04-11 14:59:23,514 - INFO - RuntimeError: Intrinsic 0.22714118729045363. Time 0.17594032085959718. Strike 0.7728588127095464.\n",
      "2019-04-11 14:59:37,927 - INFO - RuntimeError: Intrinsic 0.1948204797609704. Time 0.2215704780725524. Strike 0.8051795202390296.\n",
      "2019-04-11 14:59:58,900 - INFO - RuntimeError: Intrinsic 0.22993325870822257. Time 0.2408726530313479. Strike 0.7700667412917774.\n",
      "2019-04-11 15:00:18,866 - INFO - RuntimeError: Intrinsic 0.21138827732611665. Time 0.24810903114843005. Strike 0.7886117226738834.\n",
      "2019-04-11 15:00:22,369 - INFO - RuntimeError: Intrinsic 0.06955455471763206. Time 0.1854143079737936. Strike 0.9304454452823679.\n",
      "2019-04-11 15:00:40,146 - INFO - RuntimeError: Intrinsic 0.044389922717488206. Time 0.15936919203997785. Strike 0.9556100772825118.\n",
      "2019-04-11 15:00:55,309 - INFO - RuntimeError: Intrinsic -0.005776953255010486. Time 0.1625566838435384. Strike 1.0057769532550105.\n",
      "2019-04-11 15:01:00,287 - INFO - RuntimeError: Intrinsic 0.17186334617832988. Time 0.2174598587100911. Strike 0.8281366538216701.\n",
      "2019-04-11 15:01:32,208 - INFO - RuntimeError: Intrinsic 0.1456072148550026. Time 0.20908539775601329. Strike 0.8543927851449974.\n",
      "2019-04-11 15:01:35,893 - INFO - RuntimeError: Intrinsic 0.2216153835012208. Time 0.19297938619275973. Strike 0.7783846164987792.\n",
      "2019-04-11 15:01:39,347 - INFO - RuntimeError: Intrinsic 0.14716002851814325. Time 0.2300987714678287. Strike 0.8528399714818568.\n",
      "2019-04-11 15:01:43,270 - INFO - RuntimeError: Intrinsic 0.1860906261050379. Time 0.2268641048687189. Strike 0.8139093738949621.\n",
      "2019-04-11 15:01:59,531 - INFO - RuntimeError: Intrinsic -0.05179970125356448. Time 0.2456697696902293. Strike 1.0517997012535645.\n",
      "2019-04-11 15:02:04,666 - INFO - RuntimeError: Intrinsic 0.15123449067098638. Time 0.23429963568730844. Strike 0.8487655093290136.\n",
      "2019-04-11 15:02:15,116 - INFO - RuntimeError: Intrinsic 0.20226052854431453. Time 0.13068435179452853. Strike 0.7977394714556855.\n",
      "2019-04-11 15:02:15,942 - INFO - RuntimeError: Intrinsic 0.12583626780462587. Time 0.22122203252295744. Strike 0.8741637321953741.\n",
      "2019-04-11 15:02:19,228 - INFO - RuntimeError: Intrinsic 0.15418720381021545. Time 0.2285721064924901. Strike 0.8458127961897846.\n",
      "2019-04-11 15:02:21,700 - INFO - RuntimeError: Intrinsic 0.2085581501260093. Time 0.21479375310345936. Strike 0.7914418498739907.\n",
      "2019-04-11 15:02:39,522 - INFO - RuntimeError: Intrinsic 0.13364277216540033. Time 0.2031183143250697. Strike 0.8663572278345997.\n",
      "2019-04-11 15:02:41,374 - INFO - RuntimeError: Intrinsic 0.20197734267145406. Time 0.2190151839478523. Strike 0.7980226573285459.\n",
      "2019-04-11 15:02:43,269 - INFO - RuntimeError: Intrinsic 0.032523394634400904. Time 0.2044955749207924. Strike 0.9674766053655991.\n",
      "2019-04-11 15:02:53,254 - INFO - RuntimeError: Intrinsic -0.035497988079454146. Time 0.2293576396304736. Strike 1.0354979880794541.\n",
      "2019-04-11 15:03:18,914 - INFO - RuntimeError: Intrinsic 0.17082178485332056. Time 0.20616360645237344. Strike 0.8291782151466794.\n",
      "2019-04-11 15:03:21,364 - INFO - RuntimeError: Intrinsic 0.1713478845633878. Time 0.2044665157028802. Strike 0.8286521154366122.\n",
      "2019-04-11 15:03:27,169 - INFO - RuntimeError: Intrinsic 0.0874097840496828. Time 0.2292428997648348. Strike 0.9125902159503172.\n",
      "2019-04-11 15:03:50,628 - INFO - RuntimeError: Intrinsic 0.18813291630844875. Time 0.23599531068310906. Strike 0.8118670836915513.\n",
      "2019-04-11 15:04:26,444 - INFO - RuntimeError: Intrinsic 0.24046392853175624. Time 0.2054808152919116. Strike 0.7595360714682438.\n",
      "2019-04-11 15:04:34,168 - INFO - RuntimeError: Intrinsic 0.2168532567069693. Time 0.21828385208225748. Strike 0.7831467432930307.\n",
      "2019-04-11 15:04:40,164 - INFO - RuntimeError: Intrinsic 0.0037256633011417684. Time 0.22257503773186207. Strike 0.9962743366988582.\n",
      "2019-04-11 15:04:48,714 - INFO - RuntimeError: Intrinsic 0.16797997083618843. Time 0.23149199768595655. Strike 0.8320200291638116.\n",
      "2019-04-11 15:04:52,633 - INFO - RuntimeError: Intrinsic 0.24343659016892316. Time 0.2448224992874621. Strike 0.7565634098310768.\n",
      "2019-04-11 15:05:01,446 - INFO - RuntimeError: Intrinsic 0.0996116702103993. Time 0.2254948416542841. Strike 0.9003883297896007.\n",
      "2019-04-11 15:05:08,930 - INFO - RuntimeError: Intrinsic 0.13278165506299466. Time 0.20109297376855226. Strike 0.8672183449370053.\n",
      "2019-04-11 15:05:10,225 - INFO - RuntimeError: Intrinsic 0.03710652629989397. Time 0.24732860836423315. Strike 0.962893473700106.\n",
      "2019-04-11 15:05:24,790 - INFO - RuntimeError: Intrinsic 0.1747508291585257. Time 0.24868172380208234. Strike 0.8252491708414743.\n",
      "2019-04-11 15:05:28,078 - INFO - RuntimeError: Intrinsic 0.2039105595128634. Time 0.08266678724055726. Strike 0.7960894404871366.\n",
      "2019-04-11 15:05:36,389 - INFO - RuntimeError: Intrinsic 0.21493660444936957. Time 0.24114994575810406. Strike 0.7850633955506304.\n",
      "2019-04-11 15:05:48,150 - INFO - RuntimeError: Intrinsic 0.24554888266846786. Time 0.15180172892877986. Strike 0.7544511173315321.\n",
      "2019-04-11 15:06:01,414 - INFO - RuntimeError: Intrinsic 0.1692553854679112. Time 0.1780252987410123. Strike 0.8307446145320888.\n",
      "2019-04-11 15:06:02,070 - INFO - RuntimeError: Intrinsic 0.11777117508663792. Time 0.21268153397498527. Strike 0.8822288249133621.\n",
      "2019-04-11 15:06:09,792 - INFO - RuntimeError: Intrinsic 0.1985966219295644. Time 0.17075606815696692. Strike 0.8014033780704356.\n",
      "2019-04-11 15:06:13,807 - INFO - RuntimeError: Intrinsic 0.10632153653831267. Time 0.21711092917311745. Strike 0.8936784634616873.\n",
      "2019-04-11 15:06:27,321 - INFO - RuntimeError: Intrinsic 0.01428115686642839. Time 0.2494964541474901. Strike 0.9857188431335716.\n",
      "2019-04-11 15:06:31,141 - INFO - RuntimeError: Intrinsic 0.15993353763218288. Time 0.21936529126095608. Strike 0.8400664623678171.\n",
      "2019-04-11 15:06:37,260 - INFO - RuntimeError: Intrinsic 0.2170915398353528. Time 0.2221918734970995. Strike 0.7829084601646472.\n",
      "2019-04-11 15:06:42,820 - INFO - RuntimeError: Intrinsic 0.08402761116249424. Time 0.2488336461341414. Strike 0.9159723888375058.\n",
      "2019-04-11 15:06:50,076 - INFO - RuntimeError: Intrinsic 0.2099159635538269. Time 0.20288149324494045. Strike 0.7900840364461731.\n",
      "2019-04-11 15:06:51,014 - INFO - RuntimeError: Intrinsic 0.1515220582045005. Time 0.09657159984079168. Strike 0.8484779417954995.\n",
      "2019-04-11 15:06:57,569 - INFO - RuntimeError: Intrinsic 0.2390258338139829. Time 0.20566915205830205. Strike 0.7609741661860171.\n",
      "2019-04-11 15:07:02,588 - INFO - RuntimeError: Intrinsic 0.20378303129370523. Time 0.2235064421765874. Strike 0.7962169687062948.\n",
      "2019-04-11 15:07:10,579 - INFO - RuntimeError: Intrinsic 0.14629988063445754. Time 0.16765272327589875. Strike 0.8537001193655425.\n",
      "2019-04-11 15:07:16,057 - INFO - RuntimeError: Intrinsic 0.1955010824071597. Time 0.2361861015783525. Strike 0.8044989175928403.\n",
      "2019-04-11 15:07:23,529 - INFO - RuntimeError: Intrinsic 0.24306737539548384. Time 0.2104523320677927. Strike 0.7569326246045162.\n",
      "2019-04-11 15:07:29,517 - INFO - RuntimeError: Intrinsic 0.16714935551948296. Time 0.17478157199668193. Strike 0.832850644480517.\n",
      "2019-04-11 15:07:41,276 - INFO - RuntimeError: Intrinsic 0.15961022080045117. Time 0.16728644153645272. Strike 0.8403897791995488.\n",
      "2019-04-11 15:07:43,004 - INFO - RuntimeError: Intrinsic 0.16893918096045268. Time 0.24537126653734714. Strike 0.8310608190395473.\n",
      "2019-04-11 15:07:44,155 - INFO - RuntimeError: Intrinsic 0.22161231926353453. Time 0.20767285156165274. Strike 0.7783876807364655.\n",
      "2019-04-11 15:07:59,211 - INFO - RuntimeError: Intrinsic 0.03435690689626136. Time 0.19223224879188194. Strike 0.9656430931037386.\n",
      "2019-04-11 15:08:09,063 - INFO - RuntimeError: Intrinsic -0.01677096815107637. Time 0.22212110407198188. Strike 1.0167709681510764.\n",
      "2019-04-11 15:08:24,679 - INFO - RuntimeError: Intrinsic 0.018174653198610446. Time 0.17862828933261451. Strike 0.9818253468013896.\n",
      "2019-04-11 15:09:26,670 - INFO - RuntimeError: Intrinsic 0.244061318418479. Time 0.19677469004694956. Strike 0.755938681581521.\n",
      "2019-04-11 15:09:43,467 - INFO - RuntimeError: Intrinsic 0.20399708492718371. Time 0.2489168213151377. Strike 0.7960029150728163.\n"
     ]
    },
    {
     "name": "stderr",
     "output_type": "stream",
     "text": [
      "2019-04-11 15:10:26,910 - INFO - RuntimeError: Intrinsic 0.1444310812164653. Time 0.2271807915701339. Strike 0.8555689187835347.\n",
      "2019-04-11 15:10:45,751 - INFO - RuntimeError: Intrinsic 0.12739883739392577. Time 0.22587294047598344. Strike 0.8726011626060742.\n",
      "2019-04-11 15:10:49,067 - INFO - RuntimeError: Intrinsic 0.09525823150148405. Time 0.1983218314422652. Strike 0.904741768498516.\n",
      "2019-04-11 15:10:59,961 - INFO - RuntimeError: Intrinsic 0.19957092479070082. Time 0.24155386415140215. Strike 0.8004290752092992.\n",
      "2019-04-11 15:11:11,374 - INFO - RuntimeError: Intrinsic -0.04210083914724749. Time 0.2030654358321421. Strike 1.0421008391472475.\n",
      "2019-04-11 15:11:14,775 - INFO - RuntimeError: Intrinsic 0.1903055937334579. Time 0.2274936981142069. Strike 0.8096944062665421.\n",
      "2019-04-11 15:11:22,949 - INFO - RuntimeError: Intrinsic 0.11044544257660316. Time 0.22000156726047293. Strike 0.8895545574233968.\n",
      "2019-04-11 15:11:52,147 - INFO - RuntimeError: Intrinsic -0.0027475167538073553. Time 0.23607739777690884. Strike 1.0027475167538074.\n",
      "2019-04-11 15:11:58,629 - INFO - RuntimeError: Intrinsic 0.12054438998932182. Time 0.2019807626207896. Strike 0.8794556100106782.\n",
      "2019-04-11 15:12:00,831 - INFO - RuntimeError: Intrinsic 0.20371479134294512. Time 0.2374108580402211. Strike 0.7962852086570549.\n",
      "2019-04-11 15:12:23,780 - INFO - RuntimeError: Intrinsic 0.13716306008066115. Time 0.24881769827316624. Strike 0.8628369399193389.\n",
      "2019-04-11 15:12:59,313 - INFO - RuntimeError: Intrinsic 0.12732510220671212. Time 0.2284764465072043. Strike 0.8726748977932879.\n",
      "2019-04-11 15:13:15,281 - INFO - RuntimeError: Intrinsic 0.15634138986095758. Time 0.2255867957892548. Strike 0.8436586101390424.\n",
      "2019-04-11 15:13:24,858 - INFO - RuntimeError: Intrinsic 0.22743826598333217. Time 0.21045518604051827. Strike 0.7725617340166678.\n",
      "2019-04-11 15:13:53,278 - INFO - RuntimeError: Intrinsic -0.04384909091898792. Time 0.19628190263109035. Strike 1.043849090918988.\n",
      "2019-04-11 15:14:02,025 - INFO - RuntimeError: Intrinsic 0.1358359565100924. Time 0.19955719624652046. Strike 0.8641640434899076.\n",
      "2019-04-11 15:14:11,914 - INFO - RuntimeError: Intrinsic 0.19249653306445347. Time 0.24900460452280804. Strike 0.8075034669355465.\n",
      "2019-04-11 15:14:20,963 - INFO - RuntimeError: Intrinsic -0.06534987150153881. Time 0.18703296581247494. Strike 1.0653498715015388.\n",
      "2019-04-11 15:14:26,776 - INFO - RuntimeError: Intrinsic 0.06937961825899763. Time 0.2345455257474145. Strike 0.9306203817410024.\n",
      "2019-04-11 15:14:37,131 - INFO - RuntimeError: Intrinsic 0.21321748970855514. Time 0.17926644139871226. Strike 0.7867825102914449.\n",
      "2019-04-11 15:14:38,136 - INFO - RuntimeError: Intrinsic -0.015223846910415118. Time 0.23103193274099. Strike 1.0152238469104151.\n",
      "2019-04-11 15:14:47,810 - INFO - RuntimeError: Intrinsic -0.09629951060622699. Time 0.1984936088248255. Strike 1.096299510606227.\n",
      "2019-04-11 15:14:53,912 - INFO - RuntimeError: Intrinsic 0.24842063041298057. Time 0.18728444215315093. Strike 0.7515793695870194.\n",
      "2019-04-11 15:14:55,287 - INFO - RuntimeError: Intrinsic 0.16320507599542977. Time 0.18810253685058684. Strike 0.8367949240045702.\n",
      "2019-04-11 15:14:59,790 - INFO - RuntimeError: Intrinsic 0.048392753965352364. Time 0.22601688661335814. Strike 0.9516072460346476.\n",
      "2019-04-11 15:15:05,245 - INFO - RuntimeError: Intrinsic 0.14403353686947928. Time 0.24749190963318815. Strike 0.8559664631305207.\n",
      "2019-04-11 15:15:10,829 - INFO - RuntimeError: Intrinsic -0.022462080908350446. Time 0.16396070380499872. Strike 1.0224620809083504.\n",
      "2019-04-11 15:15:20,578 - INFO - RuntimeError: Intrinsic -0.028590791434470297. Time 0.21679307681753876. Strike 1.0285907914344703.\n",
      "2019-04-11 15:15:21,735 - INFO - RuntimeError: Intrinsic 0.24676437651200522. Time 0.2187764567175051. Strike 0.7532356234879948.\n",
      "2019-04-11 15:15:24,217 - INFO - RuntimeError: Intrinsic 0.15888979384275892. Time 0.19089345204252786. Strike 0.8411102061572411.\n",
      "2019-04-11 15:15:29,145 - INFO - RuntimeError: Intrinsic 0.23572304876880834. Time 0.2413430120396331. Strike 0.7642769512311917.\n",
      "2019-04-11 15:15:36,054 - INFO - RuntimeError: Intrinsic 0.050788764516305984. Time 0.22108728111146447. Strike 0.949211235483694.\n",
      "2019-04-11 15:15:38,612 - INFO - RuntimeError: Intrinsic 0.14303739386632597. Time 0.2299753589742365. Strike 0.856962606133674.\n",
      "2019-04-11 15:15:40,692 - INFO - RuntimeError: Intrinsic 0.2123554326816226. Time 0.22129362660550966. Strike 0.7876445673183774.\n",
      "2019-04-11 15:15:58,553 - INFO - RuntimeError: Intrinsic 0.24869220641254586. Time 0.219522234088812. Strike 0.7513077935874541.\n",
      "2019-04-11 15:16:01,772 - INFO - RuntimeError: Intrinsic 0.1329752879081939. Time 0.2277257417209959. Strike 0.8670247120918061.\n",
      "2019-04-11 15:16:13,227 - INFO - RuntimeError: Intrinsic 0.17304020836492873. Time 0.18459024413687747. Strike 0.8269597916350713.\n",
      "2019-04-11 15:16:15,655 - INFO - RuntimeError: Intrinsic -0.0990073018147879. Time 0.2436334235958427. Strike 1.099007301814788.\n",
      "2019-04-11 15:16:56,873 - INFO - RuntimeError: Intrinsic -0.03688275705180777. Time 0.1116213820381418. Strike 1.0368827570518078.\n",
      "2019-04-11 15:17:15,656 - INFO - RuntimeError: Intrinsic 0.1722449166713783. Time 0.1620116917861185. Strike 0.8277550833286217.\n",
      "2019-04-11 15:17:21,517 - INFO - RuntimeError: Intrinsic -0.16319668560487433. Time 0.24986925543794966. Strike 1.1631966856048743.\n",
      "2019-04-11 15:17:24,376 - INFO - RuntimeError: Intrinsic 0.18122115839930508. Time 0.20101071912925872. Strike 0.8187788416006949.\n",
      "2019-04-11 15:17:36,009 - INFO - RuntimeError: Intrinsic 0.20319937591848258. Time 0.1922478398128436. Strike 0.7968006240815174.\n",
      "2019-04-11 15:17:42,525 - INFO - RuntimeError: Intrinsic 0.09649401981507744. Time 0.16728682686830632. Strike 0.9035059801849226.\n",
      "2019-04-11 15:17:48,138 - INFO - RuntimeError: Intrinsic 0.10786538238781607. Time 0.2320484556658885. Strike 0.8921346176121839.\n",
      "2019-04-11 15:17:58,760 - INFO - RuntimeError: Intrinsic 0.05868430983315476. Time 0.2372062163629369. Strike 0.9413156901668452.\n",
      "2019-04-11 15:18:11,853 - INFO - RuntimeError: Intrinsic 0.05664721677776596. Time 0.1659247171087761. Strike 0.943352783222234.\n",
      "2019-04-11 15:18:20,224 - INFO - RuntimeError: Intrinsic 0.1461340242598449. Time 0.2280757152380133. Strike 0.8538659757401551.\n",
      "2019-04-11 15:18:21,876 - INFO - RuntimeError: Intrinsic 0.11569635127182198. Time 0.17397017348373495. Strike 0.884303648728178.\n",
      "2019-04-11 15:18:28,184 - INFO - RuntimeError: Intrinsic 0.20093732079990612. Time 0.22680306060361866. Strike 0.7990626792000939.\n",
      "2019-04-11 15:18:30,166 - INFO - RuntimeError: Intrinsic 0.23413513858321577. Time 0.20720082380028845. Strike 0.7658648614167842.\n",
      "2019-04-11 15:18:43,591 - INFO - RuntimeError: Intrinsic -0.023401187401520085. Time 0.2413063474415781. Strike 1.02340118740152.\n",
      "2019-04-11 15:18:50,253 - INFO - RuntimeError: Intrinsic 0.19535800461953046. Time 0.12164620335674485. Strike 0.8046419953804695.\n",
      "2019-04-11 15:18:59,654 - INFO - RuntimeError: Intrinsic 0.1875036596625721. Time 0.221198261495785. Strike 0.8124963403374279.\n",
      "2019-04-11 15:19:06,617 - INFO - RuntimeError: Intrinsic 0.048237085085684805. Time 0.16762775314583905. Strike 0.9517629149143152.\n",
      "2019-04-11 15:19:08,824 - INFO - RuntimeError: Intrinsic 0.009031118122517223. Time 0.2323813824993063. Strike 0.9909688818774828.\n",
      "2019-04-11 15:19:14,318 - INFO - RuntimeError: Intrinsic 0.03702481435230798. Time 0.1613416705279339. Strike 0.962975185647692.\n",
      "2019-04-11 15:19:20,565 - INFO - RuntimeError: Intrinsic 0.12022137549392264. Time 0.19510133562578932. Strike 0.8797786245060774.\n",
      "2019-04-11 15:19:21,743 - INFO - RuntimeError: Intrinsic 0.18817605953669225. Time 0.2217313447195068. Strike 0.8118239404633077.\n",
      "2019-04-11 15:19:33,602 - INFO - RuntimeError: Intrinsic 0.12140629761118926. Time 0.06804406934645407. Strike 0.8785937023888107.\n",
      "2019-04-11 15:19:35,462 - INFO - RuntimeError: Intrinsic 0.0691157088959532. Time 0.13691600401438453. Strike 0.9308842911040468.\n",
      "2019-04-11 15:19:42,853 - INFO - RuntimeError: Intrinsic 0.22698314578257295. Time 0.20439845420793415. Strike 0.773016854217427.\n",
      "2019-04-11 15:19:46,836 - INFO - RuntimeError: Intrinsic -0.0011740381156974955. Time 0.2255367997001209. Strike 1.0011740381156975.\n"
     ]
    },
    {
     "name": "stderr",
     "output_type": "stream",
     "text": [
      "2019-04-11 15:19:50,191 - INFO - RuntimeError: Intrinsic 0.14702546387127458. Time 0.21949129054809915. Strike 0.8529745361287254.\n",
      "2019-04-11 15:19:53,275 - INFO - RuntimeError: Intrinsic 0.2116044600884186. Time 0.21968924956113933. Strike 0.7883955399115814.\n",
      "2019-04-11 15:19:54,561 - INFO - RuntimeError: Intrinsic 0.23809173249042714. Time 0.2106586065433363. Strike 0.7619082675095729.\n",
      "2019-04-11 15:19:58,438 - INFO - RuntimeError: Intrinsic -0.07372024139509636. Time 0.2267708966359155. Strike 1.0737202413950964.\n",
      "2019-04-11 15:19:59,340 - INFO - RuntimeError: Intrinsic 0.13835285749964654. Time 0.24384546442546035. Strike 0.8616471425003535.\n",
      "2019-04-11 15:20:04,362 - INFO - RuntimeError: Intrinsic -0.014938901219333056. Time 0.2396413574854413. Strike 1.014938901219333.\n",
      "2019-04-11 15:20:05,721 - INFO - RuntimeError: Intrinsic 0.2058307322024634. Time 0.1636143449656157. Strike 0.7941692677975366.\n",
      "2019-04-11 15:20:17,652 - INFO - RuntimeError: Intrinsic 0.18054018653957038. Time 0.16418512051114098. Strike 0.8194598134604296.\n",
      "2019-04-11 15:20:19,694 - INFO - RuntimeError: Intrinsic 0.10683585678579322. Time 0.18203907709208625. Strike 0.8931641432142068.\n",
      "2019-04-11 15:20:46,815 - INFO - RuntimeError: Intrinsic 0.23075885546238983. Time 0.18099055877927803. Strike 0.7692411445376102.\n",
      "2019-04-11 15:20:50,608 - INFO - RuntimeError: Intrinsic 0.2385022005285673. Time 0.2259135124957696. Strike 0.7614977994714327.\n",
      "2019-04-11 15:20:54,674 - INFO - RuntimeError: Intrinsic 0.21081283923392902. Time 0.19600204488200834. Strike 0.789187160766071.\n",
      "2019-04-11 15:21:10,926 - INFO - RuntimeError: Intrinsic 0.2074609830299291. Time 0.2305201120111625. Strike 0.7925390169700709.\n",
      "2019-04-11 15:21:12,305 - INFO - RuntimeError: Intrinsic 0.22594792548502984. Time 0.2422867955939564. Strike 0.7740520745149702.\n",
      "2019-04-11 15:21:14,295 - INFO - RuntimeError: Intrinsic 0.2107243789486909. Time 0.23106575627899476. Strike 0.7892756210513091.\n",
      "2019-04-11 15:21:17,966 - INFO - RuntimeError: Intrinsic 0.20711600662762408. Time 0.11596098758065893. Strike 0.7928839933723759.\n",
      "2019-04-11 15:21:24,961 - INFO - RuntimeError: Intrinsic 0.22386556211792352. Time 0.17780494816100836. Strike 0.7761344378820765.\n",
      "2019-04-11 15:21:39,142 - INFO - RuntimeError: Intrinsic 0.10985861819552112. Time 0.2282783967667787. Strike 0.8901413818044789.\n",
      "2019-04-11 15:21:41,802 - INFO - RuntimeError: Intrinsic -0.08147191870654513. Time 0.224314246542108. Strike 1.0814719187065451.\n",
      "2019-04-11 15:21:54,723 - INFO - RuntimeError: Intrinsic 0.11004336721889674. Time 0.2493190823367533. Strike 0.8899566327811033.\n",
      "2019-04-11 15:22:11,738 - INFO - RuntimeError: Intrinsic -0.15931280297306794. Time 0.20120386879074345. Strike 1.159312802973068.\n",
      "2019-04-11 15:22:25,069 - INFO - RuntimeError: Intrinsic 0.10088884437598822. Time 0.19458297106360328. Strike 0.8991111556240118.\n",
      "2019-04-11 15:22:28,081 - INFO - RuntimeError: Intrinsic 0.07992518869511778. Time 0.24252098152176735. Strike 0.9200748113048822.\n",
      "2019-04-11 15:22:30,332 - INFO - RuntimeError: Intrinsic -0.15880861665202262. Time 0.2305904671281073. Strike 1.1588086166520226.\n",
      "2019-04-11 15:22:42,154 - INFO - RuntimeError: Intrinsic 0.08713489279160636. Time 0.19846377858337425. Strike 0.9128651072083936.\n",
      "2019-04-11 15:22:48,754 - INFO - RuntimeError: Intrinsic 0.22886024587712206. Time 0.1852059757575888. Strike 0.7711397541228779.\n",
      "2019-04-11 15:22:55,024 - INFO - RuntimeError: Intrinsic 0.0034131505447796417. Time 0.2319161139827603. Strike 0.9965868494552204.\n",
      "2019-04-11 15:23:05,936 - INFO - RuntimeError: Intrinsic -0.06236964503574982. Time 0.2312613578841869. Strike 1.0623696450357498.\n",
      "2019-04-11 15:23:09,099 - INFO - RuntimeError: Intrinsic 0.19893815318325336. Time 0.22778879812604266. Strike 0.8010618468167466.\n",
      "2019-04-11 15:23:10,273 - INFO - RuntimeError: Intrinsic 0.15282265058892108. Time 0.20626816231182965. Strike 0.8471773494110789.\n",
      "2019-04-11 15:23:19,560 - INFO - RuntimeError: Intrinsic 0.18174711740606564. Time 0.2257151867460509. Strike 0.8182528825939344.\n",
      "2019-04-11 15:23:25,778 - INFO - RuntimeError: Intrinsic 0.2189951474398365. Time 0.22314238331414388. Strike 0.7810048525601635.\n",
      "2019-04-11 15:23:26,328 - INFO - RuntimeError: Intrinsic 0.2241243075116035. Time 0.2199735629443707. Strike 0.7758756924883965.\n",
      "2019-04-11 15:23:27,638 - INFO - RuntimeError: Intrinsic 0.24363303706883144. Time 0.21214165699274695. Strike 0.7563669629311686.\n",
      "2019-04-11 15:23:34,407 - INFO - RuntimeError: Intrinsic 0.07013722082311757. Time 0.24602620782504. Strike 0.9298627791768824.\n",
      "2019-04-11 15:23:37,220 - INFO - RuntimeError: Intrinsic 0.16079091044576033. Time 0.2430725376974496. Strike 0.8392090895542397.\n",
      "2019-04-11 15:23:42,470 - INFO - RuntimeError: Intrinsic 0.24715283913022112. Time 0.11042417927629856. Strike 0.7528471608697789.\n",
      "2019-04-11 15:23:52,175 - INFO - RuntimeError: Intrinsic 0.24927288922410007. Time 0.2345264086913363. Strike 0.7507271107758999.\n",
      "2019-04-11 15:23:53,192 - INFO - RuntimeError: Intrinsic 0.2475135552971679. Time 0.2431048027331035. Strike 0.7524864447028321.\n",
      "2019-04-11 15:24:20,158 - INFO - RuntimeError: Intrinsic 0.19273352017457102. Time 0.2317772913512665. Strike 0.807266479825429.\n",
      "2019-04-11 15:24:22,642 - INFO - RuntimeError: Intrinsic -0.0955662807590143. Time 0.22922134048684195. Strike 1.0955662807590143.\n",
      "2019-04-11 15:24:28,855 - INFO - RuntimeError: Intrinsic 0.18687677585462792. Time 0.23635732071399845. Strike 0.8131232241453721.\n",
      "2019-04-11 15:24:37,009 - INFO - RuntimeError: Intrinsic 0.1269239609421029. Time 0.2421001055804344. Strike 0.8730760390578971.\n",
      "2019-04-11 15:24:38,227 - INFO - RuntimeError: Intrinsic 0.1875224477092079. Time 0.1615401760710175. Strike 0.8124775522907921.\n",
      "2019-04-11 15:24:42,837 - INFO - RuntimeError: Intrinsic 0.02458888071518761. Time 0.2336755761542247. Strike 0.9754111192848124.\n",
      "2019-04-11 15:24:55,092 - INFO - RuntimeError: Intrinsic 0.07402353198161038. Time 0.21808388638614604. Strike 0.9259764680183896.\n",
      "2019-04-11 15:24:56,482 - INFO - RuntimeError: Intrinsic 0.011670218730605586. Time 0.2271123839871096. Strike 0.9883297812693944.\n",
      "2019-04-11 15:24:59,263 - INFO - RuntimeError: Intrinsic 0.22405823171797878. Time 0.2357000038303356. Strike 0.7759417682820212.\n",
      "2019-04-11 15:25:07,527 - INFO - RuntimeError: Intrinsic 0.019332808865393236. Time 0.241265456888438. Strike 0.9806671911346068.\n",
      "2019-04-11 15:25:22,449 - INFO - RuntimeError: Intrinsic 0.009772357164718248. Time 0.18705451467829332. Strike 0.9902276428352818.\n",
      "2019-04-11 15:25:23,423 - INFO - RuntimeError: Intrinsic 0.12743257609010505. Time 0.1753322486286557. Strike 0.872567423909895.\n",
      "2019-04-11 15:25:34,541 - INFO - RuntimeError: Intrinsic 0.002417565641192221. Time 0.22964296494791744. Strike 0.9975824343588078.\n",
      "2019-04-11 15:25:35,340 - INFO - RuntimeError: Intrinsic 0.20605445322817295. Time 0.22439904213367828. Strike 0.793945546771827.\n",
      "2019-04-11 15:25:39,981 - INFO - RuntimeError: Intrinsic -0.15503948618779106. Time 0.2277796056073848. Strike 1.155039486187791.\n",
      "2019-04-11 15:25:43,299 - INFO - RuntimeError: Intrinsic 0.10540233560614554. Time 0.2110007818555457. Strike 0.8945976643938545.\n",
      "2019-04-11 15:25:48,378 - INFO - RuntimeError: Intrinsic 0.20839812794680734. Time 0.24753257041220195. Strike 0.7916018720531927.\n",
      "2019-04-11 15:25:49,236 - INFO - RuntimeError: Intrinsic 0.13825829925734334. Time 0.13149682683549554. Strike 0.8617417007426567.\n",
      "2019-04-11 15:26:11,781 - INFO - RuntimeError: Intrinsic 0.17038837077891877. Time 0.1354910028363257. Strike 0.8296116292210812.\n",
      "2019-04-11 15:26:17,304 - INFO - RuntimeError: Intrinsic 0.23491002206150136. Time 0.2314718428483045. Strike 0.7650899779384986.\n",
      "2019-04-11 15:26:30,749 - INFO - RuntimeError: Intrinsic -0.02956248813308804. Time 0.16312233265206638. Strike 1.029562488133088.\n",
      "2019-04-11 15:26:40,670 - INFO - RuntimeError: Intrinsic 0.23045650204922774. Time 0.21274587638723946. Strike 0.7695434979507723.\n",
      "2019-04-11 15:26:49,783 - INFO - RuntimeError: Intrinsic 0.18587814464657793. Time 0.2461370789867346. Strike 0.8141218553534221.\n",
      "2019-04-11 15:26:53,899 - INFO - RuntimeError: Intrinsic 0.18292165406043348. Time 0.21567542877743234. Strike 0.8170783459395665.\n"
     ]
    },
    {
     "name": "stderr",
     "output_type": "stream",
     "text": [
      "2019-04-11 15:27:17,838 - INFO - RuntimeError: Intrinsic -0.017004705153607524. Time 0.22282814586938712. Strike 1.0170047051536075.\n",
      "2019-04-11 15:27:25,298 - INFO - RuntimeError: Intrinsic 0.13929637631104497. Time 0.18208909085665714. Strike 0.860703623688955.\n",
      "2019-04-11 15:27:30,562 - INFO - RuntimeError: Intrinsic -0.19334655711064164. Time 0.2313186067985277. Strike 1.1933465571106416.\n",
      "2019-04-11 15:27:34,241 - INFO - RuntimeError: Intrinsic 0.2446751619855877. Time 0.2105751214333446. Strike 0.7553248380144123.\n",
      "2019-04-11 15:27:37,136 - INFO - RuntimeError: Intrinsic 0.05087382279483199. Time 0.20295616507008168. Strike 0.949126177205168.\n",
      "2019-04-11 15:27:44,540 - INFO - RuntimeError: Intrinsic 0.21022733622964207. Time 0.2374811553708201. Strike 0.7897726637703579.\n",
      "2019-04-11 15:27:48,480 - INFO - RuntimeError: Intrinsic 0.19276015865424745. Time 0.2282876306614789. Strike 0.8072398413457526.\n",
      "2019-04-11 15:27:49,886 - INFO - RuntimeError: Intrinsic 0.18409786072541245. Time 0.18505813806218635. Strike 0.8159021392745875.\n",
      "2019-04-11 15:27:58,443 - INFO - RuntimeError: Intrinsic 0.23800360030021084. Time 0.2464544154656931. Strike 0.7619963996997892.\n",
      "2019-04-11 15:28:13,350 - INFO - RuntimeError: Intrinsic 0.2045953175560291. Time 0.10623481588796696. Strike 0.7954046824439709.\n",
      "2019-04-11 15:28:20,362 - INFO - RuntimeError: Intrinsic 0.046228500903878755. Time 0.2296809165536124. Strike 0.9537714990961212.\n",
      "2019-04-11 15:28:23,928 - INFO - RuntimeError: Intrinsic 0.22357624661399134. Time 0.2217189343676624. Strike 0.7764237533860087.\n",
      "2019-04-11 15:28:25,192 - INFO - RuntimeError: Intrinsic -0.06117426156403982. Time 0.21769864084972607. Strike 1.0611742615640398.\n",
      "2019-04-11 15:28:27,341 - INFO - RuntimeError: Intrinsic 0.21392562629941836. Time 0.18913808622050465. Strike 0.7860743737005816.\n",
      "2019-04-11 15:28:36,003 - INFO - RuntimeError: Intrinsic 0.22032974378638337. Time 0.2217967909714696. Strike 0.7796702562136166.\n",
      "2019-04-11 15:28:46,958 - INFO - RuntimeError: Intrinsic 0.21095811343587634. Time 0.2489222793410261. Strike 0.7890418865641237.\n",
      "2019-04-11 15:29:04,728 - INFO - RuntimeError: Intrinsic 0.13617064191621553. Time 0.10216658531272572. Strike 0.8638293580837845.\n",
      "2019-04-11 15:29:05,087 - INFO - RuntimeError: Intrinsic 0.21342115680954876. Time 0.22407703184015995. Strike 0.7865788431904512.\n",
      "2019-04-11 15:29:06,895 - INFO - RuntimeError: Intrinsic 0.22375811624358544. Time 0.2452286488193951. Strike 0.7762418837564146.\n",
      "2019-04-11 15:29:07,926 - INFO - RuntimeError: Intrinsic 0.07052921198920481. Time 0.22029519283963814. Strike 0.9294707880107952.\n",
      "2019-04-11 15:29:31,838 - INFO - RuntimeError: Intrinsic 0.07809482845311844. Time 0.1858220856520255. Strike 0.9219051715468816.\n",
      "2019-04-11 15:29:42,360 - INFO - RuntimeError: Intrinsic -0.03969135809229907. Time 0.2281420812201898. Strike 1.039691358092299.\n",
      "2019-04-11 15:29:45,214 - INFO - RuntimeError: Intrinsic 0.08416630427840399. Time 0.19807403167895848. Strike 0.915833695721596.\n",
      "2019-04-11 15:29:47,439 - INFO - RuntimeError: Intrinsic 0.0353191428074916. Time 0.2352844090945395. Strike 0.9646808571925084.\n",
      "2019-04-11 15:29:48,111 - INFO - RuntimeError: Intrinsic 0.005013081564846367. Time 0.2300166931578924. Strike 0.9949869184351536.\n",
      "2019-04-11 15:29:51,226 - INFO - RuntimeError: Intrinsic 0.1793548228894073. Time 0.21369180512996336. Strike 0.8206451771105927.\n",
      "2019-04-11 15:30:02,224 - INFO - RuntimeError: Intrinsic 0.23082388968864942. Time 0.23857780900840045. Strike 0.7691761103113506.\n",
      "2019-04-11 15:30:06,443 - INFO - RuntimeError: Intrinsic 0.24572776456000434. Time 0.10318426136942344. Strike 0.7542722354399957.\n",
      "2019-04-11 15:30:07,203 - INFO - RuntimeError: Intrinsic -0.08414167114270743. Time 0.24288270892317465. Strike 1.0841416711427074.\n",
      "2019-04-11 15:30:08,938 - INFO - RuntimeError: Intrinsic 0.19634483540450542. Time 0.18351808006712705. Strike 0.8036551645954946.\n",
      "2019-04-11 15:30:18,928 - INFO - RuntimeError: Intrinsic 0.18351597359520067. Time 0.1234496440922666. Strike 0.8164840264047993.\n",
      "2019-04-11 15:30:20,299 - INFO - RuntimeError: Intrinsic 0.1698190891146215. Time 0.2021604504603144. Strike 0.8301809108853785.\n",
      "2019-04-11 15:30:28,756 - INFO - RuntimeError: Intrinsic 0.16934327164193586. Time 0.15144200319173864. Strike 0.8306567283580641.\n",
      "2019-04-11 15:30:50,985 - INFO - RuntimeError: Intrinsic 0.23343075575089822. Time 0.21514306370461755. Strike 0.7665692442491018.\n",
      "2019-04-11 15:30:59,776 - INFO - RuntimeError: Intrinsic -0.0001284923378674918. Time 0.20182182354943384. Strike 1.0001284923378675.\n",
      "2019-04-11 15:31:07,176 - INFO - RuntimeError: Intrinsic 0.03388615529984562. Time 0.21018906284105648. Strike 0.9661138447001544.\n",
      "2019-04-11 15:31:19,392 - INFO - RuntimeError: Intrinsic 0.17860214133559582. Time 0.2278018094699925. Strike 0.8213978586644042.\n",
      "2019-04-11 15:31:23,173 - INFO - RuntimeError: Intrinsic -0.032319138896255595. Time 0.22119131989707894. Strike 1.0323191388962556.\n",
      "2019-04-11 15:31:28,171 - INFO - RuntimeError: Intrinsic 0.19755386326459723. Time 0.19668872688374375. Strike 0.8024461367354028.\n",
      "2019-04-11 15:31:31,039 - INFO - RuntimeError: Intrinsic 0.24526702332438866. Time 0.2109551138729115. Strike 0.7547329766756113.\n",
      "2019-04-11 15:31:33,575 - INFO - RuntimeError: Intrinsic 0.024619389977780348. Time 0.17675522720233053. Strike 0.9753806100222197.\n",
      "2019-04-11 15:31:42,681 - INFO - RuntimeError: Intrinsic 0.2485756038240653. Time 0.14937080303167286. Strike 0.7514243961759347.\n",
      "2019-04-11 15:31:43,904 - INFO - RuntimeError: Intrinsic 0.20589381349246094. Time 0.23488669413128505. Strike 0.7941061865075391.\n",
      "2019-04-11 15:31:54,885 - INFO - RuntimeError: Intrinsic 0.24014150628805464. Time 0.2498782560115895. Strike 0.7598584937119454.\n",
      "2019-04-11 15:31:57,850 - INFO - RuntimeError: Intrinsic 0.12874971448371175. Time 0.24773185688063695. Strike 0.8712502855162882.\n",
      "2019-04-11 15:32:06,737 - INFO - RuntimeError: Intrinsic -0.037816532037043826. Time 0.20926821668458512. Strike 1.0378165320370438.\n",
      "2019-04-11 15:32:08,264 - INFO - RuntimeError: Intrinsic 0.2443135886581691. Time 0.20291025014411196. Strike 0.7556864113418309.\n",
      "2019-04-11 15:32:19,783 - INFO - RuntimeError: Intrinsic 0.23333116255667852. Time 0.1961437590524634. Strike 0.7666688374433215.\n",
      "2019-04-11 15:32:22,896 - INFO - RuntimeError: Intrinsic 0.1730775542226215. Time 0.2289926237887253. Strike 0.8269224457773785.\n",
      "2019-04-11 15:32:30,194 - INFO - RuntimeError: Intrinsic 0.23665891005586182. Time 0.2381550206777649. Strike 0.7633410899441382.\n",
      "2019-04-11 15:32:40,733 - INFO - RuntimeError: Intrinsic 0.14239556744836024. Time 0.22321761455745284. Strike 0.8576044325516398.\n",
      "2019-04-11 15:33:29,375 - INFO - RuntimeError: Intrinsic 0.2435326948777331. Time 0.21540081731566496. Strike 0.7564673051222669.\n",
      "2019-04-11 15:33:45,136 - INFO - RuntimeError: Intrinsic 0.16335451876739548. Time 0.1465015421908612. Strike 0.8366454812326045.\n",
      "2019-04-11 15:33:49,175 - INFO - RuntimeError: Intrinsic 0.10931988126219694. Time 0.159700238092083. Strike 0.8906801187378031.\n",
      "2019-04-11 15:33:51,843 - INFO - RuntimeError: Intrinsic 0.23117635590565588. Time 0.2006835906270273. Strike 0.7688236440943441.\n",
      "2019-04-11 15:33:58,092 - INFO - RuntimeError: Intrinsic 0.1413014930488472. Time 0.23898358073720805. Strike 0.8586985069511528.\n",
      "2019-04-11 15:33:59,072 - INFO - RuntimeError: Intrinsic 0.18681402855328721. Time 0.19655561242824127. Strike 0.8131859714467128.\n",
      "2019-04-11 15:34:15,754 - INFO - RuntimeError: Intrinsic 0.13442054966025052. Time 0.1693009740240975. Strike 0.8655794503397495.\n",
      "2019-04-11 15:34:16,697 - INFO - RuntimeError: Intrinsic 0.10965898820458575. Time 0.1811502935799372. Strike 0.8903410117954142.\n",
      "2019-04-11 15:34:36,467 - INFO - RuntimeError: Intrinsic 0.22934308272603499. Time 0.2279545730341428. Strike 0.770656917273965.\n",
      "2019-04-11 15:34:40,594 - INFO - RuntimeError: Intrinsic -0.06209283173084512. Time 0.2334318813646377. Strike 1.0620928317308451.\n",
      "2019-04-11 15:34:52,715 - INFO - RuntimeError: Intrinsic -0.04759422824822024. Time 0.2217995308861583. Strike 1.0475942282482202.\n",
      "2019-04-11 15:35:06,427 - INFO - RuntimeError: Intrinsic 0.15960999689617172. Time 0.17570891689576235. Strike 0.8403900031038283.\n"
     ]
    },
    {
     "name": "stderr",
     "output_type": "stream",
     "text": [
      "2019-04-11 15:35:13,552 - INFO - RuntimeError: Intrinsic 0.2468552990670302. Time 0.2030999407674648. Strike 0.7531447009329698.\n",
      "2019-04-11 15:35:26,822 - INFO - RuntimeError: Intrinsic 0.1939707594460266. Time 0.2273724439956753. Strike 0.8060292405539734.\n",
      "2019-04-11 15:35:28,558 - INFO - RuntimeError: Intrinsic 0.021856723042067205. Time 0.2364316624852869. Strike 0.9781432769579328.\n",
      "2019-04-11 15:35:29,370 - INFO - RuntimeError: Intrinsic -0.09261421315187102. Time 0.1952972581463716. Strike 1.092614213151871.\n",
      "2019-04-11 15:35:44,183 - INFO - RuntimeError: Intrinsic 0.1553005827463847. Time 0.2360550503665319. Strike 0.8446994172536153.\n",
      "2019-04-11 15:35:46,223 - INFO - RuntimeError: Intrinsic 0.10530626586864367. Time 0.2285635991249741. Strike 0.8946937341313563.\n",
      "2019-04-11 15:35:56,788 - INFO - RuntimeError: Intrinsic 0.23847342514711567. Time 0.1949223130238556. Strike 0.7615265748528843.\n",
      "2019-04-11 15:35:57,418 - INFO - RuntimeError: Intrinsic 0.1608485910380646. Time 0.22478259785269025. Strike 0.8391514089619354.\n",
      "2019-04-11 15:36:06,039 - INFO - RuntimeError: Intrinsic 0.1229111510390074. Time 0.2184801862218694. Strike 0.8770888489609926.\n",
      "2019-04-11 15:36:07,316 - INFO - RuntimeError: Intrinsic 0.011199961166555639. Time 0.2153721069095032. Strike 0.9888000388334444.\n",
      "2019-04-11 15:36:10,694 - INFO - RuntimeError: Intrinsic 0.10345724854458793. Time 0.2047148807902584. Strike 0.8965427514554121.\n",
      "2019-04-11 15:36:12,929 - INFO - RuntimeError: Intrinsic 0.18754751967323158. Time 0.1251582836900194. Strike 0.8124524803267684.\n",
      "2019-04-11 15:36:24,042 - INFO - RuntimeError: Intrinsic -0.08009952064730275. Time 0.231314335114533. Strike 1.0800995206473027.\n",
      "2019-04-11 15:36:25,270 - INFO - RuntimeError: Intrinsic 0.059809666419158636. Time 0.2432244739208708. Strike 0.9401903335808414.\n",
      "2019-04-11 15:36:35,359 - INFO - RuntimeError: Intrinsic 0.14827891191754627. Time 0.2288276167885193. Strike 0.8517210880824537.\n",
      "2019-04-11 15:36:46,162 - INFO - RuntimeError: Intrinsic -0.01828855953768449. Time 0.2364624878189307. Strike 1.0182885595376845.\n",
      "2019-04-11 15:36:51,757 - INFO - RuntimeError: Intrinsic 0.23860446384072553. Time 0.2171565848045966. Strike 0.7613955361592745.\n",
      "2019-04-11 15:37:05,028 - INFO - RuntimeError: Intrinsic 0.15967707590182656. Time 0.21932911052097373. Strike 0.8403229240981734.\n",
      "2019-04-11 15:37:05,694 - INFO - RuntimeError: Intrinsic 0.16154460502223755. Time 0.18179472202422495. Strike 0.8384553949777624.\n",
      "2019-04-11 15:37:25,800 - INFO - RuntimeError: Intrinsic 0.20912860630215624. Time 0.2361289524269737. Strike 0.7908713936978438.\n",
      "2019-04-11 15:37:28,554 - INFO - RuntimeError: Intrinsic 0.2099710158816811. Time 0.2411560370467929. Strike 0.7900289841183189.\n",
      "2019-04-11 15:37:52,825 - INFO - RuntimeError: Intrinsic 0.09626539715016602. Time 0.2435857712655573. Strike 0.903734602849834.\n",
      "2019-04-11 15:37:57,193 - INFO - RuntimeError: Intrinsic 0.15167345219908934. Time 0.23475172335001376. Strike 0.8483265478009107.\n",
      "2019-04-11 15:38:11,824 - INFO - RuntimeError: Intrinsic -0.046938913150265105. Time 0.23664040709836806. Strike 1.046938913150265.\n",
      "2019-04-11 15:38:13,959 - INFO - RuntimeError: Intrinsic 0.05975679498189845. Time 0.20678755146624533. Strike 0.9402432050181015.\n",
      "2019-04-11 15:38:25,544 - INFO - RuntimeError: Intrinsic 0.09598694233143823. Time 0.24287944910810025. Strike 0.9040130576685618.\n",
      "2019-04-11 15:38:31,645 - INFO - RuntimeError: Intrinsic -0.07012411826792198. Time 0.21651988769577385. Strike 1.070124118267922.\n",
      "2019-04-11 15:38:32,185 - INFO - RuntimeError: Intrinsic 0.09957240293181491. Time 0.1921478078450075. Strike 0.9004275970681851.\n",
      "2019-04-11 15:38:33,765 - INFO - RuntimeError: Intrinsic 0.10290194188540547. Time 0.2308573770529284. Strike 0.8970980581145945.\n",
      "2019-04-11 15:38:34,611 - INFO - RuntimeError: Intrinsic 0.006496503097120243. Time 0.2395900209898376. Strike 0.9935034969028798.\n",
      "2019-04-11 15:38:41,405 - INFO - RuntimeError: Intrinsic 0.10310038422722145. Time 0.21064137175009934. Strike 0.8968996157727785.\n",
      "2019-04-11 15:38:49,341 - INFO - RuntimeError: Intrinsic 0.1557126286718955. Time 0.20306698524682493. Strike 0.8442873713281045.\n",
      "2019-04-11 15:39:00,500 - INFO - RuntimeError: Intrinsic -0.005607904980597045. Time 0.2120385740502072. Strike 1.005607904980597.\n",
      "2019-04-11 15:39:05,270 - INFO - RuntimeError: Intrinsic 0.24937293299003693. Time 0.213762563751636. Strike 0.7506270670099631.\n",
      "2019-04-11 15:39:09,989 - INFO - RuntimeError: Intrinsic 0.2009380731312005. Time 0.14010108698108611. Strike 0.7990619268687995.\n",
      "2019-04-11 15:39:13,726 - INFO - RuntimeError: Intrinsic 0.06663230803082076. Time 0.23661697796977385. Strike 0.9333676919691792.\n",
      "2019-04-11 15:39:20,753 - INFO - RuntimeError: Intrinsic 0.0688154377471788. Time 0.18583033111077715. Strike 0.9311845622528212.\n",
      "2019-04-11 15:39:27,537 - INFO - RuntimeError: Intrinsic -0.0059717353383617056. Time 0.186359488089512. Strike 1.0059717353383617.\n",
      "2019-04-11 15:39:30,141 - INFO - RuntimeError: Intrinsic 0.08190101863625276. Time 0.2340608660712181. Strike 0.9180989813637472.\n",
      "2019-04-11 15:39:41,130 - INFO - RuntimeError: Intrinsic -0.14808402949062938. Time 0.24035379346648805. Strike 1.1480840294906294.\n",
      "2019-04-11 15:40:04,295 - INFO - RuntimeError: Intrinsic 0.13537372388889513. Time 0.1650758596479059. Strike 0.8646262761111049.\n",
      "2019-04-11 15:40:17,405 - INFO - RuntimeError: Intrinsic 0.12396558410901293. Time 0.2414623226093411. Strike 0.8760344158909871.\n",
      "2019-04-11 15:40:22,590 - INFO - RuntimeError: Intrinsic 0.1984949316992859. Time 0.19613501934964844. Strike 0.8015050683007141.\n",
      "2019-04-11 15:40:37,074 - INFO - RuntimeError: Intrinsic -0.05597918170354288. Time 0.21312830178902714. Strike 1.0559791817035429.\n",
      "2019-04-11 15:40:40,603 - INFO - RuntimeError: Intrinsic 0.14792295550177692. Time 0.18987980725152964. Strike 0.8520770444982231.\n",
      "2019-04-11 15:40:52,976 - INFO - RuntimeError: Intrinsic 0.058252054179042556. Time 0.2429688040681691. Strike 0.9417479458209574.\n",
      "2019-04-11 15:41:00,323 - INFO - RuntimeError: Intrinsic 0.09941403956041905. Time 0.2442706706463485. Strike 0.900585960439581.\n",
      "2019-04-11 15:41:01,052 - INFO - RuntimeError: Intrinsic 0.22760761357066484. Time 0.23744446044615336. Strike 0.7723923864293352.\n",
      "2019-04-11 15:41:02,833 - INFO - RuntimeError: Intrinsic 0.0836562823076824. Time 0.21942162691599068. Strike 0.9163437176923176.\n",
      "2019-04-11 15:41:08,160 - INFO - RuntimeError: Intrinsic 0.17514695295702032. Time 0.2473452630769783. Strike 0.8248530470429797.\n",
      "2019-04-11 15:41:11,618 - INFO - RuntimeError: Intrinsic 0.12322567138250662. Time 0.2240241328480561. Strike 0.8767743286174934.\n",
      "2019-04-11 15:41:19,923 - INFO - RuntimeError: Intrinsic 0.15387115886602842. Time 0.22466754943338849. Strike 0.8461288411339716.\n",
      "2019-04-11 15:41:22,176 - INFO - RuntimeError: Intrinsic 0.14318933417770208. Time 0.19526619176951326. Strike 0.8568106658222979.\n",
      "2019-04-11 15:41:24,983 - INFO - RuntimeError: Intrinsic 0.023587630110306845. Time 0.2308414444430081. Strike 0.9764123698896932.\n",
      "2019-04-11 15:41:32,192 - INFO - RuntimeError: Intrinsic 0.14753496002893196. Time 0.17951701105863002. Strike 0.852465039971068.\n",
      "2019-04-11 15:41:34,433 - INFO - RuntimeError: Intrinsic 0.18964219531106363. Time 0.12580612964766366. Strike 0.8103578046889364.\n",
      "2019-04-11 15:41:37,735 - INFO - RuntimeError: Intrinsic 0.10620491405481158. Time 0.22685939153913326. Strike 0.8937950859451884.\n",
      "2019-04-11 15:41:52,995 - INFO - RuntimeError: Intrinsic 0.11534365365476407. Time 0.20141341288359088. Strike 0.8846563463452359.\n",
      "2019-04-11 15:42:10,762 - INFO - RuntimeError: Intrinsic 0.21363308364925093. Time 0.2467213315028972. Strike 0.7863669163507491.\n",
      "2019-04-11 15:42:19,077 - INFO - RuntimeError: Intrinsic 0.17571564196466216. Time 0.2431090457432. Strike 0.8242843580353378.\n",
      "2019-04-11 15:42:27,987 - INFO - RuntimeError: Intrinsic -0.18333023348377164. Time 0.1477931071296943. Strike 1.1833302334837716.\n",
      "2019-04-11 15:42:37,887 - INFO - RuntimeError: Intrinsic 0.12912911211253308. Time 0.2482610295192313. Strike 0.8708708878874669.\n",
      "2019-04-11 15:42:45,942 - INFO - RuntimeError: Intrinsic -0.1339918105077038. Time 0.24663850703722545. Strike 1.1339918105077038.\n"
     ]
    },
    {
     "name": "stderr",
     "output_type": "stream",
     "text": [
      "2019-04-11 15:42:51,337 - INFO - RuntimeError: Intrinsic 0.20966912296533813. Time 0.23094263237399196. Strike 0.7903308770346619.\n",
      "2019-04-11 15:42:56,622 - INFO - RuntimeError: Intrinsic 0.20181427036542332. Time 0.2296400829675909. Strike 0.7981857296345767.\n",
      "2019-04-11 15:42:59,091 - INFO - RuntimeError: Intrinsic 0.11262911997602276. Time 0.2273823863289965. Strike 0.8873708800239772.\n",
      "2019-04-11 15:43:00,833 - INFO - RuntimeError: Intrinsic -0.04382848771397718. Time 0.2367391832691283. Strike 1.0438284877139772.\n",
      "2019-04-11 15:43:03,139 - INFO - RuntimeError: Intrinsic 0.1982204104221198. Time 0.1623059953237932. Strike 0.8017795895778802.\n",
      "2019-04-11 15:43:04,788 - INFO - RuntimeError: Intrinsic 0.1379232679945478. Time 0.225122008329934. Strike 0.8620767320054522.\n",
      "2019-04-11 15:43:06,720 - INFO - RuntimeError: Intrinsic 0.17823180058249666. Time 0.19286747547382346. Strike 0.8217681994175033.\n",
      "2019-04-11 15:43:12,837 - INFO - RuntimeError: Intrinsic 0.22044292979177638. Time 0.1950373221566104. Strike 0.7795570702082236.\n",
      "2019-04-11 15:43:24,281 - INFO - RuntimeError: Intrinsic 0.16436131650384356. Time 0.2341538540048964. Strike 0.8356386834961564.\n",
      "2019-04-11 15:43:35,357 - INFO - RuntimeError: Intrinsic -0.03773048814898905. Time 0.23775058174267555. Strike 1.037730488148989.\n",
      "2019-04-11 15:43:38,034 - INFO - RuntimeError: Intrinsic 0.17146945131148894. Time 0.2329880703994495. Strike 0.8285305486885111.\n",
      "2019-04-11 15:43:39,155 - INFO - RuntimeError: Intrinsic 0.06421828588834977. Time 0.2475859909902515. Strike 0.9357817141116502.\n",
      "2019-04-11 15:43:41,103 - INFO - RuntimeError: Intrinsic 0.1929770544313536. Time 0.21183478714351409. Strike 0.8070229455686464.\n",
      "2019-04-11 15:44:05,667 - INFO - RuntimeError: Intrinsic 0.1420501077425812. Time 0.178063884013254. Strike 0.8579498922574188.\n",
      "2019-04-11 15:44:21,703 - INFO - RuntimeError: Intrinsic 0.14194081517974788. Time 0.21919572919894548. Strike 0.8580591848202521.\n",
      "2019-04-11 15:44:28,368 - INFO - RuntimeError: Intrinsic 0.22797208713863215. Time 0.2350231303948465. Strike 0.7720279128613678.\n",
      "2019-04-11 15:44:54,540 - INFO - RuntimeError: Intrinsic 0.23672604133954245. Time 0.031657632342271265. Strike 0.7632739586604576.\n",
      "2019-04-11 15:44:57,455 - INFO - RuntimeError: Intrinsic 0.2043865223331962. Time 0.2355242671280567. Strike 0.7956134776668038.\n",
      "2019-04-11 15:45:13,830 - INFO - RuntimeError: Intrinsic 0.07613448694044278. Time 0.17353138832301676. Strike 0.9238655130595572.\n",
      "2019-04-11 15:45:23,667 - INFO - RuntimeError: Intrinsic 0.22368555859659978. Time 0.24546537450665926. Strike 0.7763144414034002.\n",
      "2019-04-11 15:45:50,623 - INFO - RuntimeError: Intrinsic 0.046153816853409135. Time 0.21283245198423245. Strike 0.9538461831465909.\n",
      "2019-04-11 15:46:03,594 - INFO - RuntimeError: Intrinsic 0.16762422950793987. Time 0.0511071503236068. Strike 0.8323757704920601.\n",
      "2019-04-11 15:46:25,400 - INFO - RuntimeError: Intrinsic 0.2294005433169346. Time 0.24842874039169324. Strike 0.7705994566830654.\n",
      "2019-04-11 15:46:30,268 - INFO - RuntimeError: Intrinsic 0.19678133422708766. Time 0.24581225780476185. Strike 0.8032186657729123.\n",
      "2019-04-11 15:46:34,070 - INFO - RuntimeError: Intrinsic 0.11749103379171089. Time 0.16726260274789728. Strike 0.8825089662082891.\n",
      "2019-04-11 15:46:36,644 - INFO - RuntimeError: Intrinsic -0.10207386484648251. Time 0.18711421612931967. Strike 1.1020738648464825.\n",
      "2019-04-11 15:46:38,615 - INFO - RuntimeError: Intrinsic 0.16866415591834705. Time 0.24537139864090066. Strike 0.831335844081653.\n",
      "2019-04-11 15:46:42,469 - INFO - RuntimeError: Intrinsic 0.24348220743581805. Time 0.2296239406302341. Strike 0.756517792564182.\n",
      "2019-04-11 15:46:46,215 - INFO - RuntimeError: Intrinsic 0.1227062351060717. Time 0.20003584127139126. Strike 0.8772937648939283.\n",
      "2019-04-11 15:46:49,803 - INFO - RuntimeError: Intrinsic 0.22718580864606075. Time 0.0980197911928869. Strike 0.7728141913539393.\n",
      "2019-04-11 15:47:03,089 - INFO - RuntimeError: Intrinsic 0.023770845496513204. Time 0.24779311692568576. Strike 0.9762291545034868.\n",
      "2019-04-11 15:47:23,729 - INFO - RuntimeError: Intrinsic 0.18168682822410498. Time 0.21965006578459076. Strike 0.818313171775895.\n",
      "2019-04-11 15:47:28,070 - INFO - RuntimeError: Intrinsic 0.009549910931503147. Time 0.2480098573111406. Strike 0.9904500890684969.\n",
      "2019-04-11 15:47:28,672 - INFO - RuntimeError: Intrinsic 0.12983148825118507. Time 0.1806773055943487. Strike 0.8701685117488149.\n",
      "2019-04-11 15:47:31,785 - INFO - RuntimeError: Intrinsic -0.10376156696909944. Time 0.1830072697176352. Strike 1.1037615669690994.\n",
      "2019-04-11 15:47:46,039 - INFO - RuntimeError: Intrinsic 0.14308523374676807. Time 0.17372232235967555. Strike 0.8569147662532319.\n",
      "2019-04-11 15:47:52,556 - INFO - RuntimeError: Intrinsic 0.16360004727715494. Time 0.18488077881638285. Strike 0.8363999527228451.\n",
      "2019-04-11 15:48:06,835 - INFO - RuntimeError: Intrinsic 0.2103637104635543. Time 0.13097929796474111. Strike 0.7896362895364457.\n",
      "2019-04-11 15:48:10,012 - INFO - RuntimeError: Intrinsic 0.2119121408619058. Time 0.23563844032327824. Strike 0.7880878591380942.\n",
      "2019-04-11 15:48:16,149 - INFO - RuntimeError: Intrinsic 0.17340359872774946. Time 0.2296029896366601. Strike 0.8265964012722505.\n",
      "2019-04-11 15:48:32,748 - INFO - RuntimeError: Intrinsic 0.03433276668894858. Time 0.1262737721062807. Strike 0.9656672333110514.\n",
      "2019-04-11 15:48:35,069 - INFO - RuntimeError: Intrinsic -0.1007504768816343. Time 0.18010166670838978. Strike 1.1007504768816343.\n",
      "2019-04-11 15:48:37,684 - INFO - RuntimeError: Intrinsic 0.1334980818866105. Time 0.21152223128218986. Strike 0.8665019181133895.\n",
      "2019-04-11 15:48:44,021 - INFO - RuntimeError: Intrinsic 0.17722318298160278. Time 0.24837960433647344. Strike 0.8227768170183972.\n",
      "2019-04-11 15:48:45,204 - INFO - RuntimeError: Intrinsic 0.00767615822806722. Time 0.21432661298119088. Strike 0.9923238417719328.\n",
      "2019-04-11 15:48:48,364 - INFO - RuntimeError: Intrinsic -0.1375024143874346. Time 0.13890366769905071. Strike 1.1375024143874346.\n",
      "2019-04-11 15:49:17,239 - INFO - RuntimeError: Intrinsic -0.05137360829912985. Time 0.24734493425874896. Strike 1.0513736082991298.\n",
      "2019-04-11 15:49:18,817 - INFO - RuntimeError: Intrinsic 0.2408618763517365. Time 0.2186203056301116. Strike 0.7591381236482635.\n",
      "2019-04-11 15:49:24,089 - INFO - RuntimeError: Intrinsic -0.0565759210187502. Time 0.2269063671793902. Strike 1.0565759210187502.\n",
      "2019-04-11 15:49:29,290 - INFO - RuntimeError: Intrinsic 0.13776963964484712. Time 0.21950382905542093. Strike 0.8622303603551529.\n",
      "2019-04-11 15:49:43,127 - INFO - RuntimeError: Intrinsic -0.032803958996457494. Time 0.24760296505395435. Strike 1.0328039589964575.\n",
      "2019-04-11 15:50:08,082 - INFO - RuntimeError: Intrinsic -0.030328721532735914. Time 0.1942867170448705. Strike 1.030328721532736.\n",
      "2019-04-11 15:50:11,592 - INFO - RuntimeError: Intrinsic 0.1387787309066908. Time 0.2477579128513429. Strike 0.8612212690933092.\n",
      "2019-04-11 15:50:23,126 - INFO - RuntimeError: Intrinsic 0.21963206021176307. Time 0.18527117627142803. Strike 0.7803679397882369.\n",
      "2019-04-11 15:50:25,444 - INFO - RuntimeError: Intrinsic 0.022016595824702945. Time 0.2028381642683044. Strike 0.977983404175297.\n",
      "2019-04-11 15:50:33,431 - INFO - RuntimeError: Intrinsic 0.2136423037163695. Time 0.17233270687738494. Strike 0.7863576962836305.\n",
      "2019-04-11 15:50:37,173 - INFO - RuntimeError: Intrinsic 0.12551196432297018. Time 0.23489609451550925. Strike 0.8744880356770298.\n",
      "2019-04-11 15:50:43,123 - INFO - RuntimeError: Intrinsic 0.22169216708945816. Time 0.19501543667306734. Strike 0.7783078329105418.\n",
      "2019-04-11 15:50:54,898 - INFO - RuntimeError: Intrinsic 0.05358739115937883. Time 0.20981749406861028. Strike 0.9464126088406212.\n",
      "2019-04-11 15:50:58,188 - INFO - RuntimeError: Intrinsic -0.03325457711165658. Time 0.24168706475391644. Strike 1.0332545771116566.\n",
      "2019-04-11 15:51:13,555 - INFO - RuntimeError: Intrinsic 0.20679385316803234. Time 0.14714158788620535. Strike 0.7932061468319677.\n",
      "2019-04-11 15:51:21,396 - INFO - RuntimeError: Intrinsic 0.24366589358090873. Time 0.21144687988268535. Strike 0.7563341064190913.\n",
      "2019-04-11 15:51:25,408 - INFO - RuntimeError: Intrinsic 0.19228490211274007. Time 0.173568003390161. Strike 0.8077150978872599.\n"
     ]
    },
    {
     "name": "stderr",
     "output_type": "stream",
     "text": [
      "2019-04-11 15:51:39,591 - INFO - RuntimeError: Intrinsic 0.1972783785495118. Time 0.16587289844882927. Strike 0.8027216214504882.\n",
      "2019-04-11 15:51:43,281 - INFO - RuntimeError: Intrinsic 0.23287945569940716. Time 0.21316527757027354. Strike 0.7671205443005928.\n",
      "2019-04-11 15:51:52,654 - INFO - RuntimeError: Intrinsic 0.043217133913381445. Time 0.20195857824066407. Strike 0.9567828660866186.\n",
      "2019-04-11 15:51:57,084 - INFO - RuntimeError: Intrinsic 0.051155148457763366. Time 0.22808183673212276. Strike 0.9488448515422366.\n",
      "2019-04-11 15:52:11,692 - INFO - RuntimeError: Intrinsic 0.05743387780453124. Time 0.15715945982441493. Strike 0.9425661221954688.\n",
      "2019-04-11 15:52:29,527 - INFO - RuntimeError: Intrinsic 0.03745718489422756. Time 0.17725739983996347. Strike 0.9625428151057724.\n",
      "2019-04-11 15:52:31,476 - INFO - RuntimeError: Intrinsic 0.14942623637112706. Time 0.22306218919464907. Strike 0.8505737636288729.\n",
      "2019-04-11 15:52:39,714 - INFO - RuntimeError: Intrinsic 0.12342185256275617. Time 0.1893708480558828. Strike 0.8765781474372438.\n",
      "2019-04-11 15:53:02,908 - INFO - RuntimeError: Intrinsic 0.08306377051002756. Time 0.24653291878006994. Strike 0.9169362294899724.\n",
      "2019-04-11 15:53:11,458 - INFO - RuntimeError: Intrinsic -0.07276865681445033. Time 0.24247559170018734. Strike 1.0727686568144503.\n",
      "2019-04-11 15:53:16,658 - INFO - RuntimeError: Intrinsic 0.2185302328432175. Time 0.24096877396926605. Strike 0.7814697671567825.\n",
      "2019-04-11 15:53:24,388 - INFO - RuntimeError: Intrinsic 0.21805402861877055. Time 0.22240263728151186. Strike 0.7819459713812295.\n",
      "2019-04-11 15:53:40,854 - INFO - RuntimeError: Intrinsic 0.1006665295367779. Time 0.2471085316476537. Strike 0.8993334704632221.\n",
      "2019-04-11 15:53:44,724 - INFO - RuntimeError: Intrinsic 0.18786622056323732. Time 0.21040013784136968. Strike 0.8121337794367627.\n",
      "2019-04-11 15:53:50,541 - INFO - RuntimeError: Intrinsic 0.22846271342835778. Time 0.14060963918345448. Strike 0.7715372865716422.\n",
      "2019-04-11 15:54:36,146 - INFO - RuntimeError: Intrinsic 0.051904327152035634. Time 0.21791982831609186. Strike 0.9480956728479644.\n",
      "2019-04-11 15:54:46,023 - INFO - RuntimeError: Intrinsic 0.23362521402694236. Time 0.19307906938607644. Strike 0.7663747859730576.\n",
      "2019-04-11 15:54:47,339 - INFO - RuntimeError: Intrinsic 0.11149047699576387. Time 0.23597001272320114. Strike 0.8885095230042361.\n",
      "2019-04-11 15:55:02,085 - INFO - RuntimeError: Intrinsic 0.1674542460189471. Time 0.20110356234938648. Strike 0.8325457539810529.\n",
      "2019-04-11 15:55:10,120 - INFO - RuntimeError: Intrinsic 0.22021741322835742. Time 0.2334216318500498. Strike 0.7797825867716426.\n",
      "2019-04-11 15:55:15,957 - INFO - RuntimeError: Intrinsic 0.1296896798367826. Time 0.19862068623727488. Strike 0.8703103201632174.\n",
      "2019-04-11 15:55:16,820 - INFO - RuntimeError: Intrinsic 0.2242756228810121. Time 0.17887839693541366. Strike 0.7757243771189879.\n",
      "2019-04-11 15:55:26,813 - INFO - RuntimeError: Intrinsic 0.05960673496162261. Time 0.23509990001747025. Strike 0.9403932650383774.\n",
      "2019-04-11 15:55:33,152 - INFO - RuntimeError: Intrinsic -0.08858800603463912. Time 0.23668024925386. Strike 1.0885880060346391.\n",
      "2019-04-11 15:55:35,558 - INFO - RuntimeError: Intrinsic -0.0329638916916295. Time 0.22973997250275324. Strike 1.0329638916916295.\n",
      "2019-04-11 15:55:37,249 - INFO - RuntimeError: Intrinsic 0.11669414257843014. Time 0.2435796102688093. Strike 0.8833058574215699.\n",
      "2019-04-11 15:55:38,581 - INFO - RuntimeError: Intrinsic -0.05946836518500942. Time 0.2249055464751447. Strike 1.0594683651850094.\n",
      "2019-04-11 15:55:40,443 - INFO - RuntimeError: Intrinsic 0.14487890032668282. Time 0.2431691771631349. Strike 0.8551210996733172.\n",
      "2019-04-11 15:55:52,683 - INFO - RuntimeError: Intrinsic 0.1666892374254022. Time 0.2188067952152596. Strike 0.8333107625745978.\n",
      "2019-04-11 15:56:01,484 - INFO - RuntimeError: Intrinsic 0.019345695641326155. Time 0.24765014983666503. Strike 0.9806543043586738.\n",
      "2019-04-11 15:56:09,299 - INFO - RuntimeError: Intrinsic 0.015231986451175072. Time 0.1968123320517715. Strike 0.9847680135488249.\n",
      "2019-04-11 15:56:25,819 - INFO - RuntimeError: Intrinsic 0.14089695876332076. Time 0.2279649304837988. Strike 0.8591030412366792.\n",
      "2019-04-11 15:56:26,333 - INFO - RuntimeError: Intrinsic 0.14031554086839793. Time 0.20500673792351656. Strike 0.8596844591316021.\n",
      "2019-04-11 15:56:41,226 - INFO - RuntimeError: Intrinsic 0.22802039026551912. Time 0.2372400052360817. Strike 0.7719796097344809.\n",
      "2019-04-11 15:56:56,132 - INFO - RuntimeError: Intrinsic 0.2487456015015842. Time 0.22376602907400528. Strike 0.7512543984984158.\n",
      "2019-04-11 15:56:56,623 - INFO - RuntimeError: Intrinsic 0.09854904158169597. Time 0.2386848526330481. Strike 0.901450958418304.\n",
      "2019-04-11 15:56:57,022 - INFO - RuntimeError: Intrinsic -0.15402310085063275. Time 0.20992111796972215. Strike 1.1540231008506328.\n",
      "2019-04-11 15:56:58,564 - INFO - RuntimeError: Intrinsic 0.15372032465469343. Time 0.2326421537780269. Strike 0.8462796753453066.\n",
      "2019-04-11 15:57:07,351 - INFO - RuntimeError: Intrinsic -0.030875396531768073. Time 0.188563394591456. Strike 1.030875396531768.\n",
      "2019-04-11 15:57:11,852 - INFO - RuntimeError: Intrinsic 0.24593692445273463. Time 0.23755265877380016. Strike 0.7540630755472654.\n",
      "2019-04-11 15:57:18,365 - INFO - RuntimeError: Intrinsic 0.12601715828939852. Time 0.1928165247025603. Strike 0.8739828417106015.\n",
      "2019-04-11 15:57:46,656 - INFO - RuntimeError: Intrinsic 0.2219985501490287. Time 0.19459303302890166. Strike 0.7780014498509713.\n",
      "2019-04-11 15:57:54,959 - INFO - RuntimeError: Intrinsic 0.21130799564903358. Time 0.2240830746135781. Strike 0.7886920043509664.\n",
      "2019-04-11 15:57:56,918 - INFO - RuntimeError: Intrinsic -0.1062257154687356. Time 0.20690621204965584. Strike 1.1062257154687356.\n",
      "2019-04-11 15:58:03,151 - INFO - RuntimeError: Intrinsic 0.21951098565398786. Time 0.18058988950601787. Strike 0.7804890143460121.\n",
      "2019-04-11 15:58:07,236 - INFO - RuntimeError: Intrinsic -0.011082818966390962. Time 0.2379130521331281. Strike 1.011082818966391.\n",
      "2019-04-11 15:58:14,120 - INFO - RuntimeError: Intrinsic 0.249039011053787. Time 0.15244079217964815. Strike 0.750960988946213.\n",
      "2019-04-11 15:58:21,021 - INFO - RuntimeError: Intrinsic 0.12733844785607928. Time 0.24966650352502476. Strike 0.8726615521439207.\n",
      "2019-04-11 15:58:27,324 - INFO - RuntimeError: Intrinsic 0.1826028784124598. Time 0.24583634297195076. Strike 0.8173971215875402.\n"
     ]
    }
   ],
   "source": [
    "data_nn['iv'] = data_nn.apply(lambda row: heston_pricer(row['lambda'], row['vbar'], row['eta'], \n",
    "                                                        row['rho'], row['v0'], r, q, \n",
    "                                                        row['Time to Maturity (years)'], S0, row['Moneyness'])[1], axis=1)"
   ]
  },
  {
   "cell_type": "code",
   "execution_count": 59,
   "metadata": {},
   "outputs": [
    {
     "data": {
      "text/plain": [
       "(1000000, 8)"
      ]
     },
     "execution_count": 59,
     "metadata": {},
     "output_type": "execute_result"
    }
   ],
   "source": [
    "data_nn.shape"
   ]
  },
  {
   "cell_type": "code",
   "execution_count": 60,
   "metadata": {},
   "outputs": [],
   "source": [
    "data_nn.dropna(inplace=True)"
   ]
  },
  {
   "cell_type": "code",
   "execution_count": 61,
   "metadata": {},
   "outputs": [
    {
     "data": {
      "text/plain": [
       "(999411, 8)"
      ]
     },
     "execution_count": 61,
     "metadata": {},
     "output_type": "execute_result"
    }
   ],
   "source": [
    "data_nn.shape"
   ]
  },
  {
   "cell_type": "code",
   "execution_count": 63,
   "metadata": {},
   "outputs": [
    {
     "data": {
      "text/plain": [
       "((900000, 8), (45000, 8), (54411, 8))"
      ]
     },
     "execution_count": 63,
     "metadata": {},
     "output_type": "execute_result"
    }
   ],
   "source": [
    "# data_nn = data_nn.iloc[:990000, :]\n",
    "data_nn.reset_index(drop=True, inplace=True)\n",
    "\n",
    "# Dissecting labeled pairs into training, validation and testing sets.\n",
    "\n",
    "data_train, data_val, data_test = np.split(data_nn, [int(9e5), int(9.45e5)], axis=0)\n",
    "\n",
    "data_train.shape, data_val.shape, data_test.shape"
   ]
  },
  {
   "cell_type": "code",
   "execution_count": 64,
   "metadata": {},
   "outputs": [],
   "source": [
    "data_train.to_csv(\"./data/heston/train.csv\", index=False)\n",
    "data_val.to_csv(\"./data/heston/val.csv\", index=False)\n",
    "data_test.to_csv(\"./data/heston/test.csv\", index=False)"
   ]
  },
  {
   "cell_type": "code",
   "execution_count": null,
   "metadata": {},
   "outputs": [],
   "source": []
  },
  {
   "cell_type": "markdown",
   "metadata": {},
   "source": [
    "# Generate rBergomi data"
   ]
  },
  {
   "cell_type": "code",
   "execution_count": 72,
   "metadata": {},
   "outputs": [],
   "source": [
    "import numpy as np\n",
    "from matplotlib import pyplot as plt\n",
    "from rbergomi.rbergomi import rBergomi\n",
    "\n",
    "%matplotlib inline"
   ]
  },
  {
   "cell_type": "code",
   "execution_count": 133,
   "metadata": {},
   "outputs": [],
   "source": [
    "def rBergomi_pricer(H, eta, rho, v0, tau, K, S0, MC_samples=40000):\n",
    "    \"\"\"Computes European Call price under rBergomi dynamics with MC sampling.\n",
    "    \n",
    "    Parameters:\n",
    "    -----------\n",
    "        H: Hurst parameter\n",
    "        eta: volatility of variance\n",
    "        rho: correlation between stock and vol\n",
    "        v0: spot variance\n",
    "        tau: time to maturity in years (365 trading days per year)\n",
    "        K: strike price\n",
    "    \"\"\"\n",
    "    rB = rBergomi(n=365, N=MC_samples, T=tau, a=H-0.5)\n",
    "    dW1, dW2 = rB.dW1(), rB.dW2()\n",
    "    Y = rB.Y(dW1)\n",
    "    dB = rB.dB(dW1, dW2, rho)\n",
    "    xi = v0\n",
    "    V = rB.V(Y, xi, eta)\n",
    "    S = rB.S(V, dB)\n",
    "    ST = S[:, -1]\n",
    "    price = np.mean(np.maximum(ST-K, 0))\n",
    "    \n",
    "    # check numerical stability\n",
    "    if price <= 0 or price + K < S0:\n",
    "        iv = np.nan\n",
    "        logging.debug(\"NumStabProblem: Price {}. Intrinsic {}. Time {}. Strike {}.\".format(price, S0-K, tau, K))\n",
    "    else:\n",
    "        logging.debug(\"Success: Price {} > intrinsic {}\".format(price, S0-K))\n",
    "        iv = implied_volatility(price, S0, K, tau, 0, 'c')\n",
    "    return price, iv"
   ]
  },
  {
   "cell_type": "code",
   "execution_count": 134,
   "metadata": {},
   "outputs": [
    {
     "data": {
      "text/plain": [
       "(0.10285879784408716, 0.14044990909591082)"
      ]
     },
     "execution_count": 134,
     "metadata": {},
     "output_type": "execute_result"
    }
   ],
   "source": [
    "# rBergomi parameters \n",
    "S0 = 1.0\n",
    "H = 0.3\n",
    "eta = 0.3877 \n",
    "rho = -0.7165 \n",
    "v0 = 0.0174 \n",
    "tau = 0.3 \n",
    "K = 0.9\n",
    "q = 0\n",
    "\n",
    "rBergomi_pricer(H, eta, rho, v0, tau, K, S0)"
   ]
  },
  {
   "cell_type": "code",
   "execution_count": 147,
   "metadata": {},
   "outputs": [],
   "source": [
    "n_samples = 100\n",
    "S0 = 1.0\n",
    "\n",
    "# rBergomi parameters\n",
    "H = 0.4\n",
    "eta = 0.3877\n",
    "rho = -0.7165\n",
    "v0 = 0.0174\n",
    "T = 0.05\n",
    "\n",
    "log_moneyness = np.linspace(-0.1, 0.28, n_samples)\n",
    "strikes = np.exp(log_moneyness) * S0\n",
    "\n",
    "# Initialisation of df for labeled data\n",
    "columns = ['Strike','Log Moneyness']\n",
    "df = pd.DataFrame(np.zeros((n_samples, 2)), columns=columns)\n",
    "\n",
    "# Filling in parameter data\n",
    "df['Strike'] = strikes\n",
    "df['Log Moneyness'] = log_moneyness"
   ]
  },
  {
   "cell_type": "code",
   "execution_count": 148,
   "metadata": {},
   "outputs": [],
   "source": [
    "df['Price_IV'] = df['Strike'].apply(lambda K: rBergomi_pricer(H, eta, rho, v0, T, K, S0))"
   ]
  },
  {
   "cell_type": "code",
   "execution_count": 137,
   "metadata": {},
   "outputs": [
    {
     "data": {
      "text/html": [
       "<div>\n",
       "<style scoped>\n",
       "    .dataframe tbody tr th:only-of-type {\n",
       "        vertical-align: middle;\n",
       "    }\n",
       "\n",
       "    .dataframe tbody tr th {\n",
       "        vertical-align: top;\n",
       "    }\n",
       "\n",
       "    .dataframe thead th {\n",
       "        text-align: right;\n",
       "    }\n",
       "</style>\n",
       "<table border=\"1\" class=\"dataframe\">\n",
       "  <thead>\n",
       "    <tr style=\"text-align: right;\">\n",
       "      <th></th>\n",
       "      <th>Strike</th>\n",
       "      <th>Log Moneyness</th>\n",
       "      <th>Price</th>\n",
       "      <th>IV</th>\n",
       "    </tr>\n",
       "  </thead>\n",
       "  <tbody>\n",
       "    <tr>\n",
       "      <th>0</th>\n",
       "      <td>0.904837</td>\n",
       "      <td>-0.100000</td>\n",
       "      <td>0.095212</td>\n",
       "      <td>0.170550</td>\n",
       "    </tr>\n",
       "    <tr>\n",
       "      <th>2</th>\n",
       "      <td>0.911810</td>\n",
       "      <td>-0.092323</td>\n",
       "      <td>0.088203</td>\n",
       "      <td>0.139987</td>\n",
       "    </tr>\n",
       "    <tr>\n",
       "      <th>3</th>\n",
       "      <td>0.915317</td>\n",
       "      <td>-0.088485</td>\n",
       "      <td>0.084740</td>\n",
       "      <td>0.155063</td>\n",
       "    </tr>\n",
       "    <tr>\n",
       "      <th>4</th>\n",
       "      <td>0.918837</td>\n",
       "      <td>-0.084646</td>\n",
       "      <td>0.081212</td>\n",
       "      <td>0.146696</td>\n",
       "    </tr>\n",
       "    <tr>\n",
       "      <th>6</th>\n",
       "      <td>0.925918</td>\n",
       "      <td>-0.076970</td>\n",
       "      <td>0.074110</td>\n",
       "      <td>0.127096</td>\n",
       "    </tr>\n",
       "  </tbody>\n",
       "</table>\n",
       "</div>"
      ],
      "text/plain": [
       "     Strike  Log Moneyness     Price        IV\n",
       "0  0.904837      -0.100000  0.095212  0.170550\n",
       "2  0.911810      -0.092323  0.088203  0.139987\n",
       "3  0.915317      -0.088485  0.084740  0.155063\n",
       "4  0.918837      -0.084646  0.081212  0.146696\n",
       "6  0.925918      -0.076970  0.074110  0.127096"
      ]
     },
     "execution_count": 137,
     "metadata": {},
     "output_type": "execute_result"
    }
   ],
   "source": [
    "df = df.merge(df['Price_IV'].apply(lambda p_iv: pd.Series({'Price': p_iv[0], 'IV': p_iv[1]})), left_index=True, right_index=True)\n",
    "df.drop(['Price_IV'], axis=1, inplace=True)\n",
    "df.dropna(inplace=True)\n",
    "df.head()"
   ]
  },
  {
   "cell_type": "code",
   "execution_count": 138,
   "metadata": {},
   "outputs": [
    {
     "data": {
      "text/plain": [
       "(54, 4)"
      ]
     },
     "execution_count": 138,
     "metadata": {},
     "output_type": "execute_result"
    }
   ],
   "source": [
    "df.shape"
   ]
  },
  {
   "cell_type": "code",
   "execution_count": 139,
   "metadata": {},
   "outputs": [
    {
     "data": {
      "image/png": "[encoded data removed]",
      "text/plain": [
       "<Figure size 432x288 with 1 Axes>"
      ]
     },
     "metadata": {
      "needs_background": "light"
     },
     "output_type": "display_data"
    }
   ],
   "source": [
    "ax = df.plot(x='Log Moneyness', y='IV')\n",
    "plt.show()"
   ]
  },
  {
   "cell_type": "markdown",
   "metadata": {},
   "source": [
    "## rBergomi data for NN"
   ]
  },
  {
   "cell_type": "code",
   "execution_count": 200,
   "metadata": {},
   "outputs": [],
   "source": [
    "K_T = pd.read_csv(\"./data/strike_maturity.csv\", index_col=0)"
   ]
  },
  {
   "cell_type": "code",
   "execution_count": 201,
   "metadata": {},
   "outputs": [
    {
     "data": {
      "text/plain": [
       "(1000000, 2)"
      ]
     },
     "execution_count": 201,
     "metadata": {},
     "output_type": "execute_result"
    }
   ],
   "source": [
    "K_T.shape"
   ]
  },
  {
   "cell_type": "code",
   "execution_count": 202,
   "metadata": {},
   "outputs": [
    {
     "data": {
      "text/html": [
       "<div>\n",
       "<style scoped>\n",
       "    .dataframe tbody tr th:only-of-type {\n",
       "        vertical-align: middle;\n",
       "    }\n",
       "\n",
       "    .dataframe tbody tr th {\n",
       "        vertical-align: top;\n",
       "    }\n",
       "\n",
       "    .dataframe thead th {\n",
       "        text-align: right;\n",
       "    }\n",
       "</style>\n",
       "<table border=\"1\" class=\"dataframe\">\n",
       "  <thead>\n",
       "    <tr style=\"text-align: right;\">\n",
       "      <th></th>\n",
       "      <th>Moneyness</th>\n",
       "      <th>Time to Maturity (years)</th>\n",
       "    </tr>\n",
       "  </thead>\n",
       "  <tbody>\n",
       "    <tr>\n",
       "      <th>0</th>\n",
       "      <td>0.820165</td>\n",
       "      <td>0.219184</td>\n",
       "    </tr>\n",
       "    <tr>\n",
       "      <th>1</th>\n",
       "      <td>0.926490</td>\n",
       "      <td>0.212487</td>\n",
       "    </tr>\n",
       "    <tr>\n",
       "      <th>2</th>\n",
       "      <td>0.834318</td>\n",
       "      <td>0.190719</td>\n",
       "    </tr>\n",
       "    <tr>\n",
       "      <th>3</th>\n",
       "      <td>1.053977</td>\n",
       "      <td>0.226441</td>\n",
       "    </tr>\n",
       "    <tr>\n",
       "      <th>4</th>\n",
       "      <td>0.802749</td>\n",
       "      <td>0.208923</td>\n",
       "    </tr>\n",
       "  </tbody>\n",
       "</table>\n",
       "</div>"
      ],
      "text/plain": [
       "   Moneyness  Time to Maturity (years)\n",
       "0   0.820165                  0.219184\n",
       "1   0.926490                  0.212487\n",
       "2   0.834318                  0.190719\n",
       "3   1.053977                  0.226441\n",
       "4   0.802749                  0.208923"
      ]
     },
     "execution_count": 202,
     "metadata": {},
     "output_type": "execute_result"
    }
   ],
   "source": [
    "K_T.head()"
   ]
  },
  {
   "cell_type": "code",
   "execution_count": 204,
   "metadata": {},
   "outputs": [],
   "source": [
    "# np.random.seed(0)\n",
    "\n",
    "# PARAMETERS\n",
    "n_samples = K_T.shape[0]\n",
    "\n",
    "# Market params\n",
    "S0 = 1."
   ]
  },
  {
   "cell_type": "code",
   "execution_count": 205,
   "metadata": {},
   "outputs": [],
   "source": [
    "def generate_rBergomi_sample(K, T, param_generator, S0=1.0):\n",
    "    counter = 0\n",
    "    while counter < 10:\n",
    "        params = param_generator()\n",
    "        H, eta, rho, v0 = params['H'], params['eta'], params['rho'], params['v0']\n",
    "        _, iv = rBergomi_pricer(H, eta, rho, v0, T, K, S0)\n",
    "        if np.isnan(iv):\n",
    "            counter += 1\n",
    "        else:\n",
    "            break\n",
    "    else:\n",
    "        logging.warning(\"Tried 10 times, none valid sample obtained.\")\n",
    "    sample = {\n",
    "        'H': H,\n",
    "        'eta': eta,\n",
    "        'rho': rho,\n",
    "        'v0': v0,\n",
    "        'iv': iv\n",
    "    }\n",
    "    return sample"
   ]
  },
  {
   "cell_type": "code",
   "execution_count": 206,
   "metadata": {},
   "outputs": [],
   "source": [
    "from scipy.stats import truncnorm"
   ]
  },
  {
   "cell_type": "code",
   "execution_count": 207,
   "metadata": {},
   "outputs": [],
   "source": [
    "from tqdm import tqdm\n",
    "\n",
    "tqdm.pandas()"
   ]
  },
  {
   "cell_type": "code",
   "execution_count": 208,
   "metadata": {},
   "outputs": [],
   "source": [
    "def param_generator(H_generator=truncnorm(-1.2, 8.6, 0.07, 0.05), \n",
    "                    eta_generator=truncnorm(-3, 3, 2.5, 0.5), \n",
    "                    rho_generator=truncnorm(-0.25, 2.25, -0.95, 0.2), \n",
    "                    v0_generator=truncnorm(-2.5, 7, 0.3, 0.1)):\n",
    "    rslt = {\n",
    "        'H': H_generator.rvs(),\n",
    "        'eta': eta_generator.rvs(),\n",
    "        'rho': rho_generator.rvs(),\n",
    "        'v0': v0_generator.rvs()\n",
    "    }\n",
    "    return rslt"
   ]
  },
  {
   "cell_type": "code",
   "execution_count": 209,
   "metadata": {},
   "outputs": [
    {
     "name": "stderr",
     "output_type": "stream",
     "text": [
      "  0%|                                                    | 103/1000000 [02:02<353:38:29,  1.27s/it]"
     ]
    },
    {
     "ename": "KeyboardInterrupt",
     "evalue": "",
     "output_type": "error",
     "traceback": [
      "\u001b[1;31m---------------------------------------------------------------------------\u001b[0m",
      "\u001b[1;31mKeyboardInterrupt\u001b[0m                         Traceback (most recent call last)",
      "\u001b[1;32m<ipython-input-209-c65fa7fc1e1b>\u001b[0m in \u001b[0;36m<module>\u001b[1;34m\u001b[0m\n\u001b[0;32m      1\u001b[0m data_nn = K_T.merge(K_T.progress_apply(\n\u001b[0;32m      2\u001b[0m     \u001b[1;32mlambda\u001b[0m \u001b[0mrow\u001b[0m\u001b[1;33m:\u001b[0m \u001b[0mpd\u001b[0m\u001b[1;33m.\u001b[0m\u001b[0mSeries\u001b[0m\u001b[1;33m(\u001b[0m\u001b[0mgenerate_rBergomi_sample\u001b[0m\u001b[1;33m(\u001b[0m\u001b[0mrow\u001b[0m\u001b[1;33m[\u001b[0m\u001b[1;34m'Moneyness'\u001b[0m\u001b[1;33m]\u001b[0m\u001b[1;33m,\u001b[0m \u001b[0mrow\u001b[0m\u001b[1;33m[\u001b[0m\u001b[1;34m'Time to Maturity (years)'\u001b[0m\u001b[1;33m]\u001b[0m\u001b[1;33m,\u001b[0m \u001b[0mparam_generator\u001b[0m\u001b[1;33m,\u001b[0m \u001b[0mS0\u001b[0m\u001b[1;33m)\u001b[0m\u001b[1;33m)\u001b[0m\u001b[1;33m,\u001b[0m\u001b[1;33m\u001b[0m\u001b[1;33m\u001b[0m\u001b[0m\n\u001b[1;32m----> 3\u001b[1;33m     axis=1), left_index=True, right_index=True)\n\u001b[0m",
      "\u001b[1;32mC:\\ProgramData\\Miniconda3\\lib\\site-packages\\tqdm\\_tqdm.py\u001b[0m in \u001b[0;36minner\u001b[1;34m(df, func, *args, **kwargs)\u001b[0m\n\u001b[0;32m    677\u001b[0m                 \u001b[1;31m# Apply the provided function (in **kwargs)\u001b[0m\u001b[1;33m\u001b[0m\u001b[1;33m\u001b[0m\u001b[1;33m\u001b[0m\u001b[0m\n\u001b[0;32m    678\u001b[0m                 \u001b[1;31m# on the df using our wrapper (which provides bar updating)\u001b[0m\u001b[1;33m\u001b[0m\u001b[1;33m\u001b[0m\u001b[1;33m\u001b[0m\u001b[0m\n\u001b[1;32m--> 679\u001b[1;33m                 \u001b[0mresult\u001b[0m \u001b[1;33m=\u001b[0m \u001b[0mgetattr\u001b[0m\u001b[1;33m(\u001b[0m\u001b[0mdf\u001b[0m\u001b[1;33m,\u001b[0m \u001b[0mdf_function\u001b[0m\u001b[1;33m)\u001b[0m\u001b[1;33m(\u001b[0m\u001b[0mwrapper\u001b[0m\u001b[1;33m,\u001b[0m \u001b[1;33m**\u001b[0m\u001b[0mkwargs\u001b[0m\u001b[1;33m)\u001b[0m\u001b[1;33m\u001b[0m\u001b[1;33m\u001b[0m\u001b[0m\n\u001b[0m\u001b[0;32m    680\u001b[0m \u001b[1;33m\u001b[0m\u001b[0m\n\u001b[0;32m    681\u001b[0m                 \u001b[1;31m# Close bar and return pandas calculation result\u001b[0m\u001b[1;33m\u001b[0m\u001b[1;33m\u001b[0m\u001b[1;33m\u001b[0m\u001b[0m\n",
      "\u001b[1;32mC:\\ProgramData\\Miniconda3\\lib\\site-packages\\pandas-0.24.0-py3.6-win-amd64.egg\\pandas\\core\\frame.py\u001b[0m in \u001b[0;36mapply\u001b[1;34m(self, func, axis, broadcast, raw, reduce, result_type, args, **kwds)\u001b[0m\n\u001b[0;32m   6494\u001b[0m                          \u001b[0margs\u001b[0m\u001b[1;33m=\u001b[0m\u001b[0margs\u001b[0m\u001b[1;33m,\u001b[0m\u001b[1;33m\u001b[0m\u001b[1;33m\u001b[0m\u001b[0m\n\u001b[0;32m   6495\u001b[0m                          kwds=kwds)\n\u001b[1;32m-> 6496\u001b[1;33m         \u001b[1;32mreturn\u001b[0m \u001b[0mop\u001b[0m\u001b[1;33m.\u001b[0m\u001b[0mget_result\u001b[0m\u001b[1;33m(\u001b[0m\u001b[1;33m)\u001b[0m\u001b[1;33m\u001b[0m\u001b[1;33m\u001b[0m\u001b[0m\n\u001b[0m\u001b[0;32m   6497\u001b[0m \u001b[1;33m\u001b[0m\u001b[0m\n\u001b[0;32m   6498\u001b[0m     \u001b[1;32mdef\u001b[0m \u001b[0mapplymap\u001b[0m\u001b[1;33m(\u001b[0m\u001b[0mself\u001b[0m\u001b[1;33m,\u001b[0m \u001b[0mfunc\u001b[0m\u001b[1;33m)\u001b[0m\u001b[1;33m:\u001b[0m\u001b[1;33m\u001b[0m\u001b[1;33m\u001b[0m\u001b[0m\n",
      "\u001b[1;32mC:\\ProgramData\\Miniconda3\\lib\\site-packages\\pandas-0.24.0-py3.6-win-amd64.egg\\pandas\\core\\apply.py\u001b[0m in \u001b[0;36mget_result\u001b[1;34m(self)\u001b[0m\n\u001b[0;32m    149\u001b[0m             \u001b[1;32mreturn\u001b[0m \u001b[0mself\u001b[0m\u001b[1;33m.\u001b[0m\u001b[0mapply_raw\u001b[0m\u001b[1;33m(\u001b[0m\u001b[1;33m)\u001b[0m\u001b[1;33m\u001b[0m\u001b[1;33m\u001b[0m\u001b[0m\n\u001b[0;32m    150\u001b[0m \u001b[1;33m\u001b[0m\u001b[0m\n\u001b[1;32m--> 151\u001b[1;33m         \u001b[1;32mreturn\u001b[0m \u001b[0mself\u001b[0m\u001b[1;33m.\u001b[0m\u001b[0mapply_standard\u001b[0m\u001b[1;33m(\u001b[0m\u001b[1;33m)\u001b[0m\u001b[1;33m\u001b[0m\u001b[1;33m\u001b[0m\u001b[0m\n\u001b[0m\u001b[0;32m    152\u001b[0m \u001b[1;33m\u001b[0m\u001b[0m\n\u001b[0;32m    153\u001b[0m     \u001b[1;32mdef\u001b[0m \u001b[0mapply_empty_result\u001b[0m\u001b[1;33m(\u001b[0m\u001b[0mself\u001b[0m\u001b[1;33m)\u001b[0m\u001b[1;33m:\u001b[0m\u001b[1;33m\u001b[0m\u001b[1;33m\u001b[0m\u001b[0m\n",
      "\u001b[1;32mC:\\ProgramData\\Miniconda3\\lib\\site-packages\\pandas-0.24.0-py3.6-win-amd64.egg\\pandas\\core\\apply.py\u001b[0m in \u001b[0;36mapply_standard\u001b[1;34m(self)\u001b[0m\n\u001b[0;32m    255\u001b[0m \u001b[1;33m\u001b[0m\u001b[0m\n\u001b[0;32m    256\u001b[0m         \u001b[1;31m# compute the result using the series generator\u001b[0m\u001b[1;33m\u001b[0m\u001b[1;33m\u001b[0m\u001b[1;33m\u001b[0m\u001b[0m\n\u001b[1;32m--> 257\u001b[1;33m         \u001b[0mself\u001b[0m\u001b[1;33m.\u001b[0m\u001b[0mapply_series_generator\u001b[0m\u001b[1;33m(\u001b[0m\u001b[1;33m)\u001b[0m\u001b[1;33m\u001b[0m\u001b[1;33m\u001b[0m\u001b[0m\n\u001b[0m\u001b[0;32m    258\u001b[0m \u001b[1;33m\u001b[0m\u001b[0m\n\u001b[0;32m    259\u001b[0m         \u001b[1;31m# wrap results\u001b[0m\u001b[1;33m\u001b[0m\u001b[1;33m\u001b[0m\u001b[1;33m\u001b[0m\u001b[0m\n",
      "\u001b[1;32mC:\\ProgramData\\Miniconda3\\lib\\site-packages\\pandas-0.24.0-py3.6-win-amd64.egg\\pandas\\core\\apply.py\u001b[0m in \u001b[0;36mapply_series_generator\u001b[1;34m(self)\u001b[0m\n\u001b[0;32m    284\u001b[0m             \u001b[1;32mtry\u001b[0m\u001b[1;33m:\u001b[0m\u001b[1;33m\u001b[0m\u001b[1;33m\u001b[0m\u001b[0m\n\u001b[0;32m    285\u001b[0m                 \u001b[1;32mfor\u001b[0m \u001b[0mi\u001b[0m\u001b[1;33m,\u001b[0m \u001b[0mv\u001b[0m \u001b[1;32min\u001b[0m \u001b[0menumerate\u001b[0m\u001b[1;33m(\u001b[0m\u001b[0mseries_gen\u001b[0m\u001b[1;33m)\u001b[0m\u001b[1;33m:\u001b[0m\u001b[1;33m\u001b[0m\u001b[1;33m\u001b[0m\u001b[0m\n\u001b[1;32m--> 286\u001b[1;33m                     \u001b[0mresults\u001b[0m\u001b[1;33m[\u001b[0m\u001b[0mi\u001b[0m\u001b[1;33m]\u001b[0m \u001b[1;33m=\u001b[0m \u001b[0mself\u001b[0m\u001b[1;33m.\u001b[0m\u001b[0mf\u001b[0m\u001b[1;33m(\u001b[0m\u001b[0mv\u001b[0m\u001b[1;33m)\u001b[0m\u001b[1;33m\u001b[0m\u001b[1;33m\u001b[0m\u001b[0m\n\u001b[0m\u001b[0;32m    287\u001b[0m                     \u001b[0mkeys\u001b[0m\u001b[1;33m.\u001b[0m\u001b[0mappend\u001b[0m\u001b[1;33m(\u001b[0m\u001b[0mv\u001b[0m\u001b[1;33m.\u001b[0m\u001b[0mname\u001b[0m\u001b[1;33m)\u001b[0m\u001b[1;33m\u001b[0m\u001b[1;33m\u001b[0m\u001b[0m\n\u001b[0;32m    288\u001b[0m             \u001b[1;32mexcept\u001b[0m \u001b[0mException\u001b[0m \u001b[1;32mas\u001b[0m \u001b[0me\u001b[0m\u001b[1;33m:\u001b[0m\u001b[1;33m\u001b[0m\u001b[1;33m\u001b[0m\u001b[0m\n",
      "\u001b[1;32mC:\\ProgramData\\Miniconda3\\lib\\site-packages\\tqdm\\_tqdm.py\u001b[0m in \u001b[0;36mwrapper\u001b[1;34m(*args, **kwargs)\u001b[0m\n\u001b[0;32m    673\u001b[0m                     \u001b[1;31m# take a fast or slow code path; so stop when t.total==t.n\u001b[0m\u001b[1;33m\u001b[0m\u001b[1;33m\u001b[0m\u001b[1;33m\u001b[0m\u001b[0m\n\u001b[0;32m    674\u001b[0m                     \u001b[0mt\u001b[0m\u001b[1;33m.\u001b[0m\u001b[0mupdate\u001b[0m\u001b[1;33m(\u001b[0m\u001b[0mn\u001b[0m\u001b[1;33m=\u001b[0m\u001b[1;36m1\u001b[0m \u001b[1;32mif\u001b[0m \u001b[1;32mnot\u001b[0m \u001b[0mt\u001b[0m\u001b[1;33m.\u001b[0m\u001b[0mtotal\u001b[0m \u001b[1;32mor\u001b[0m \u001b[0mt\u001b[0m\u001b[1;33m.\u001b[0m\u001b[0mn\u001b[0m \u001b[1;33m<\u001b[0m \u001b[0mt\u001b[0m\u001b[1;33m.\u001b[0m\u001b[0mtotal\u001b[0m \u001b[1;32melse\u001b[0m \u001b[1;36m0\u001b[0m\u001b[1;33m)\u001b[0m\u001b[1;33m\u001b[0m\u001b[1;33m\u001b[0m\u001b[0m\n\u001b[1;32m--> 675\u001b[1;33m                     \u001b[1;32mreturn\u001b[0m \u001b[0mfunc\u001b[0m\u001b[1;33m(\u001b[0m\u001b[1;33m*\u001b[0m\u001b[0margs\u001b[0m\u001b[1;33m,\u001b[0m \u001b[1;33m**\u001b[0m\u001b[0mkwargs\u001b[0m\u001b[1;33m)\u001b[0m\u001b[1;33m\u001b[0m\u001b[1;33m\u001b[0m\u001b[0m\n\u001b[0m\u001b[0;32m    676\u001b[0m \u001b[1;33m\u001b[0m\u001b[0m\n\u001b[0;32m    677\u001b[0m                 \u001b[1;31m# Apply the provided function (in **kwargs)\u001b[0m\u001b[1;33m\u001b[0m\u001b[1;33m\u001b[0m\u001b[1;33m\u001b[0m\u001b[0m\n",
      "\u001b[1;32m<ipython-input-209-c65fa7fc1e1b>\u001b[0m in \u001b[0;36m<lambda>\u001b[1;34m(row)\u001b[0m\n\u001b[0;32m      1\u001b[0m data_nn = K_T.merge(K_T.progress_apply(\n\u001b[1;32m----> 2\u001b[1;33m     \u001b[1;32mlambda\u001b[0m \u001b[0mrow\u001b[0m\u001b[1;33m:\u001b[0m \u001b[0mpd\u001b[0m\u001b[1;33m.\u001b[0m\u001b[0mSeries\u001b[0m\u001b[1;33m(\u001b[0m\u001b[0mgenerate_rBergomi_sample\u001b[0m\u001b[1;33m(\u001b[0m\u001b[0mrow\u001b[0m\u001b[1;33m[\u001b[0m\u001b[1;34m'Moneyness'\u001b[0m\u001b[1;33m]\u001b[0m\u001b[1;33m,\u001b[0m \u001b[0mrow\u001b[0m\u001b[1;33m[\u001b[0m\u001b[1;34m'Time to Maturity (years)'\u001b[0m\u001b[1;33m]\u001b[0m\u001b[1;33m,\u001b[0m \u001b[0mparam_generator\u001b[0m\u001b[1;33m,\u001b[0m \u001b[0mS0\u001b[0m\u001b[1;33m)\u001b[0m\u001b[1;33m)\u001b[0m\u001b[1;33m,\u001b[0m\u001b[1;33m\u001b[0m\u001b[1;33m\u001b[0m\u001b[0m\n\u001b[0m\u001b[0;32m      3\u001b[0m     axis=1), left_index=True, right_index=True)\n",
      "\u001b[1;32m<ipython-input-205-f5d33b2931ae>\u001b[0m in \u001b[0;36mgenerate_rBergomi_sample\u001b[1;34m(K, T, param_generator, S0)\u001b[0m\n\u001b[0;32m      4\u001b[0m         \u001b[0mparams\u001b[0m \u001b[1;33m=\u001b[0m \u001b[0mparam_generator\u001b[0m\u001b[1;33m(\u001b[0m\u001b[1;33m)\u001b[0m\u001b[1;33m\u001b[0m\u001b[1;33m\u001b[0m\u001b[0m\n\u001b[0;32m      5\u001b[0m         \u001b[0mH\u001b[0m\u001b[1;33m,\u001b[0m \u001b[0meta\u001b[0m\u001b[1;33m,\u001b[0m \u001b[0mrho\u001b[0m\u001b[1;33m,\u001b[0m \u001b[0mv0\u001b[0m \u001b[1;33m=\u001b[0m \u001b[0mparams\u001b[0m\u001b[1;33m[\u001b[0m\u001b[1;34m'H'\u001b[0m\u001b[1;33m]\u001b[0m\u001b[1;33m,\u001b[0m \u001b[0mparams\u001b[0m\u001b[1;33m[\u001b[0m\u001b[1;34m'eta'\u001b[0m\u001b[1;33m]\u001b[0m\u001b[1;33m,\u001b[0m \u001b[0mparams\u001b[0m\u001b[1;33m[\u001b[0m\u001b[1;34m'rho'\u001b[0m\u001b[1;33m]\u001b[0m\u001b[1;33m,\u001b[0m \u001b[0mparams\u001b[0m\u001b[1;33m[\u001b[0m\u001b[1;34m'v0'\u001b[0m\u001b[1;33m]\u001b[0m\u001b[1;33m\u001b[0m\u001b[1;33m\u001b[0m\u001b[0m\n\u001b[1;32m----> 6\u001b[1;33m         \u001b[0m_\u001b[0m\u001b[1;33m,\u001b[0m \u001b[0miv\u001b[0m \u001b[1;33m=\u001b[0m \u001b[0mrBergomi_pricer\u001b[0m\u001b[1;33m(\u001b[0m\u001b[0mH\u001b[0m\u001b[1;33m,\u001b[0m \u001b[0meta\u001b[0m\u001b[1;33m,\u001b[0m \u001b[0mrho\u001b[0m\u001b[1;33m,\u001b[0m \u001b[0mv0\u001b[0m\u001b[1;33m,\u001b[0m \u001b[0mT\u001b[0m\u001b[1;33m,\u001b[0m \u001b[0mK\u001b[0m\u001b[1;33m,\u001b[0m \u001b[0mS0\u001b[0m\u001b[1;33m)\u001b[0m\u001b[1;33m\u001b[0m\u001b[1;33m\u001b[0m\u001b[0m\n\u001b[0m\u001b[0;32m      7\u001b[0m         \u001b[1;32mif\u001b[0m \u001b[0mnp\u001b[0m\u001b[1;33m.\u001b[0m\u001b[0misnan\u001b[0m\u001b[1;33m(\u001b[0m\u001b[0miv\u001b[0m\u001b[1;33m)\u001b[0m\u001b[1;33m:\u001b[0m\u001b[1;33m\u001b[0m\u001b[1;33m\u001b[0m\u001b[0m\n\u001b[0;32m      8\u001b[0m             \u001b[0mcounter\u001b[0m \u001b[1;33m+=\u001b[0m \u001b[1;36m1\u001b[0m\u001b[1;33m\u001b[0m\u001b[1;33m\u001b[0m\u001b[0m\n",
      "\u001b[1;32m<ipython-input-133-c441d7595861>\u001b[0m in \u001b[0;36mrBergomi_pricer\u001b[1;34m(H, eta, rho, v0, tau, K, S0, MC_samples)\u001b[0m\n\u001b[0;32m     17\u001b[0m     \u001b[0mxi\u001b[0m \u001b[1;33m=\u001b[0m \u001b[0mv0\u001b[0m\u001b[1;33m\u001b[0m\u001b[1;33m\u001b[0m\u001b[0m\n\u001b[0;32m     18\u001b[0m     \u001b[0mV\u001b[0m \u001b[1;33m=\u001b[0m \u001b[0mrB\u001b[0m\u001b[1;33m.\u001b[0m\u001b[0mV\u001b[0m\u001b[1;33m(\u001b[0m\u001b[0mY\u001b[0m\u001b[1;33m,\u001b[0m \u001b[0mxi\u001b[0m\u001b[1;33m,\u001b[0m \u001b[0meta\u001b[0m\u001b[1;33m)\u001b[0m\u001b[1;33m\u001b[0m\u001b[1;33m\u001b[0m\u001b[0m\n\u001b[1;32m---> 19\u001b[1;33m     \u001b[0mS\u001b[0m \u001b[1;33m=\u001b[0m \u001b[0mrB\u001b[0m\u001b[1;33m.\u001b[0m\u001b[0mS\u001b[0m\u001b[1;33m(\u001b[0m\u001b[0mV\u001b[0m\u001b[1;33m,\u001b[0m \u001b[0mdB\u001b[0m\u001b[1;33m)\u001b[0m\u001b[1;33m\u001b[0m\u001b[1;33m\u001b[0m\u001b[0m\n\u001b[0m\u001b[0;32m     20\u001b[0m     \u001b[0mST\u001b[0m \u001b[1;33m=\u001b[0m \u001b[0mS\u001b[0m\u001b[1;33m[\u001b[0m\u001b[1;33m:\u001b[0m\u001b[1;33m,\u001b[0m \u001b[1;33m-\u001b[0m\u001b[1;36m1\u001b[0m\u001b[1;33m]\u001b[0m\u001b[1;33m\u001b[0m\u001b[1;33m\u001b[0m\u001b[0m\n\u001b[0;32m     21\u001b[0m     \u001b[0mprice\u001b[0m \u001b[1;33m=\u001b[0m \u001b[0mnp\u001b[0m\u001b[1;33m.\u001b[0m\u001b[0mmean\u001b[0m\u001b[1;33m(\u001b[0m\u001b[0mnp\u001b[0m\u001b[1;33m.\u001b[0m\u001b[0mmaximum\u001b[0m\u001b[1;33m(\u001b[0m\u001b[0mST\u001b[0m\u001b[1;33m-\u001b[0m\u001b[0mK\u001b[0m\u001b[1;33m,\u001b[0m \u001b[1;36m0\u001b[0m\u001b[1;33m)\u001b[0m\u001b[1;33m)\u001b[0m\u001b[1;33m\u001b[0m\u001b[1;33m\u001b[0m\u001b[0m\n",
      "\u001b[1;32mD:\\Study\\ENSAE\\ML-Finance\\Calibrating-Rough-Volatility-Models-with-Deep-Learning\\rbergomi\\rbergomi.py\u001b[0m in \u001b[0;36mS\u001b[1;34m(self, V, dB, S0)\u001b[0m\n\u001b[0;32m     99\u001b[0m \u001b[1;33m\u001b[0m\u001b[0m\n\u001b[0;32m    100\u001b[0m         \u001b[1;31m# Construct non-anticipative Riemann increments\u001b[0m\u001b[1;33m\u001b[0m\u001b[1;33m\u001b[0m\u001b[1;33m\u001b[0m\u001b[0m\n\u001b[1;32m--> 101\u001b[1;33m         \u001b[0mincrements\u001b[0m \u001b[1;33m=\u001b[0m \u001b[0mnp\u001b[0m\u001b[1;33m.\u001b[0m\u001b[0msqrt\u001b[0m\u001b[1;33m(\u001b[0m\u001b[0mV\u001b[0m\u001b[1;33m[\u001b[0m\u001b[1;33m:\u001b[0m\u001b[1;33m,\u001b[0m\u001b[1;33m:\u001b[0m\u001b[1;33m-\u001b[0m\u001b[1;36m1\u001b[0m\u001b[1;33m]\u001b[0m\u001b[1;33m)\u001b[0m \u001b[1;33m*\u001b[0m \u001b[0mdB\u001b[0m \u001b[1;33m-\u001b[0m \u001b[1;36m0.5\u001b[0m \u001b[1;33m*\u001b[0m \u001b[0mV\u001b[0m\u001b[1;33m[\u001b[0m\u001b[1;33m:\u001b[0m\u001b[1;33m,\u001b[0m\u001b[1;33m:\u001b[0m\u001b[1;33m-\u001b[0m\u001b[1;36m1\u001b[0m\u001b[1;33m]\u001b[0m \u001b[1;33m*\u001b[0m \u001b[0mdt\u001b[0m\u001b[1;33m\u001b[0m\u001b[1;33m\u001b[0m\u001b[0m\n\u001b[0m\u001b[0;32m    102\u001b[0m \u001b[1;33m\u001b[0m\u001b[0m\n\u001b[0;32m    103\u001b[0m         \u001b[1;31m# Cumsum is a little slower than Python loop.\u001b[0m\u001b[1;33m\u001b[0m\u001b[1;33m\u001b[0m\u001b[1;33m\u001b[0m\u001b[0m\n",
      "\u001b[1;31mKeyboardInterrupt\u001b[0m: "
     ]
    }
   ],
   "source": [
    "data_nn = K_T.merge(K_T.progress_apply(\n",
    "    lambda row: pd.Series(generate_rBergomi_sample(row['Moneyness'], row['Time to Maturity (years)'], param_generator, S0)), \n",
    "    axis=1), left_index=True, right_index=True)"
   ]
  },
  {
   "cell_type": "code",
   "execution_count": null,
   "metadata": {},
   "outputs": [],
   "source": [
    "data_nn.shape"
   ]
  },
  {
   "cell_type": "code",
   "execution_count": 197,
   "metadata": {},
   "outputs": [
    {
     "data": {
      "text/html": [
       "<div>\n",
       "<style scoped>\n",
       "    .dataframe tbody tr th:only-of-type {\n",
       "        vertical-align: middle;\n",
       "    }\n",
       "\n",
       "    .dataframe tbody tr th {\n",
       "        vertical-align: top;\n",
       "    }\n",
       "\n",
       "    .dataframe thead th {\n",
       "        text-align: right;\n",
       "    }\n",
       "</style>\n",
       "<table border=\"1\" class=\"dataframe\">\n",
       "  <thead>\n",
       "    <tr style=\"text-align: right;\">\n",
       "      <th></th>\n",
       "      <th>Moneyness</th>\n",
       "      <th>Time to Maturity (years)</th>\n",
       "      <th>H</th>\n",
       "      <th>eta</th>\n",
       "      <th>rho</th>\n",
       "      <th>v0</th>\n",
       "      <th>iv</th>\n",
       "    </tr>\n",
       "  </thead>\n",
       "  <tbody>\n",
       "    <tr>\n",
       "      <th>0</th>\n",
       "      <td>0.820165</td>\n",
       "      <td>0.219184</td>\n",
       "      <td>0.130827</td>\n",
       "      <td>2.272099</td>\n",
       "      <td>-0.746308</td>\n",
       "      <td>0.346429</td>\n",
       "      <td>0.604637</td>\n",
       "    </tr>\n",
       "    <tr>\n",
       "      <th>1</th>\n",
       "      <td>0.926490</td>\n",
       "      <td>0.212487</td>\n",
       "      <td>0.019188</td>\n",
       "      <td>2.193249</td>\n",
       "      <td>-0.941440</td>\n",
       "      <td>0.482971</td>\n",
       "      <td>0.649088</td>\n",
       "    </tr>\n",
       "    <tr>\n",
       "      <th>2</th>\n",
       "      <td>0.834318</td>\n",
       "      <td>0.190719</td>\n",
       "      <td>0.118592</td>\n",
       "      <td>3.388821</td>\n",
       "      <td>-0.664146</td>\n",
       "      <td>0.171969</td>\n",
       "      <td>0.429591</td>\n",
       "    </tr>\n",
       "    <tr>\n",
       "      <th>3</th>\n",
       "      <td>1.053977</td>\n",
       "      <td>0.226441</td>\n",
       "      <td>0.067560</td>\n",
       "      <td>2.639074</td>\n",
       "      <td>-0.903265</td>\n",
       "      <td>0.391955</td>\n",
       "      <td>0.455982</td>\n",
       "    </tr>\n",
       "    <tr>\n",
       "      <th>4</th>\n",
       "      <td>0.802749</td>\n",
       "      <td>0.208923</td>\n",
       "      <td>0.128161</td>\n",
       "      <td>3.091018</td>\n",
       "      <td>-0.913110</td>\n",
       "      <td>0.283059</td>\n",
       "      <td>0.544700</td>\n",
       "    </tr>\n",
       "    <tr>\n",
       "      <th>5</th>\n",
       "      <td>0.815038</td>\n",
       "      <td>0.184871</td>\n",
       "      <td>0.057282</td>\n",
       "      <td>2.367293</td>\n",
       "      <td>-0.875522</td>\n",
       "      <td>0.252892</td>\n",
       "      <td>0.542829</td>\n",
       "    </tr>\n",
       "    <tr>\n",
       "      <th>6</th>\n",
       "      <td>0.980911</td>\n",
       "      <td>0.238747</td>\n",
       "      <td>0.050566</td>\n",
       "      <td>3.191188</td>\n",
       "      <td>-0.568348</td>\n",
       "      <td>0.366553</td>\n",
       "      <td>0.451591</td>\n",
       "    </tr>\n",
       "    <tr>\n",
       "      <th>7</th>\n",
       "      <td>1.016472</td>\n",
       "      <td>0.163820</td>\n",
       "      <td>0.054318</td>\n",
       "      <td>2.154982</td>\n",
       "      <td>-0.856554</td>\n",
       "      <td>0.312540</td>\n",
       "      <td>0.464676</td>\n",
       "    </tr>\n",
       "    <tr>\n",
       "      <th>8</th>\n",
       "      <td>0.850134</td>\n",
       "      <td>0.236709</td>\n",
       "      <td>0.071937</td>\n",
       "      <td>2.438977</td>\n",
       "      <td>-0.727755</td>\n",
       "      <td>0.252229</td>\n",
       "      <td>0.493235</td>\n",
       "    </tr>\n",
       "    <tr>\n",
       "      <th>9</th>\n",
       "      <td>0.903643</td>\n",
       "      <td>0.242560</td>\n",
       "      <td>0.062889</td>\n",
       "      <td>2.428652</td>\n",
       "      <td>-0.962028</td>\n",
       "      <td>0.215876</td>\n",
       "      <td>0.430546</td>\n",
       "    </tr>\n",
       "  </tbody>\n",
       "</table>\n",
       "</div>"
      ],
      "text/plain": [
       "   Moneyness  Time to Maturity (years)         H       eta       rho  \\\n",
       "0   0.820165                  0.219184  0.130827  2.272099 -0.746308   \n",
       "1   0.926490                  0.212487  0.019188  2.193249 -0.941440   \n",
       "2   0.834318                  0.190719  0.118592  3.388821 -0.664146   \n",
       "3   1.053977                  0.226441  0.067560  2.639074 -0.903265   \n",
       "4   0.802749                  0.208923  0.128161  3.091018 -0.913110   \n",
       "5   0.815038                  0.184871  0.057282  2.367293 -0.875522   \n",
       "6   0.980911                  0.238747  0.050566  3.191188 -0.568348   \n",
       "7   1.016472                  0.163820  0.054318  2.154982 -0.856554   \n",
       "8   0.850134                  0.236709  0.071937  2.438977 -0.727755   \n",
       "9   0.903643                  0.242560  0.062889  2.428652 -0.962028   \n",
       "\n",
       "         v0        iv  \n",
       "0  0.346429  0.604637  \n",
       "1  0.482971  0.649088  \n",
       "2  0.171969  0.429591  \n",
       "3  0.391955  0.455982  \n",
       "4  0.283059  0.544700  \n",
       "5  0.252892  0.542829  \n",
       "6  0.366553  0.451591  \n",
       "7  0.312540  0.464676  \n",
       "8  0.252229  0.493235  \n",
       "9  0.215876  0.430546  "
      ]
     },
     "execution_count": 197,
     "metadata": {},
     "output_type": "execute_result"
    }
   ],
   "source": [
    "data_nn.head()"
   ]
  },
  {
   "cell_type": "code",
   "execution_count": null,
   "metadata": {},
   "outputs": [],
   "source": [
    "data_nn.dropna(inplace=True)"
   ]
  },
  {
   "cell_type": "code",
   "execution_count": null,
   "metadata": {},
   "outputs": [],
   "source": [
    "data_nn.shape"
   ]
  },
  {
   "cell_type": "code",
   "execution_count": null,
   "metadata": {},
   "outputs": [],
   "source": [
    "data_nn.head()"
   ]
  },
  {
   "cell_type": "code",
   "execution_count": null,
   "metadata": {},
   "outputs": [],
   "source": [
    "data_nn.to_csv(\"./data/rBergomi/labled_data_all.csv\", index=False)"
   ]
  },
  {
   "cell_type": "code",
   "execution_count": null,
   "metadata": {},
   "outputs": [],
   "source": [
    "# data_nn = data_nn.iloc[:990000, :]\n",
    "data_nn.reset_index(drop=True, inplace=True)\n",
    "\n",
    "# Dissecting labeled pairs into training, validation and testing sets.\n",
    "\n",
    "data_train, data_val, data_test = np.split(data_nn, [int(9e5), int(9.5e5)], axis=0)\n",
    "\n",
    "data_train.shape, data_val.shape, data_test.shape"
   ]
  },
  {
   "cell_type": "code",
   "execution_count": null,
   "metadata": {},
   "outputs": [],
   "source": [
    "data_train.to_csv(\"./data/heston/train.csv\", index=False)\n",
    "data_val.to_csv(\"./data/heston/val.csv\", index=False)\n",
    "data_test.to_csv(\"./data/heston/test.csv\", index=False)"
   ]
  }
 ],
 "metadata": {
  "kernelspec": {
   "display_name": "Python 3",
   "language": "python",
   "name": "python3"
  },
  "language_info": {
   "codemirror_mode": {
    "name": "ipython",
    "version": 3
   },
   "file_extension": ".py",
   "mimetype": "text/x-python",
   "name": "python",
   "nbconvert_exporter": "python",
   "pygments_lexer": "ipython3",
   "version": "3.6.8"
  }
 },
 "nbformat": 4,
 "nbformat_minor": 2
}
