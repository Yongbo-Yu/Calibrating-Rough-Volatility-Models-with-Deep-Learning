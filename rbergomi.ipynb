{
 "cells": [
  {
   "cell_type": "markdown",
   "metadata": {
    "nbpresent": {
     "id": "b590a017-9bad-4ff8-ac89-d1d90e1ebf09"
    }
   },
   "source": [
    "rBergomi demo\n",
    "=="
   ]
  },
  {
   "cell_type": "markdown",
   "metadata": {},
   "source": [
    "We demonstrate the rough Bergomi (rBergomi) price process introduced by [Bayer, Friz and Gatheral](https://ssrn.com/abstract=2554754), which we define here by"
   ]
  },
  {
   "cell_type": "markdown",
   "metadata": {},
   "source": [
    "$$S_t := \\exp \\left\\{ \\int_0^t \\sqrt{ V_u } \\mathrm{d}B_u - \\frac{1}{2}\\int_0^t V_u \\mathrm{d}u \\right\\},\\quad B_u:=\\rho W_u^1 + \\sqrt{1 - \\rho^2}W_u^2, $$"
   ]
  },
  {
   "cell_type": "markdown",
   "metadata": {},
   "source": [
    "$$V_t := \\xi\\ \\exp \\left\\{ \\eta Y^a_t - \\frac{\\eta^2}{2} t^{2a + 1}\\right\\}, \\quad Y_t^a := \\sqrt{2a + 1} \\int_0^t (t - u)^a  \\mathrm{d}W^1_u,$$"
   ]
  },
  {
   "cell_type": "markdown",
   "metadata": {},
   "source": [
    "for Brownian motion $(W^1, W^2)$. The *hybrid scheme* of [Bennedsen, Lunde and Pakkanen](https://arxiv.org/abs/1507.03004) is used for efficient, $\\mathcal{O}(n\\log n)$, simulation of the Volterra process, $Y_t^a$."
   ]
  },
  {
   "cell_type": "markdown",
   "metadata": {},
   "source": [
    "From $N$ samples of the price process, $\\{S^i_t\\}_{i = 1}^N$ , we show implied volatilities, $\\hat{\\sigma}^N_{BS}(k,t)$,  estimated using the following estimator,"
   ]
  },
  {
   "cell_type": "markdown",
   "metadata": {},
   "source": [
    "$$\\hat{\\sigma}^N_{BS}(k,t)^2 t = BS^{-1}\\left(\\hat{C}_N(k,t)\\right),\\quad \\hat{C}_N(k,t) = \\frac{1}{N}\\sum_{i = 1}^N \\max(S^i_t - e^k, 0),$$"
   ]
  },
  {
   "cell_type": "markdown",
   "metadata": {},
   "source": [
    "as described in [McCrickerd and Pakkanen](https://arxiv.org/abs/1708.02563)."
   ]
  },
  {
   "cell_type": "markdown",
   "metadata": {
    "nbpresent": {
     "id": "4523a2f1-a876-4216-a222-c3e0c4d62e9a"
    }
   },
   "source": [
    "Change directory to folder with rBergomi scripts"
   ]
  },
  {
   "cell_type": "code",
   "execution_count": 1,
   "metadata": {
    "collapsed": true,
    "nbpresent": {
     "id": "d3eb17f0-eba6-4483-b962-9fc62b4ae12b"
    }
   },
   "outputs": [],
   "source": [
    "import os\n",
    "os.chdir('/Users/ryanmccrickerd/desktop/rough_bergomi/rbergomi')"
   ]
  },
  {
   "cell_type": "markdown",
   "metadata": {
    "nbpresent": {
     "id": "d95b28a8-a3ad-42d8-b1de-453db5f619a8"
    }
   },
   "source": [
    "Import required libraries, classes and functions"
   ]
  },
  {
   "cell_type": "code",
   "execution_count": 3,
   "metadata": {
    "nbpresent": {
     "id": "577b9e39-b12e-4ca8-9b95-fdb814c09a91"
    },
    "scrolled": true
   },
   "outputs": [],
   "source": [
    "import numpy as np\n",
    "from matplotlib import pyplot as plt\n",
    "from rbergomi.rbergomi import rBergomi\n",
    "from rbergomi.utils import bsinv\n",
    "vec_bsinv = np.vectorize(bsinv)\n",
    "%matplotlib inline"
   ]
  },
  {
   "cell_type": "markdown",
   "metadata": {
    "nbpresent": {
     "id": "c235967a-8303-4e62-abf1-10e5c7229c9f"
    }
   },
   "source": [
    "Create instance of the rBergomi class with $n$ steps per year, $N$ paths, maximum maturity $T$ and roughness index $a$"
   ]
  },
  {
   "cell_type": "code",
   "execution_count": 4,
   "metadata": {
    "nbpresent": {
     "id": "c6acd2d1-8354-4afc-b6ce-fe12e3358df1"
    }
   },
   "outputs": [],
   "source": [
    "rB = rBergomi(n = 100, N = 30000, T = 1.0, a = -0.43)"
   ]
  },
  {
   "cell_type": "markdown",
   "metadata": {
    "nbpresent": {
     "id": "104e4831-a151-403d-91de-d5190e5f4001"
    }
   },
   "source": [
    "Fix the generator's seed for replicable results"
   ]
  },
  {
   "cell_type": "code",
   "execution_count": 5,
   "metadata": {
    "nbpresent": {
     "id": "1ff02865-583a-4770-a987-c941f24cccc6"
    }
   },
   "outputs": [],
   "source": [
    "np.random.seed(0)"
   ]
  },
  {
   "cell_type": "markdown",
   "metadata": {
    "nbpresent": {
     "id": "6edc32ba-80b0-41e0-a268-bcd279fbf478"
    }
   },
   "source": [
    "Generate required Brownian increments"
   ]
  },
  {
   "cell_type": "code",
   "execution_count": 6,
   "metadata": {
    "nbpresent": {
     "id": "d48220f4-a06c-4182-b6ea-bfdef938934b"
    }
   },
   "outputs": [],
   "source": [
    "dW1 = rB.dW1()\n",
    "dW2 = rB.dW2()"
   ]
  },
  {
   "cell_type": "markdown",
   "metadata": {
    "nbpresent": {
     "id": "fda3303d-3c49-4b89-b4f4-049d78ded1f1"
    }
   },
   "source": [
    "Construct the Volterra process, $$Y_t^a := \\sqrt{2a + 1} \\int_0^t (t - u)^a  \\mathrm{d}W^1_u$$"
   ]
  },
  {
   "cell_type": "code",
   "execution_count": 9,
   "metadata": {},
   "outputs": [
    {
     "data": {
      "text/plain": [
       "((30000, 100, 2), (30000, 100))"
      ]
     },
     "execution_count": 9,
     "metadata": {},
     "output_type": "execute_result"
    }
   ],
   "source": [
    "dW1.shape, dW2.shape"
   ]
  },
  {
   "cell_type": "code",
   "execution_count": 10,
   "metadata": {
    "nbpresent": {
     "id": "5e7430b0-873d-4756-ab2c-f4069dc668b3"
    }
   },
   "outputs": [],
   "source": [
    "Y = rB.Y(dW1)"
   ]
  },
  {
   "cell_type": "code",
   "execution_count": 11,
   "metadata": {},
   "outputs": [
    {
     "data": {
      "text/plain": [
       "(30000, 101)"
      ]
     },
     "execution_count": 11,
     "metadata": {},
     "output_type": "execute_result"
    }
   ],
   "source": [
    "Y.shape"
   ]
  },
  {
   "cell_type": "markdown",
   "metadata": {},
   "source": [
    "Correlate the orthogonal increments, using $\\rho$, $$B_u:=\\rho W_u^1 + \\sqrt{1 - \\rho^2}W_u^2$$"
   ]
  },
  {
   "cell_type": "code",
   "execution_count": 12,
   "metadata": {
    "nbpresent": {
     "id": "f95288a5-2adb-483f-8488-c6ebd08f1027"
    }
   },
   "outputs": [],
   "source": [
    "dB = rB.dB(dW1, dW2, rho = -0.9)"
   ]
  },
  {
   "cell_type": "code",
   "execution_count": 13,
   "metadata": {},
   "outputs": [
    {
     "data": {
      "text/plain": [
       "(30000, 100)"
      ]
     },
     "execution_count": 13,
     "metadata": {},
     "output_type": "execute_result"
    }
   ],
   "source": [
    "dB.shape"
   ]
  },
  {
   "cell_type": "markdown",
   "metadata": {
    "nbpresent": {
     "id": "b39ab489-9218-4ba6-a971-74813f713283"
    }
   },
   "source": [
    "Construct the variance process, using $\\xi$ and $\\eta$, $$V_t := \\xi\\ \\exp \\left\\{ \\eta Y^a_t - \\frac{\\eta^2}{2} t^{2a + 1}\\right\\}$$"
   ]
  },
  {
   "cell_type": "code",
   "execution_count": 14,
   "metadata": {
    "nbpresent": {
     "id": "207584be-40fb-4957-833c-0e11ab89433d"
    }
   },
   "outputs": [],
   "source": [
    "V = rB.V(Y, xi = 0.235**2, eta = 1.9) "
   ]
  },
  {
   "cell_type": "code",
   "execution_count": 15,
   "metadata": {},
   "outputs": [
    {
     "data": {
      "text/plain": [
       "(30000, 101)"
      ]
     },
     "execution_count": 15,
     "metadata": {},
     "output_type": "execute_result"
    }
   ],
   "source": [
    "V.shape"
   ]
  },
  {
   "cell_type": "markdown",
   "metadata": {
    "nbpresent": {
     "id": "83d17e74-5d6a-4f1a-a58d-349d082fb1df"
    }
   },
   "source": [
    "Finally construct the price process, $$S_t := \\exp \\left\\{ \\int_0^t \\sqrt{ V_u } \\mathrm{d}B_u - \\frac{1}{2}\\int_0^t V_u \\mathrm{d}u \\right\\}$$"
   ]
  },
  {
   "cell_type": "code",
   "execution_count": 16,
   "metadata": {
    "nbpresent": {
     "id": "698f4b14-0398-46bb-88aa-c822fcff2ad1"
    }
   },
   "outputs": [],
   "source": [
    "S = rB.S(V, dB)"
   ]
  },
  {
   "cell_type": "code",
   "execution_count": 17,
   "metadata": {},
   "outputs": [
    {
     "data": {
      "text/plain": [
       "(30000, 101)"
      ]
     },
     "execution_count": 17,
     "metadata": {},
     "output_type": "execute_result"
    }
   ],
   "source": [
    "S.shape"
   ]
  },
  {
   "cell_type": "markdown",
   "metadata": {},
   "source": [
    "Now replicate implied volatiliies shared by [Bennedsen, Lunde and Pakkanen](https://arxiv.org/abs/1507.03004). Fix the log-strike range, $k$"
   ]
  },
  {
   "cell_type": "code",
   "execution_count": 18,
   "metadata": {},
   "outputs": [],
   "source": [
    "k = np.arange(-0.5, 0.51, 0.01)"
   ]
  },
  {
   "cell_type": "code",
   "execution_count": 19,
   "metadata": {},
   "outputs": [
    {
     "data": {
      "text/plain": [
       "(101,)"
      ]
     },
     "execution_count": 19,
     "metadata": {},
     "output_type": "execute_result"
    }
   ],
   "source": [
    "k.shape"
   ]
  },
  {
   "cell_type": "markdown",
   "metadata": {},
   "source": [
    "Compute call payoffs, prices, and implied volatilities, $$\\hat{\\sigma}^N_{BS}(k,t)^2 t = BS^{-1}\\left(\\hat{C}_N(k,t)\\right),\\quad \\hat{C}_N(k,t) = \\frac{1}{N}\\sum_{i = 1}^N \\max(S^i_t - e^k, 0)$$"
   ]
  },
  {
   "cell_type": "code",
   "execution_count": 20,
   "metadata": {},
   "outputs": [],
   "source": [
    "ST = S[:,-1][:,np.newaxis]\n",
    "K = np.exp(k)[np.newaxis,:]\n",
    "call_payoffs = np.maximum(ST - K,0)\n",
    "call_prices = np.mean(call_payoffs, axis = 0)[:,np.newaxis]\n",
    "implied_vols = vec_bsinv(call_prices, 1., np.transpose(K), rB.T)"
   ]
  },
  {
   "cell_type": "code",
   "execution_count": 33,
   "metadata": {},
   "outputs": [],
   "source": [
    "ST = S[:, -1]\n",
    "K = 0.2"
   ]
  },
  {
   "cell_type": "code",
   "execution_count": 37,
   "metadata": {},
   "outputs": [
    {
     "data": {
      "text/plain": [
       "0.800146930417611"
      ]
     },
     "execution_count": 37,
     "metadata": {},
     "output_type": "execute_result"
    }
   ],
   "source": [
    "call_prices = np.mean(np.maximum(ST-K, 0))\n",
    "call_prices"
   ]
  },
  {
   "cell_type": "code",
   "execution_count": 38,
   "metadata": {},
   "outputs": [
    {
     "data": {
      "text/plain": [
       "0.5612607681606636"
      ]
     },
     "execution_count": 38,
     "metadata": {},
     "output_type": "execute_result"
    }
   ],
   "source": [
    "bsinv(call_prices, 1., K, rB.T)"
   ]
  },
  {
   "cell_type": "code",
   "execution_count": 31,
   "metadata": {},
   "outputs": [
    {
     "data": {
      "text/plain": [
       "array([0.16576589])"
      ]
     },
     "execution_count": 31,
     "metadata": {},
     "output_type": "execute_result"
    }
   ],
   "source": [
    "implied_vols[-1]"
   ]
  },
  {
   "cell_type": "code",
   "execution_count": 21,
   "metadata": {},
   "outputs": [
    {
     "data": {
      "text/plain": [
       "(30000, 101)"
      ]
     },
     "execution_count": 21,
     "metadata": {},
     "output_type": "execute_result"
    }
   ],
   "source": [
    "call_payoffs.shape"
   ]
  },
  {
   "cell_type": "code",
   "execution_count": 25,
   "metadata": {},
   "outputs": [
    {
     "data": {
      "text/plain": [
       "(101, 1)"
      ]
     },
     "execution_count": 25,
     "metadata": {},
     "output_type": "execute_result"
    }
   ],
   "source": [
    "call_prices.shape"
   ]
  },
  {
   "cell_type": "code",
   "execution_count": 26,
   "metadata": {},
   "outputs": [
    {
     "data": {
      "text/plain": [
       "(1, 101)"
      ]
     },
     "execution_count": 26,
     "metadata": {},
     "output_type": "execute_result"
    }
   ],
   "source": [
    "K.shape"
   ]
  },
  {
   "cell_type": "code",
   "execution_count": 28,
   "metadata": {
    "collapsed": true
   },
   "outputs": [
    {
     "data": {
      "text/plain": [
       "array([[0.32451729],\n",
       "       [0.32217436],\n",
       "       [0.3198138 ],\n",
       "       [0.31742277],\n",
       "       [0.31502701],\n",
       "       [0.31262383],\n",
       "       [0.31021269],\n",
       "       [0.30777318],\n",
       "       [0.30530582],\n",
       "       [0.30281471],\n",
       "       [0.30029511],\n",
       "       [0.29776239],\n",
       "       [0.2952299 ],\n",
       "       [0.29270785],\n",
       "       [0.29019753],\n",
       "       [0.28771888],\n",
       "       [0.2852431 ],\n",
       "       [0.28276118],\n",
       "       [0.28026358],\n",
       "       [0.27775081],\n",
       "       [0.2752198 ],\n",
       "       [0.27268759],\n",
       "       [0.27016007],\n",
       "       [0.26762415],\n",
       "       [0.26507541],\n",
       "       [0.26252561],\n",
       "       [0.25996458],\n",
       "       [0.25739407],\n",
       "       [0.25481427],\n",
       "       [0.25221833],\n",
       "       [0.24962071],\n",
       "       [0.24702298],\n",
       "       [0.24439612],\n",
       "       [0.24175438],\n",
       "       [0.2390959 ],\n",
       "       [0.23642629],\n",
       "       [0.23377538],\n",
       "       [0.23113944],\n",
       "       [0.22848578],\n",
       "       [0.2258425 ],\n",
       "       [0.22318204],\n",
       "       [0.22051576],\n",
       "       [0.21784643],\n",
       "       [0.21519217],\n",
       "       [0.2125197 ],\n",
       "       [0.2098573 ],\n",
       "       [0.20718056],\n",
       "       [0.20450411],\n",
       "       [0.20185465],\n",
       "       [0.19920781],\n",
       "       [0.19655502],\n",
       "       [0.19389938],\n",
       "       [0.19126713],\n",
       "       [0.18865029],\n",
       "       [0.18605833],\n",
       "       [0.18349867],\n",
       "       [0.18097057],\n",
       "       [0.17848575],\n",
       "       [0.17603064],\n",
       "       [0.17367415],\n",
       "       [0.1714006 ],\n",
       "       [0.169205  ],\n",
       "       [0.16710407],\n",
       "       [0.16512124],\n",
       "       [0.1632654 ],\n",
       "       [0.16155671],\n",
       "       [0.1600164 ],\n",
       "       [0.1586043 ],\n",
       "       [0.15735103],\n",
       "       [0.15622553],\n",
       "       [0.15523166],\n",
       "       [0.15434372],\n",
       "       [0.15356257],\n",
       "       [0.15288441],\n",
       "       [0.15233501],\n",
       "       [0.15196725],\n",
       "       [0.15172539],\n",
       "       [0.15152039],\n",
       "       [0.15147157],\n",
       "       [0.1515161 ],\n",
       "       [0.15159231],\n",
       "       [0.15180421],\n",
       "       [0.15213378],\n",
       "       [0.15249738],\n",
       "       [0.15289014],\n",
       "       [0.15346694],\n",
       "       [0.154047  ],\n",
       "       [0.15472477],\n",
       "       [0.15541089],\n",
       "       [0.15610036],\n",
       "       [0.1567878 ],\n",
       "       [0.15750328],\n",
       "       [0.15823461],\n",
       "       [0.15908542],\n",
       "       [0.15983473],\n",
       "       [0.1605796 ],\n",
       "       [0.16140869],\n",
       "       [0.16237231],\n",
       "       [0.16349097],\n",
       "       [0.16460378],\n",
       "       [0.16576589]])"
      ]
     },
     "execution_count": 28,
     "metadata": {},
     "output_type": "execute_result"
    }
   ],
   "source": [
    "implied_vols"
   ]
  },
  {
   "cell_type": "markdown",
   "metadata": {},
   "source": [
    "Plot implied volatilities "
   ]
  },
  {
   "cell_type": "code",
   "execution_count": 29,
   "metadata": {},
   "outputs": [
    {
     "data": {
      "image/png": "[encoded data removed]",
      "text/plain": [
       "<Figure size 432x288 with 1 Axes>"
      ]
     },
     "metadata": {
      "needs_background": "light"
     },
     "output_type": "display_data"
    }
   ],
   "source": [
    "plot, axes = plt.subplots()\n",
    "axes.plot(k,implied_vols, 'r', lw=2)\n",
    "axes.set_xlabel(r'$k$', fontsize=16)\n",
    "axes.set_ylabel(r'$\\sigma_{BS}(k,t=%.2f)$'%rB.T, fontsize=16)\n",
    "title = r'$\\xi=%.3f,\\ \\eta=%.2f,\\ \\rho=%.2f,\\ \\alpha=%.2f $'\n",
    "axes.set_title(title%(rB.xi, rB.eta, rB.rho, rB.a), fontsize=16)\n",
    "plt.grid(True)"
   ]
  },
  {
   "cell_type": "markdown",
   "metadata": {},
   "source": [
    "Now we verify some properties of the processes $Y_t^a$, $V_t$ and $S_t$. Set the number of paths to observe"
   ]
  },
  {
   "cell_type": "code",
   "execution_count": 13,
   "metadata": {
    "collapsed": true
   },
   "outputs": [],
   "source": [
    "paths = 0"
   ]
  },
  {
   "cell_type": "markdown",
   "metadata": {},
   "source": [
    "Firstly compute moments of the Volterra process, $$\\mathbb{E}[Y_t^a] = 0,\\quad \\mathbb{V}\\left[Y_t^a\\right] = t^{2a + 1}$$"
   ]
  },
  {
   "cell_type": "code",
   "execution_count": 14,
   "metadata": {
    "collapsed": true
   },
   "outputs": [],
   "source": [
    "eY1 = 0 * rB.t # Known expectation\n",
    "vY1 = rB.t**(2*rB.a + 1) # Known variance\n",
    "eY2 = np.mean(Y, axis=0, keepdims=True) # Observed expectation\n",
    "vY2 = np.var(Y, axis=0, keepdims=True) # Observed variance"
   ]
  },
  {
   "cell_type": "markdown",
   "metadata": {},
   "source": [
    "and plot these"
   ]
  },
  {
   "cell_type": "code",
   "execution_count": 15,
   "metadata": {},
   "outputs": [
    {
     "data": {
      "image/png": "[encoded data removed]",
      "text/plain": [
       "<matplotlib.figure.Figure at 0x1235fcb38>"
      ]
     },
     "metadata": {},
     "output_type": "display_data"
    }
   ],
   "source": [
    "plot, axes = plt.subplots()\n",
    "axes.plot(rB.t[0,:], eY1[0,:], 'g')\n",
    "axes.plot(rB.t[0,:], vY1[0,:], 'g')\n",
    "axes.plot(rB.t[0,:], eY2[0,:], 'r')\n",
    "axes.plot(rB.t[0,:], vY2[0,:], 'r')\n",
    "if paths > 0:\n",
    "    axes.plot(rB.t[0,:], np.transpose(Y[:paths,:]), lw=0.5)   \n",
    "axes.set_xlabel(r'$t$', fontsize=16)\n",
    "axes.set_ylabel(r'$Y^\\alpha_t$', fontsize=16)\n",
    "plt.grid(True)"
   ]
  },
  {
   "cell_type": "markdown",
   "metadata": {},
   "source": [
    "Now check the expectation of the variance process, $$\\mathbb{E}[V_t] = \\xi$$"
   ]
  },
  {
   "cell_type": "code",
   "execution_count": 16,
   "metadata": {},
   "outputs": [
    {
     "data": {
      "image/png": "[encoded data removed]",
      "text/plain": [
       "<matplotlib.figure.Figure at 0x12420f630>"
      ]
     },
     "metadata": {},
     "output_type": "display_data"
    }
   ],
   "source": [
    "plot, axes = plt.subplots()\n",
    "axes.plot(rB.t[0,:], np.mean(V, axis = 0), 'r')\n",
    "axes.plot(rB.t[0,:], 0.235**2 * np.ones_like(rB.t)[0,:], 'g')\n",
    "if paths > 0:\n",
    "    axes.plot(rB.t[0,:], np.transpose(V[:paths,:]), lw=0.5)   \n",
    "axes.set_xlabel(r'$t$', fontsize=16)\n",
    "axes.set_ylabel(r'$V_t$', fontsize=16)\n",
    "plt.grid(True)"
   ]
  },
  {
   "cell_type": "markdown",
   "metadata": {},
   "source": [
    "and the expectation of price process, $$\\mathbb{E}[S_t] = 1$$"
   ]
  },
  {
   "cell_type": "code",
   "execution_count": 17,
   "metadata": {},
   "outputs": [
    {
     "data": {
      "image/png": "[encoded data removed]",
      "text/plain": [
       "<matplotlib.figure.Figure at 0x1242a6eb8>"
      ]
     },
     "metadata": {},
     "output_type": "display_data"
    }
   ],
   "source": [
    "plot, axes = plt.subplots()\n",
    "axes.plot(rB.t[0,:], np.mean(S, axis = 0), 'r')\n",
    "axes.plot(rB.t[0,:], np.ones_like(rB.t[0,:]), 'g')\n",
    "if paths > 0:\n",
    "    axes.plot(rB.t[0,:], np.transpose(S[:paths,:]), lw=0.5)   \n",
    "axes.set_xlabel(r'$t$', fontsize=16)\n",
    "axes.set_ylabel(r'$S_t$', fontsize=16)\n",
    "plt.grid(True)"
   ]
  },
  {
   "cell_type": "markdown",
   "metadata": {},
   "source": [
    "Finally check the log-price process's expectation, $$-2\\mathbb{E}[\\log{S_t}] = \\int_0^t \\mathbb{E}[V_t]\\mathrm{d}u = \\xi t$$"
   ]
  },
  {
   "cell_type": "code",
   "execution_count": 18,
   "metadata": {
    "scrolled": true
   },
   "outputs": [
    {
     "data": {
      "image/png": "[encoded data removed]",
      "text/plain": [
       "<matplotlib.figure.Figure at 0x122bc8898>"
      ]
     },
     "metadata": {},
     "output_type": "display_data"
    }
   ],
   "source": [
    "plot, axes = plt.subplots()\n",
    "axes.plot(rB.t[0,:], -2*np.mean(np.log(S), axis=0), 'r')\n",
    "axes.plot(rB.t[0,:], 0.235**2 * rB.t[0,:], 'g')\n",
    "if paths > 0:\n",
    "    axes.plot(rB.t[0,:], np.transpose(-2*np.log(S[:paths,:])), lw=0.5)   \n",
    "axes.set_xlabel(r'$t$', fontsize=16)\n",
    "axes.set_ylabel(r'$-2\\ \\log S_t$', fontsize=16)\n",
    "plt.grid(True)"
   ]
  },
  {
   "cell_type": "code",
   "execution_count": null,
   "metadata": {},
   "outputs": [],
   "source": []
  },
  {
   "cell_type": "code",
   "execution_count": null,
   "metadata": {},
   "outputs": [],
   "source": []
  },
  {
   "cell_type": "code",
   "execution_count": 40,
   "metadata": {},
   "outputs": [],
   "source": [
    "import pandas as pd"
   ]
  },
  {
   "cell_type": "code",
   "execution_count": 41,
   "metadata": {},
   "outputs": [],
   "source": [
    "K_T = pd.read_csv(\"./data/strike_maturity.csv\", index_col=0)"
   ]
  },
  {
   "cell_type": "code",
   "execution_count": 42,
   "metadata": {},
   "outputs": [],
   "source": [
    "from tqdm import tqdm"
   ]
  },
  {
   "cell_type": "code",
   "execution_count": null,
   "metadata": {},
   "outputs": [],
   "source": []
  },
  {
   "cell_type": "code",
   "execution_count": 43,
   "metadata": {},
   "outputs": [],
   "source": [
    "tqdm.pandas()"
   ]
  },
  {
   "cell_type": "code",
   "execution_count": 44,
   "metadata": {},
   "outputs": [],
   "source": [
    "K_T_ = K_T.iloc[:1000, :]"
   ]
  },
  {
   "cell_type": "code",
   "execution_count": 45,
   "metadata": {},
   "outputs": [
    {
     "data": {
      "text/html": [
       "<div>\n",
       "<style scoped>\n",
       "    .dataframe tbody tr th:only-of-type {\n",
       "        vertical-align: middle;\n",
       "    }\n",
       "\n",
       "    .dataframe tbody tr th {\n",
       "        vertical-align: top;\n",
       "    }\n",
       "\n",
       "    .dataframe thead th {\n",
       "        text-align: right;\n",
       "    }\n",
       "</style>\n",
       "<table border=\"1\" class=\"dataframe\">\n",
       "  <thead>\n",
       "    <tr style=\"text-align: right;\">\n",
       "      <th></th>\n",
       "      <th>Moneyness</th>\n",
       "      <th>Time to Maturity (years)</th>\n",
       "    </tr>\n",
       "  </thead>\n",
       "  <tbody>\n",
       "    <tr>\n",
       "      <th>0</th>\n",
       "      <td>0.820165</td>\n",
       "      <td>0.219184</td>\n",
       "    </tr>\n",
       "    <tr>\n",
       "      <th>1</th>\n",
       "      <td>0.926490</td>\n",
       "      <td>0.212487</td>\n",
       "    </tr>\n",
       "    <tr>\n",
       "      <th>2</th>\n",
       "      <td>0.834318</td>\n",
       "      <td>0.190719</td>\n",
       "    </tr>\n",
       "    <tr>\n",
       "      <th>3</th>\n",
       "      <td>1.053977</td>\n",
       "      <td>0.226441</td>\n",
       "    </tr>\n",
       "    <tr>\n",
       "      <th>4</th>\n",
       "      <td>0.802749</td>\n",
       "      <td>0.208923</td>\n",
       "    </tr>\n",
       "  </tbody>\n",
       "</table>\n",
       "</div>"
      ],
      "text/plain": [
       "   Moneyness  Time to Maturity (years)\n",
       "0   0.820165                  0.219184\n",
       "1   0.926490                  0.212487\n",
       "2   0.834318                  0.190719\n",
       "3   1.053977                  0.226441\n",
       "4   0.802749                  0.208923"
      ]
     },
     "execution_count": 45,
     "metadata": {},
     "output_type": "execute_result"
    }
   ],
   "source": [
    "K_T_.head()"
   ]
  },
  {
   "cell_type": "code",
   "execution_count": 47,
   "metadata": {},
   "outputs": [
    {
     "name": "stderr",
     "output_type": "stream",
     "text": [
      "100%|████████████████████████████████████████████████████████| 1000/1000 [00:00<00:00, 1514.16it/s]\n"
     ]
    }
   ],
   "source": [
    "data = K_T_.merge(K_T_.progress_apply(lambda row: pd.Series({'sum': sum(row)}), axis=1), left_index=True, right_index=True)"
   ]
  },
  {
   "cell_type": "code",
   "execution_count": 48,
   "metadata": {},
   "outputs": [
    {
     "data": {
      "text/html": [
       "<div>\n",
       "<style scoped>\n",
       "    .dataframe tbody tr th:only-of-type {\n",
       "        vertical-align: middle;\n",
       "    }\n",
       "\n",
       "    .dataframe tbody tr th {\n",
       "        vertical-align: top;\n",
       "    }\n",
       "\n",
       "    .dataframe thead th {\n",
       "        text-align: right;\n",
       "    }\n",
       "</style>\n",
       "<table border=\"1\" class=\"dataframe\">\n",
       "  <thead>\n",
       "    <tr style=\"text-align: right;\">\n",
       "      <th></th>\n",
       "      <th>Moneyness</th>\n",
       "      <th>Time to Maturity (years)</th>\n",
       "      <th>sum</th>\n",
       "    </tr>\n",
       "  </thead>\n",
       "  <tbody>\n",
       "    <tr>\n",
       "      <th>0</th>\n",
       "      <td>0.820165</td>\n",
       "      <td>0.219184</td>\n",
       "      <td>1.039349</td>\n",
       "    </tr>\n",
       "    <tr>\n",
       "      <th>1</th>\n",
       "      <td>0.926490</td>\n",
       "      <td>0.212487</td>\n",
       "      <td>1.138977</td>\n",
       "    </tr>\n",
       "    <tr>\n",
       "      <th>2</th>\n",
       "      <td>0.834318</td>\n",
       "      <td>0.190719</td>\n",
       "      <td>1.025037</td>\n",
       "    </tr>\n",
       "    <tr>\n",
       "      <th>3</th>\n",
       "      <td>1.053977</td>\n",
       "      <td>0.226441</td>\n",
       "      <td>1.280418</td>\n",
       "    </tr>\n",
       "    <tr>\n",
       "      <th>4</th>\n",
       "      <td>0.802749</td>\n",
       "      <td>0.208923</td>\n",
       "      <td>1.011672</td>\n",
       "    </tr>\n",
       "  </tbody>\n",
       "</table>\n",
       "</div>"
      ],
      "text/plain": [
       "   Moneyness  Time to Maturity (years)       sum\n",
       "0   0.820165                  0.219184  1.039349\n",
       "1   0.926490                  0.212487  1.138977\n",
       "2   0.834318                  0.190719  1.025037\n",
       "3   1.053977                  0.226441  1.280418\n",
       "4   0.802749                  0.208923  1.011672"
      ]
     },
     "execution_count": 48,
     "metadata": {},
     "output_type": "execute_result"
    }
   ],
   "source": [
    "data.head()"
   ]
  },
  {
   "cell_type": "code",
   "execution_count": null,
   "metadata": {},
   "outputs": [],
   "source": []
  }
 ],
 "metadata": {
  "anaconda-cloud": {},
  "kernelspec": {
   "display_name": "Python 3",
   "language": "python",
   "name": "python3"
  },
  "language_info": {
   "codemirror_mode": {
    "name": "ipython",
    "version": 3
   },
   "file_extension": ".py",
   "mimetype": "text/x-python",
   "name": "python",
   "nbconvert_exporter": "python",
   "pygments_lexer": "ipython3",
   "version": "3.6.8"
  }
 },
 "nbformat": 4,
 "nbformat_minor": 1
}
